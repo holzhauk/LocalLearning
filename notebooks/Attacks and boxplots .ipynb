{
 "cells": [
  {
   "cell_type": "code",
   "execution_count": 1,
   "id": "fd49b627",
   "metadata": {},
   "outputs": [],
   "source": [
    "import os\n",
    "import torch\n",
    "from torch import Tensor\n",
    "from torch.utils.data import DataLoader\n",
    "from torchvision.transforms import ToTensor\n",
    "from torch import nn\n",
    "from torch.optim import Adam\n",
    "from pathlib import Path\n",
    "from tqdm.notebook import tqdm\n",
    "import numpy as np\n",
    "from matplotlib import pyplot as plt\n",
    "from sklearn.linear_model import LogisticRegression\n",
    "from scipy.optimize import curve_fit \n",
    "\n",
    "# imports of our code \n",
    "from load_models import *\n",
    "import LocalLearning_copy as LocalLearning"
   ]
  },
  {
   "cell_type": "code",
   "execution_count": 2,
   "id": "11e602df",
   "metadata": {},
   "outputs": [],
   "source": [
    "if torch.cuda.is_available():\n",
    "    device = torch.device('cuda')\n",
    "else:\n",
    "    device = torch.device('cpu')"
   ]
  },
  {
   "cell_type": "code",
   "execution_count": 3,
   "id": "37a4f318",
   "metadata": {},
   "outputs": [],
   "source": [
    "# Hyper parameters:\n",
    "BATCH_SIZE = 1000\n",
    "NUMBER_OF_EPOCHS = 1000\n",
    "LEARNING_RATE = 1e-4\n",
    "\n",
    "# loss function\n",
    "ce_loss = torch.nn.CrossEntropyLoss()"
   ]
  },
  {
   "cell_type": "code",
   "execution_count": 4,
   "id": "4245e10a",
   "metadata": {},
   "outputs": [
    {
     "name": "stdout",
     "output_type": "stream",
     "text": [
      "Files already downloaded and verified\n",
      "Files already downloaded and verified\n"
     ]
    }
   ],
   "source": [
    "cifar10Train= LocalLearning.LpUnitCIFAR10(\n",
    "            root=\"../data/CIFAR10\",\n",
    "            train=True,\n",
    "            transform=ToTensor(),\n",
    "            p=3.0,\n",
    "        )\n",
    "\n",
    "cifar10Test= LocalLearning.LpUnitCIFAR10(\n",
    "            root=\"../data/CIFAR10\",\n",
    "            train=False,\n",
    "            transform=ToTensor(),\n",
    "            p=3.0,\n",
    "        )\n",
    "\n",
    "TestLoader = LocalLearning.DeviceDataLoader(\n",
    "            cifar10Test,\n",
    "            device=device,\n",
    "            batch_size=BATCH_SIZE,\n",
    "            num_workers=4,\n",
    "            shuffle=True,\n",
    "        )\n",
    "\n",
    "TrainLoader = LocalLearning.DeviceDataLoader(\n",
    "            cifar10Train,\n",
    "            device=device,\n",
    "            batch_size=BATCH_SIZE,\n",
    "            num_workers=4,\n",
    "            shuffle=True,\n",
    "        )"
   ]
  },
  {
   "cell_type": "code",
   "execution_count": 5,
   "id": "57db0c18",
   "metadata": {},
   "outputs": [],
   "source": [
    "def show_image(features):\n",
    "    \n",
    "    def MinMaxNorm(x: np.array) -> np.array:\n",
    "        mi = np.amin(x)\n",
    "        ma = np.amax(x)\n",
    "        return (x - mi) / (ma - mi)\n",
    "\n",
    "    f_np = features.detach().cpu().numpy()\n",
    "    HM = np.zeros((32, 32, 3))\n",
    "    HM = np.transpose(f_np[42], (0, 1, 2))\n",
    "    HM = MinMaxNorm(HM)\n",
    "    nc = np.max(np.absolute(HM))\n",
    "    fig, ax = plt.subplots()\n",
    "    ax.imshow(HM, vmin=-nc, vmax=+nc)\n",
    "    plt.show()"
   ]
  },
  {
   "cell_type": "code",
   "execution_count": 6,
   "id": "c8ba2e34",
   "metadata": {},
   "outputs": [],
   "source": [
    "def data_critirium(\n",
    "    dataloader,\n",
    "    model, \n",
    "    crit,\n",
    "    thres = None\n",
    "    ):\n",
    "    \n",
    "    # Returns the data and the corresponding labels that meets the critirium given (crit)\n",
    "    \n",
    "    freq_correct = 0\n",
    "    model.eval()\n",
    "    total = 0\n",
    "    \n",
    "    data = torch.zeros((0,32,32,3)).to(device)\n",
    "    lab_data = torch.zeros((0)).to(device)\n",
    "    \n",
    "    for batch_no, (features, labels) in enumerate(dataloader):\n",
    "        preds = model(features)\n",
    "        pred = torch.argmax(preds, dim=-1)\n",
    "        \n",
    "        if crit == \"correct\":\n",
    "            filtr_idx = (torch.abs(pred - labels) == 0)\n",
    "            new_features = features[filtr_idx]\n",
    "            data = torch.cat((data, new_features),dim=0)\n",
    "            new_labels = labels[filtr_idx]\n",
    "            lab_data = torch.cat((lab_data, new_labels),dim=0)\n",
    "        \n",
    "        elif crit == \"correct_thres\":\n",
    "            softmax_correct = (preds[torch.arange(1000),pred])\n",
    "            thres_idx = (softmax_correct >= thres)\n",
    "            correct_idx = (torch.abs(pred - labels) == 0)\n",
    "            filtr_idx = thres_idx & correct_idx \n",
    "            new_features = features[filtr_idx]\n",
    "            data = torch.cat((data, new_features),dim=0)\n",
    "            new_labels = labels[filtr_idx]\n",
    "            lab_data = torch.cat((lab_data, new_labels),dim=0)\n",
    "            \n",
    "        elif crit == \"thres\":\n",
    "            softmax_correct = (preds[torch.arange(1000),pred])\n",
    "            filtr_idx = (softmax_correct >= thres)\n",
    "            new_features = features[filtr_idx]\n",
    "            data = torch.cat((data, new_features),dim=0)\n",
    "            new_labels = labels[filtr_idx]\n",
    "            lab_data = torch.cat((lab_data, new_labels),dim=0)\n",
    "            \n",
    "        else: \n",
    "            raise ValueError(\"Not a valid criterium\")\n",
    "    \n",
    "    return data, lab_data"
   ]
  },
  {
   "cell_type": "code",
   "execution_count": 7,
   "id": "e4cf3558",
   "metadata": {},
   "outputs": [],
   "source": [
    "def crit_eps_fgsm(criterium, model, print_accuracy):\n",
    "    \n",
    "    epslist = [0.0001*i for i in range(1,1000)]\n",
    "    \n",
    "    features, labels = data_critirium(TestLoader, model, criterium)\n",
    "    labels = labels.type(torch.LongTensor).to(device)\n",
    "    features.requires_grad = True\n",
    "    \n",
    "    siz = len(labels)\n",
    "\n",
    "    crit_eps_per_image = torch.ones(siz).to(device)\n",
    "    crit_eps_per_image[:] = epslist[-1]\n",
    "\n",
    "    freq_correct = 0\n",
    "    total = 0 \n",
    "\n",
    "    loss_fn = ce_loss \n",
    "    optimizer = Adam(model.parameters(), lr=LEARNING_RATE)\n",
    "\n",
    "    correct = []\n",
    "    \n",
    "    for eps in epslist:\n",
    "        preds = model(features)\n",
    "        loss = loss_fn(preds, labels)\n",
    "        optimizer.zero_grad()\n",
    "        loss.backward()\n",
    "        perturbed_image = features + eps*features.grad.data.sign()\n",
    "        perturbed_image = torch.clamp(perturbed_image, 0, 1)\n",
    "    \n",
    "        preds_perturbed = torch.argmax(model(perturbed_image), dim=-1)\n",
    "        alike = (preds_perturbed == labels)\n",
    "        freq_correct += (torch.abs(preds_perturbed - labels) == 0).sum()\n",
    "        total += len(labels)\n",
    "\n",
    "        correct.append((freq_correct/total).item())\n",
    "        \n",
    "        mask = (alike == False) & (crit_eps_per_image == epslist[-1])\n",
    "        crit_eps_per_image[mask] = eps\n",
    "        \n",
    "    crit_eps_per_image = np.array(crit_eps_per_image.cpu())\n",
    "        \n",
    "    if print_accuracy == True:\n",
    "        print(f\"{correct[-1]*100:.2f}% is still correctly classified\")\n",
    "        \n",
    "    return crit_eps_per_image "
   ]
  },
  {
   "cell_type": "code",
   "execution_count": 31,
   "id": "5b4f836f",
   "metadata": {},
   "outputs": [],
   "source": [
    "def crit_eps_pgd(criterium, model, print_accuracy):\n",
    "    \n",
    "    features, labels = data_critirium(TestLoader, model, criterium)\n",
    "    labels = labels.type(torch.LongTensor).to(device)\n",
    "    features.requires_grad = True\n",
    "    \n",
    "    siz = len(labels)\n",
    "\n",
    "    crit_eps_per_image = torch.ones(siz).to(device)\n",
    "    crit_eps_per_image[:] = 0.05 #epslist[-1]\n",
    "\n",
    "    freq_correct = 0\n",
    "    total = 0 \n",
    "\n",
    "    num_steps = 5000\n",
    "    loss_fn = ce_loss \n",
    "    step_size = 0.0005\n",
    "    b_norm = 0.05\n",
    "    optimizer = Adam(model.parameters(), lr=LEARNING_RATE)\n",
    "\n",
    "    correct = []\n",
    "\n",
    "    perturbed_image = features \n",
    "\n",
    "    for n in range(num_steps):\n",
    "        preds = model(features)\n",
    "        loss = loss_fn(preds, labels)\n",
    "        optimizer.zero_grad()\n",
    "        loss.backward()\n",
    "\n",
    "        adv_image = perturbed_image + step_size*features.grad.data.sign()\n",
    "        clamp = torch.clamp(adv_image - features, min = -b_norm, max = b_norm)\n",
    "        perturbed_image = torch.clamp(features + clamp, min = 0, max = 1)\n",
    "\n",
    "        preds_perturbed = torch.argmax(model(perturbed_image), dim=-1)\n",
    "        alike = (preds_perturbed == labels)\n",
    "        freq_correct += (torch.abs(preds_perturbed - labels) == 0).sum()\n",
    "        total += len(labels)\n",
    "\n",
    "        correct.append((freq_correct/total).item())\n",
    "\n",
    "        mask = (alike == False) & (crit_eps_per_image == 0.05) #epslist[-1])\n",
    "\n",
    "        x = features.view(features.size(0),-1)\n",
    "        y = perturbed_image.view(perturbed_image.size(0),-1)\n",
    "\n",
    "        eps = torch.abs(torch.mean(x-y,dim=1)).detach()\n",
    "        crit_eps_per_image[mask] = eps[mask]\n",
    "        \n",
    "    crit_eps_per_image = np.array(crit_eps_per_image.cpu())\n",
    "    \n",
    "    if print_accuracy == True:\n",
    "        print(f\"{correct[-1]*100:.2f}% is still correctly classified\")\n",
    "        print(f\"{100*np.sum(crit_eps_per_image == epslist[-1])/siz}% have been correctly classified at every step\")\n",
    "        \n",
    "    # consider adding an if-statement for continuing to attck if the accuracy is to high\n",
    "    # must be the same for both ll and bp model in order to compare \n",
    "\n",
    "    return crit_eps_per_image"
   ]
  },
  {
   "cell_type": "code",
   "execution_count": 24,
   "id": "7acde244",
   "metadata": {},
   "outputs": [],
   "source": [
    "def crit_eps_wn(criterium, model, print_accuracy):\n",
    "    \n",
    "    epslist = [0.001*i for i in range(1,10000,5)] \n",
    "    \n",
    "    features, labels = data_critirium(TestLoader, model, criterium)\n",
    "    labels = labels.type(torch.LongTensor).to(device)\n",
    "    features.requires_grad = True\n",
    "    \n",
    "    siz = len(labels)\n",
    "\n",
    "    crit_eps_per_image = torch.ones(siz).to(device)\n",
    "    crit_eps_per_image[:] = epslist[-1]\n",
    "\n",
    "    freq_correct = 0\n",
    "    total = 0 \n",
    "\n",
    "    labels = labels.type(torch.LongTensor).to(device)\n",
    "\n",
    "    correct = []\n",
    "\n",
    "    for eps in epslist:\n",
    "        noise = torch.randn(features.shape).to(device)\n",
    "        adv_image = features + eps*noise\n",
    "        perturbed_image = torch.clamp(adv_image, min = 0, max = 1)\n",
    "\n",
    "        preds_perturbed = torch.argmax(model(perturbed_image), dim=-1)\n",
    "        alike = (preds_perturbed == labels)\n",
    "        freq_correct += (torch.abs(preds_perturbed - labels) == 0).sum()\n",
    "        total += len(labels)\n",
    "\n",
    "        correct.append((freq_correct/total).item())\n",
    "\n",
    "        mask = (alike == False) & (crit_eps_per_image == epslist[-1])\n",
    "\n",
    "        x = features.view(features.size(0),-1)\n",
    "        y = perturbed_image.view(perturbed_image.size(0),-1)\n",
    "\n",
    "        eps = torch.abs(torch.mean(x-y,dim=1)).detach()\n",
    "        \n",
    "        crit_eps_per_image[mask] = eps[mask]\n",
    "        \n",
    "    crit_eps_per_image = np.array(crit_eps_per_image.cpu())\n",
    "    \n",
    "    if print_accuracy == True:\n",
    "        print(f\"{correct[-1]*100:.2f}% are correctly classified at the last step\")\n",
    "        print(f\"{100*np.sum(crit_eps_per_image == epslist[-1])/siz}% have been correctly classified at every step\")\n",
    "\n",
    "    return crit_eps_per_image"
   ]
  },
  {
   "cell_type": "code",
   "execution_count": 10,
   "id": "ddecd464",
   "metadata": {},
   "outputs": [],
   "source": [
    "def critical_epsilon(criterium, model, attack, print_accuracy = False):\n",
    "    \n",
    "    if attack == \"PGD\":\n",
    "        crit_eps = crit_eps_pgd(criterium, model, print_accuracy)\n",
    "        \n",
    "    elif attack == \"FGSM\":\n",
    "        crit_eps = crit_eps_fgsm(criterium, model, print_accuracy)\n",
    "    \n",
    "    elif attack == \"WN\":\n",
    "        crit_eps = crit_eps_wn(criterium, model, print_accuracy)\n",
    "    \n",
    "    else: \n",
    "        raise ValueError(\"Not a valid attack\")\n",
    "        \n",
    "    return crit_eps"
   ]
  },
  {
   "cell_type": "code",
   "execution_count": 11,
   "id": "4092fb08",
   "metadata": {},
   "outputs": [],
   "source": [
    "def boxplot(ll_crit_eps, bp_crit_eps, attack): \n",
    "\n",
    "    plt.boxplot((ll_crit_eps, bp_crit_eps), showfliers=False)\n",
    "    plt.xticks([1,2],[\"LL\",\"BP\"])\n",
    "    plt.ylabel(\"Critical epsilon\")\n",
    "    plt.title(\"Konstantin model \" + attack + \" attack\")\n",
    "    plt.show()"
   ]
  },
  {
   "cell_type": "code",
   "execution_count": 12,
   "id": "fd7e745e",
   "metadata": {},
   "outputs": [],
   "source": [
    "# functions for downloading models in load_models.py \n",
    "bp_modelK = load_Konstantin_model(\"bp_KHModel_kh_layer_cifar10.pty\",\"bp\")\n",
    "ll_modelK = load_Konstantin_model(\"ll_KHModel_kh_layer_cifar10.pty\",\"ll\")"
   ]
  },
  {
   "cell_type": "code",
   "execution_count": 25,
   "id": "acb5bc60",
   "metadata": {},
   "outputs": [],
   "source": [
    "print_accuracy = True"
   ]
  },
  {
   "cell_type": "code",
   "execution_count": 26,
   "id": "4c9e96da",
   "metadata": {},
   "outputs": [
    {
     "name": "stdout",
     "output_type": "stream",
     "text": [
      "10.84% are correctly classified at the last step\n",
      "0.0% have been correctly classified at every step\n",
      "14.36% are correctly classified at the last step\n",
      "0.0% have been correctly classified at every step\n"
     ]
    },
    {
     "data": {
      "image/png": "[encoded data removed]",
      "text/plain": [
       "<Figure size 640x480 with 1 Axes>"
      ]
     },
     "metadata": {},
     "output_type": "display_data"
    }
   ],
   "source": [
    "criteps_bp = critical_epsilon(\"correct\", bp_modelK, \"WN\", print_accuracy=print_accuracy)\n",
    "criteps_ll = critical_epsilon(\"correct\", ll_modelK, \"WN\", print_accuracy=print_accuracy)\n",
    "boxplot(criteps_ll, criteps_bp, \"WN\")"
   ]
  },
  {
   "cell_type": "code",
   "execution_count": 32,
   "id": "967cdb96",
   "metadata": {},
   "outputs": [
    {
     "ename": "RuntimeError",
     "evalue": "CUDA out of memory. Tried to allocate 40.00 MiB (GPU 0; 23.70 GiB total capacity; 21.50 GiB already allocated; 22.81 MiB free; 22.66 GiB reserved in total by PyTorch) If reserved memory is >> allocated memory try setting max_split_size_mb to avoid fragmentation.  See documentation for Memory Management and PYTORCH_CUDA_ALLOC_CONF",
     "output_type": "error",
     "traceback": [
      "\u001b[0;31m---------------------------------------------------------------------------\u001b[0m",
      "\u001b[0;31mRuntimeError\u001b[0m                              Traceback (most recent call last)",
      "Cell \u001b[0;32mIn[32], line 1\u001b[0m\n\u001b[0;32m----> 1\u001b[0m criteps_bp \u001b[38;5;241m=\u001b[39m \u001b[43mcritical_epsilon\u001b[49m\u001b[43m(\u001b[49m\u001b[38;5;124;43m\"\u001b[39;49m\u001b[38;5;124;43mcorrect\u001b[39;49m\u001b[38;5;124;43m\"\u001b[39;49m\u001b[43m,\u001b[49m\u001b[43m \u001b[49m\u001b[43mbp_modelK\u001b[49m\u001b[43m,\u001b[49m\u001b[43m \u001b[49m\u001b[38;5;124;43m\"\u001b[39;49m\u001b[38;5;124;43mPGD\u001b[39;49m\u001b[38;5;124;43m\"\u001b[39;49m\u001b[43m,\u001b[49m\u001b[43m \u001b[49m\u001b[43mprint_accuracy\u001b[49m\u001b[38;5;241;43m=\u001b[39;49m\u001b[43mprint_accuracy\u001b[49m\u001b[43m)\u001b[49m\n\u001b[1;32m      2\u001b[0m criteps_ll \u001b[38;5;241m=\u001b[39m critical_epsilon(\u001b[38;5;124m\"\u001b[39m\u001b[38;5;124mcorrect\u001b[39m\u001b[38;5;124m\"\u001b[39m, ll_modelK, \u001b[38;5;124m\"\u001b[39m\u001b[38;5;124mPGD\u001b[39m\u001b[38;5;124m\"\u001b[39m, print_accuracy\u001b[38;5;241m=\u001b[39mprint_accuracy)\n\u001b[1;32m      3\u001b[0m boxplot(criteps_ll, criteps_bp, \u001b[38;5;124m\"\u001b[39m\u001b[38;5;124mPGD\u001b[39m\u001b[38;5;124m\"\u001b[39m)\n",
      "Cell \u001b[0;32mIn[10], line 4\u001b[0m, in \u001b[0;36mcritical_epsilon\u001b[0;34m(criterium, model, attack, print_accuracy)\u001b[0m\n\u001b[1;32m      1\u001b[0m \u001b[38;5;28;01mdef\u001b[39;00m \u001b[38;5;21mcritical_epsilon\u001b[39m(criterium, model, attack, print_accuracy \u001b[38;5;241m=\u001b[39m \u001b[38;5;28;01mFalse\u001b[39;00m):\n\u001b[1;32m      3\u001b[0m     \u001b[38;5;28;01mif\u001b[39;00m attack \u001b[38;5;241m==\u001b[39m \u001b[38;5;124m\"\u001b[39m\u001b[38;5;124mPGD\u001b[39m\u001b[38;5;124m\"\u001b[39m:\n\u001b[0;32m----> 4\u001b[0m         crit_eps \u001b[38;5;241m=\u001b[39m \u001b[43mcrit_eps_pgd\u001b[49m\u001b[43m(\u001b[49m\u001b[43mcriterium\u001b[49m\u001b[43m,\u001b[49m\u001b[43m \u001b[49m\u001b[43mmodel\u001b[49m\u001b[43m,\u001b[49m\u001b[43m \u001b[49m\u001b[43mprint_accuracy\u001b[49m\u001b[43m)\u001b[49m\n\u001b[1;32m      6\u001b[0m     \u001b[38;5;28;01melif\u001b[39;00m attack \u001b[38;5;241m==\u001b[39m \u001b[38;5;124m\"\u001b[39m\u001b[38;5;124mFGSM\u001b[39m\u001b[38;5;124m\"\u001b[39m:\n\u001b[1;32m      7\u001b[0m         crit_eps \u001b[38;5;241m=\u001b[39m crit_eps_fgsm(criterium, model, print_accuracy)\n",
      "Cell \u001b[0;32mIn[31], line 3\u001b[0m, in \u001b[0;36mcrit_eps_pgd\u001b[0;34m(criterium, model, print_accuracy)\u001b[0m\n\u001b[1;32m      1\u001b[0m \u001b[38;5;28;01mdef\u001b[39;00m \u001b[38;5;21mcrit_eps_pgd\u001b[39m(criterium, model, print_accuracy):\n\u001b[0;32m----> 3\u001b[0m     features, labels \u001b[38;5;241m=\u001b[39m \u001b[43mdata_critirium\u001b[49m\u001b[43m(\u001b[49m\u001b[43mTestLoader\u001b[49m\u001b[43m,\u001b[49m\u001b[43m \u001b[49m\u001b[43mmodel\u001b[49m\u001b[43m,\u001b[49m\u001b[43m \u001b[49m\u001b[43mcriterium\u001b[49m\u001b[43m)\u001b[49m\n\u001b[1;32m      4\u001b[0m     labels \u001b[38;5;241m=\u001b[39m labels\u001b[38;5;241m.\u001b[39mtype(torch\u001b[38;5;241m.\u001b[39mLongTensor)\u001b[38;5;241m.\u001b[39mto(device)\n\u001b[1;32m      5\u001b[0m     features\u001b[38;5;241m.\u001b[39mrequires_grad \u001b[38;5;241m=\u001b[39m \u001b[38;5;28;01mTrue\u001b[39;00m\n",
      "Cell \u001b[0;32mIn[6], line 24\u001b[0m, in \u001b[0;36mdata_critirium\u001b[0;34m(dataloader, model, crit, thres)\u001b[0m\n\u001b[1;32m     22\u001b[0m filtr_idx \u001b[38;5;241m=\u001b[39m (torch\u001b[38;5;241m.\u001b[39mabs(pred \u001b[38;5;241m-\u001b[39m labels) \u001b[38;5;241m==\u001b[39m \u001b[38;5;241m0\u001b[39m)\n\u001b[1;32m     23\u001b[0m new_features \u001b[38;5;241m=\u001b[39m features[filtr_idx]\n\u001b[0;32m---> 24\u001b[0m data \u001b[38;5;241m=\u001b[39m \u001b[43mtorch\u001b[49m\u001b[38;5;241;43m.\u001b[39;49m\u001b[43mcat\u001b[49m\u001b[43m(\u001b[49m\u001b[43m(\u001b[49m\u001b[43mdata\u001b[49m\u001b[43m,\u001b[49m\u001b[43m \u001b[49m\u001b[43mnew_features\u001b[49m\u001b[43m)\u001b[49m\u001b[43m,\u001b[49m\u001b[43mdim\u001b[49m\u001b[38;5;241;43m=\u001b[39;49m\u001b[38;5;241;43m0\u001b[39;49m\u001b[43m)\u001b[49m\n\u001b[1;32m     25\u001b[0m new_labels \u001b[38;5;241m=\u001b[39m labels[filtr_idx]\n\u001b[1;32m     26\u001b[0m lab_data \u001b[38;5;241m=\u001b[39m torch\u001b[38;5;241m.\u001b[39mcat((lab_data, new_labels),dim\u001b[38;5;241m=\u001b[39m\u001b[38;5;241m0\u001b[39m)\n",
      "\u001b[0;31mRuntimeError\u001b[0m: CUDA out of memory. Tried to allocate 40.00 MiB (GPU 0; 23.70 GiB total capacity; 21.50 GiB already allocated; 22.81 MiB free; 22.66 GiB reserved in total by PyTorch) If reserved memory is >> allocated memory try setting max_split_size_mb to avoid fragmentation.  See documentation for Memory Management and PYTORCH_CUDA_ALLOC_CONF"
     ]
    }
   ],
   "source": [
    "criteps_bp = critical_epsilon(\"correct\", bp_modelK, \"PGD\", print_accuracy=print_accuracy)\n",
    "criteps_ll = critical_epsilon(\"correct\", ll_modelK, \"PGD\", print_accuracy=print_accuracy)\n",
    "boxplot(criteps_ll, criteps_bp, \"PGD\")"
   ]
  },
  {
   "cell_type": "code",
   "execution_count": 20,
   "id": "0561f0f0",
   "metadata": {},
   "outputs": [
    {
     "data": {
      "image/png": "[encoded data removed]",
      "text/plain": [
       "<Figure size 640x480 with 1 Axes>"
      ]
     },
     "metadata": {},
     "output_type": "display_data"
    }
   ],
   "source": [
    "criteps_bp = critical_epsilon(\"correct\", bp_modelK, \"FGSM\", print_accuracy=print_accuracy)\n",
    "criteps_ll = critical_epsilon(\"correct\", ll_modelK, \"FGSM\", print_accuracy=print_accuracy)\n",
    "boxplot(criteps_ll, criteps_bp, \"FGSM\")"
   ]
  }
 ],
 "metadata": {
  "kernelspec": {
   "display_name": "Python [conda env:pytorch] *",
   "language": "python",
   "name": "conda-env-pytorch-py"
  },
  "language_info": {
   "codemirror_mode": {
    "name": "ipython",
    "version": 3
   },
   "file_extension": ".py",
   "mimetype": "text/x-python",
   "name": "python",
   "nbconvert_exporter": "python",
   "pygments_lexer": "ipython3",
   "version": "3.9.1"
  }
 },
 "nbformat": 4,
 "nbformat_minor": 5
}
