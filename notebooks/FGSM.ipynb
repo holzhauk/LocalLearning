{
 "cells": [
  {
   "cell_type": "code",
   "execution_count": 1,
   "id": "c4d555d5",
   "metadata": {},
   "outputs": [],
   "source": [
    "import os\n",
    "\n",
    "import torch\n",
    "from torch import Tensor\n",
    "from torch.utils.data import DataLoader\n",
    "from torchvision.transforms import ToTensor\n",
    "from torch import nn\n",
    "from torch.optim import Adam\n",
    "import sys\n",
    "\n",
    "from pathlib import Path\n",
    "#from context import LocalLearning\n",
    "import LocalLearning_copy as LocalLearning\n",
    "from tqdm.notebook import tqdm\n",
    "import numpy as np\n",
    "from matplotlib import pyplot as plt"
   ]
  },
  {
   "cell_type": "code",
   "execution_count": 2,
   "id": "c52589bc",
   "metadata": {},
   "outputs": [],
   "source": [
    "if torch.cuda.is_available():\n",
    "    device = torch.device('cuda')\n",
    "else:\n",
    "    device = torch.device('cpu')"
   ]
  },
  {
   "cell_type": "code",
   "execution_count": 3,
   "id": "d2cb33d0",
   "metadata": {},
   "outputs": [],
   "source": [
    "llmodels_path = Path(\"../data/models/L3UnitCIFAR10_ensemble\")\n",
    "file_names = os.listdir(llmodels_path)\n",
    "file_names = [fn for fn in file_names if os.path.isfile(llmodels_path / Path(fn))]"
   ]
  },
  {
   "cell_type": "code",
   "execution_count": 4,
   "id": "bdba4e12",
   "metadata": {},
   "outputs": [],
   "source": [
    "# array that encodes whether model satisfies the stringer spectra or not\n",
    "scales_stringer_spectra = np.array([False, False, False,  True, False, False, False, False, False,\n",
    "       False, False, False, False, False, False,  True, False, False,\n",
    "       False, False,  True, False, False, False, False, False, False,\n",
    "       False, False,  True, False, False, False, False,  True,  True,\n",
    "       False, False, False, False, False, False, False, False, False,\n",
    "       False, False, False, False, False, False, False, False, False,\n",
    "       False, False, False, False, False, False, False, False, False,\n",
    "       False, False, False, False, False, False, False, False, False,\n",
    "       False, False, False, False, False, False,  True, False, False,\n",
    "       False, False, False, False, False, False, False, False, False,\n",
    "       False, False, False, False, False, False, False, False, False,\n",
    "       False])\n",
    "\n",
    "# array containing all the filenames that scale stringer\n",
    "file_names_scales_stringer = np.array(file_names)[scales_stringer_spectra]"
   ]
  },
  {
   "cell_type": "code",
   "execution_count": 5,
   "id": "66f5ba7a",
   "metadata": {},
   "outputs": [],
   "source": [
    "# Hyper parameters:\n",
    "BATCH_SIZE = 1000\n",
    "NUMBER_OF_EPOCHS = 1000\n",
    "LEARNING_RATE = 1e-4\n",
    "\n",
    "# loss function\n",
    "ce_loss = torch.nn.CrossEntropyLoss()"
   ]
  },
  {
   "cell_type": "code",
   "execution_count": 6,
   "id": "08123db2",
   "metadata": {},
   "outputs": [
    {
     "name": "stdout",
     "output_type": "stream",
     "text": [
      "Files already downloaded and verified\n",
      "Files already downloaded and verified\n"
     ]
    }
   ],
   "source": [
    "cifar10Train= LocalLearning.LpUnitCIFAR10(\n",
    "            root=\"../data/CIFAR10\",\n",
    "            train=True,\n",
    "            transform=ToTensor(),\n",
    "            p=3.0,\n",
    "        )\n",
    "\n",
    "cifar10Test= LocalLearning.LpUnitCIFAR10(\n",
    "            root=\"../data/CIFAR10\",\n",
    "            train=False,\n",
    "            transform=ToTensor(),\n",
    "            p=3.0,\n",
    "        )\n",
    "\n",
    "TestLoader = LocalLearning.DeviceDataLoader(\n",
    "            cifar10Test,\n",
    "            device=device,\n",
    "            batch_size=BATCH_SIZE,\n",
    "            num_workers=4,\n",
    "            shuffle=True,\n",
    "        )\n",
    "\n",
    "TrainLoader = LocalLearning.DeviceDataLoader(\n",
    "            cifar10Train,\n",
    "            device=device,\n",
    "            batch_size=BATCH_SIZE,\n",
    "            num_workers=4,\n",
    "            shuffle=True,\n",
    "        )"
   ]
  },
  {
   "cell_type": "code",
   "execution_count": 7,
   "id": "245965c0",
   "metadata": {},
   "outputs": [],
   "source": [
    "def train(\n",
    "    data,\n",
    "    test,\n",
    "    model, \n",
    "    loss_fn, \n",
    "    optimizer, \n",
    "    std=None,\n",
    "    no_epochs=NUMBER_OF_EPOCHS,\n",
    "    checkpt_period=1,\n",
    "    loss_history=[],\n",
    "    test_history=[],\n",
    "    ):\n",
    "    with tqdm(range(1, no_epochs + 1), unit=\"epoch\") as tepoch:\n",
    "        tepoch.set_description(f\"Training time [epochs]\")\n",
    "        \n",
    "        for epoch in tepoch:\n",
    "            \n",
    "            cumm_loss = 0.0\n",
    "            model.train()\n",
    "            for batch_no, (features, labels) in enumerate(data):\n",
    "                preds = model(features)\n",
    "                loss = loss_fn(preds, labels)\n",
    "                cumm_loss += loss\n",
    "                optimizer.zero_grad()\n",
    "                loss.backward()\n",
    "                optimizer.step()\n",
    "        \n",
    "            loss_history.append(cumm_loss)\n",
    "            \n",
    "            freq_correct = 0\n",
    "            model.eval()\n",
    "            for batch_no, (features, labels) in enumerate(test):\n",
    "                preds = torch.argmax(model(features), dim=-1)\n",
    "                freq_correct += (torch.abs(preds - labels) == 0).sum()\n",
    "            \n",
    "            test_history.append(freq_correct / (len(test)*test.batch_size))"
   ]
  },
  {
   "cell_type": "code",
   "execution_count": 8,
   "id": "93e9fab3",
   "metadata": {},
   "outputs": [],
   "source": [
    "def train_all_models():\n",
    "\n",
    "    for i in tqdm(range(100)):\n",
    "\n",
    "        model_file = Path(file_names[i])\n",
    "        ll_trained_state = torch.load(llmodels_path / model_file)\n",
    "\n",
    "        khmodel_ll = LocalLearning.KHModel(ll_trained_state)\n",
    "        khmodel_ll.to(device)\n",
    "\n",
    "        khmodel_bp = LocalLearning.KHModel_bp(ll_trained_state)\n",
    "        khmodel_bp.to(device)\n",
    "\n",
    "        khmodel_ll.train()\n",
    "        khmodel_bp.train()\n",
    "\n",
    "        assert khmodel_ll.pSet[\"p\"] == khmodel_bp.pSet[\"p\"], \"Params not the same from start\"\n",
    "\n",
    "\n",
    "        AdamOpt_ll = Adam(khmodel_ll.parameters(), lr=LEARNING_RATE)\n",
    "        AdamOpt_bp = Adam(khmodel_bp.parameters(), lr=LEARNING_RATE)\n",
    "\n",
    "        loss_history_ll = []\n",
    "        accuracy_history_ll = []\n",
    "\n",
    "        train(TrainLoader, TestLoader, khmodel_ll, ce_loss, AdamOpt_ll, loss_history=loss_history_ll, test_history=accuracy_history_ll)\n",
    "\n",
    "        torch.save(\n",
    "        {\n",
    "            \"fkhl3-path\": str(llmodels_path / model_file),\n",
    "            \"fkhl3-state\": ll_trained_state,\n",
    "            \"model_state_dict\": khmodel_ll.state_dict(),\n",
    "            \"loss_history\": loss_history_ll,\n",
    "            \"accuracy_history\": accuracy_history_ll,\n",
    "        },\n",
    "        llmodels_path.parent / Path(\"KHModelCIFAR10_ensemble\") / \"ll\" /Path(\"KHModel_\" + str(model_file)),\n",
    "        )\n",
    "\n",
    "        loss_history_bp = []\n",
    "        accuracy_history_bp = []\n",
    "\n",
    "        train(TrainLoader, TestLoader, khmodel_bp, ce_loss, AdamOpt_bp, loss_history=loss_history_bp, test_history=accuracy_history_bp)\n",
    "\n",
    "        torch.save(\n",
    "        {\n",
    "            \"fkhl3-path\": str(llmodels_path / model_file),\n",
    "            \"fkhl3-state\": ll_trained_state,\n",
    "            \"model_state_dict\": khmodel_bp.state_dict(),\n",
    "            \"loss_history\": loss_history_bp,\n",
    "            \"accuracy_history\": accuracy_history_bp,\n",
    "        },\n",
    "        llmodels_path.parent / Path(\"KHModelCIFAR10_ensemble\") / \"bp\" /Path(\"bp_KHModel_\" + str(model_file)),\n",
    "        )"
   ]
  },
  {
   "cell_type": "code",
   "execution_count": 9,
   "id": "11097db6",
   "metadata": {},
   "outputs": [],
   "source": [
    "#train_all_models()"
   ]
  },
  {
   "cell_type": "code",
   "execution_count": 10,
   "id": "76a509d4",
   "metadata": {},
   "outputs": [
    {
     "ename": "SystemExit",
     "evalue": "",
     "output_type": "error",
     "traceback": [
      "An exception has occurred, use %tb to see the full traceback.\n",
      "\u001b[0;31mSystemExit\u001b[0m\n"
     ]
    },
    {
     "name": "stderr",
     "output_type": "stream",
     "text": [
      "/home/mia/anaconda3/envs/pytorch/lib/python3.9/site-packages/IPython/core/interactiveshell.py:3468: UserWarning: To exit: use 'exit', 'quit', or Ctrl-D.\n",
      "  warn(\"To exit: use 'exit', 'quit', or Ctrl-D.\", stacklevel=1)\n"
     ]
    }
   ],
   "source": [
    "sys.exit()"
   ]
  },
  {
   "cell_type": "code",
   "execution_count": 11,
   "id": "d1bdef74",
   "metadata": {},
   "outputs": [],
   "source": [
    "def plot_acc_loss(loss_history, accuracy_history):\n",
    "    fig, axs = plt.subplots(1, 2)\n",
    "    loss_history_cpu = np.array([a.cpu().detach().numpy() for a in loss_history])\n",
    "    accuracy_history_cpu = np.array([a.cpu().detach().numpy() for a in accuracy_history])\n",
    "    axs[0].plot(loss_history_cpu)\n",
    "    axs[0].set_xlabel(r\"t [epochs]\")\n",
    "    axs[0].set_ylabel(r\"CE(t)\")\n",
    "    axs[1].plot(accuracy_history_cpu)\n",
    "    axs[1].set_xlabel(r\"t [epochs]\")\n",
    "    axs[1].set_ylabel(r\"Accuracy(t)\")"
   ]
  },
  {
   "cell_type": "code",
   "execution_count": 12,
   "id": "3362fb02",
   "metadata": {},
   "outputs": [],
   "source": [
    "def test_attack(\n",
    "    test: DataLoader,\n",
    "    model: LocalLearning.KHModel, \n",
    "    attack,\n",
    "    loss_fn, \n",
    "    optimizer, \n",
    "    eps,\n",
    "    std=None,\n",
    "    ):\n",
    "    \n",
    "    freq_correct = 0\n",
    "    model.eval()\n",
    "    for batch_no, (features, labels) in enumerate(test):\n",
    "        features.requires_grad = True\n",
    "        preds = model(features)\n",
    "        loss = loss_fn(preds, labels)\n",
    "        optimizer.zero_grad()\n",
    "        loss.backward()\n",
    "        perturbed = attack(features,eps)\n",
    "        \n",
    "        preds_perturbed = torch.argmax(model(perturbed), dim=-1)\n",
    "        freq_correct += (torch.abs(preds_perturbed - labels) == 0).sum()\n",
    "        \n",
    "    correct = (freq_correct / (len(test)*test.batch_size)).item()\n",
    "    \n",
    "    return correct"
   ]
  },
  {
   "cell_type": "code",
   "execution_count": 21,
   "id": "aabd998d",
   "metadata": {},
   "outputs": [],
   "source": [
    "def load_trained_models(idx):\n",
    "    trained_model_bp_path = Path(\"../data/models/KHModelCIFAR10_ensemble/bp\")\n",
    "    file_names_trained_bp = os.listdir(trained_model_bp_path)\n",
    "    file_names_trained_bp = [fn for fn in file_names_trained_bp if os.path.isfile(trained_model_bp_path / Path(fn))]\n",
    "    \n",
    "    trained_model_bp = Path(file_names_trained_bp[idx])\n",
    "    \n",
    "    with torch.no_grad():\n",
    "        trained_state_bp = torch.load(trained_model_bp_path/trained_model_bp)\n",
    "        model_ps_bp = trained_state_bp[\"fkhl3-state\"]\n",
    "        model_bp = LocalLearning.KHModel_bp(model_ps_bp)\n",
    "        model_bp.eval()\n",
    "        model_bp.load_state_dict(trained_state_bp[\"model_state_dict\"])\n",
    "        model_bp.to(device)\n",
    "        \n",
    "    trained_model_ll_path = Path(\"../data/models/KHModelCIFAR10_ensemble/ll\")\n",
    "    file_names_trained_ll = os.listdir(trained_model_ll_path)\n",
    "    file_names_trained_ll = [fn for fn in file_names_trained_ll if os.path.isfile(trained_model_ll_path / Path(fn))]\n",
    "    \n",
    "    trained_model_ll = Path(file_names_trained_ll[idx])\n",
    "    \n",
    "    with torch.no_grad():\n",
    "        trained_state_ll = torch.load(trained_model_ll_path/trained_model_ll)\n",
    "        model_ps_ll = trained_state_ll[\"fkhl3-state\"]\n",
    "        model_ll = LocalLearning.KHModel(model_ps_ll)\n",
    "        model_ll.eval()\n",
    "        model_ll.load_state_dict(trained_state_ll[\"model_state_dict\"])\n",
    "        model_ll.to(device)\n",
    "        \n",
    "    return model_bp, model_ll"
   ]
  },
  {
   "cell_type": "code",
   "execution_count": 39,
   "id": "2174cdd7",
   "metadata": {},
   "outputs": [],
   "source": [
    "def FGSM(features, epsilon):\n",
    "    perturbed_image = features + epsilon*features.grad.data.sign()\n",
    "    perturbed_image = torch.clamp(perturbed_image, -1, 1)\n",
    "    return perturbed_image\n",
    "\n",
    "def random_noise(features, epsilon):\n",
    "    torch.manual_seed(7)\n",
    "    noise = torch.normal(0,0.3,(features.shape)).to(device)\n",
    "    perturbed_image = features + epsilon*noise\n",
    "    perturbed_image = torch.clamp(perturbed_image, -1, 1)\n",
    "    return perturbed_image"
   ]
  },
  {
   "cell_type": "code",
   "execution_count": 40,
   "id": "93ec9276",
   "metadata": {},
   "outputs": [],
   "source": [
    "def plot_attack(model_bp,model_ll, attack, optim_bp, optim_ll):\n",
    "    \n",
    "    th_list_bp = []\n",
    "    th_list_ll = []\n",
    "    \n",
    "    if attack == FGSM:\n",
    "        title = \"FGSM\"\n",
    "        eps_list = np.array([0.001*i for i in range(20)])\n",
    "    else:\n",
    "        title = \"Random noise\"\n",
    "        eps_list = np.array([0.1*i for i in range(20)])\n",
    "    \n",
    "    for eps in eps_list:\n",
    "        th_bp = test_attack(TestLoader, model_bp, attack, ce_loss, optim_bp, eps)\n",
    "        th_list_bp.append(th_bp)\n",
    "        th_ll = test_attack(TestLoader, model_ll, attack, ce_loss, optim_ll, eps)\n",
    "        th_list_ll.append(th_ll)\n",
    "\n",
    "    plt.plot(eps_list,th_list_bp,c=\"r\")\n",
    "    plt.plot(eps_list,th_list_ll,c=\"b\")\n",
    "    plt.ylabel(\"Accuracy (eps)\")\n",
    "    plt.xlabel(\"Epsilon\")\n",
    "    plt.title(title)"
   ]
  },
  {
   "cell_type": "code",
   "execution_count": 42,
   "id": "0a6ccf9b",
   "metadata": {},
   "outputs": [
    {
     "data": {
      "image/png": "[encoded data removed]",
      "text/plain": [
       "<Figure size 640x480 with 1 Axes>"
      ]
     },
     "metadata": {},
     "output_type": "display_data"
    }
   ],
   "source": [
    "def plot_all_attacks(attack):\n",
    "    for i in range(100):\n",
    "        mbp, mll = load_trained_models(i)\n",
    "        AdamOpt_ll = Adam(mll.parameters(), lr=LEARNING_RATE)\n",
    "        AdamOpt_bp = Adam(mbp.parameters(), lr=LEARNING_RATE)\n",
    "        plot_attack(mbp,mll,attack,AdamOpt_bp, AdamOpt_ll)\n",
    "\n",
    "    plt.show()\n",
    "    \n",
    "plot_all_attacks(FGSM)"
   ]
  }
 ],
 "metadata": {
  "kernelspec": {
   "display_name": "Python [conda env:pytorch] *",
   "language": "python",
   "name": "conda-env-pytorch-py"
  },
  "language_info": {
   "codemirror_mode": {
    "name": "ipython",
    "version": 3
   },
   "file_extension": ".py",
   "mimetype": "text/x-python",
   "name": "python",
   "nbconvert_exporter": "python",
   "pygments_lexer": "ipython3",
   "version": "3.9.1"
  }
 },
 "nbformat": 4,
 "nbformat_minor": 5
}
