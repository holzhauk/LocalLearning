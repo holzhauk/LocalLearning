{
 "cells": [
  {
   "cell_type": "code",
   "execution_count": 1,
   "id": "f311fbd4",
   "metadata": {},
   "outputs": [],
   "source": [
    "import os\n",
    "\n",
    "import torch\n",
    "from torch import Tensor\n",
    "from torch.utils.data import DataLoader\n",
    "from torchvision.transforms import ToTensor\n",
    "from torch import nn\n",
    "from torch.optim import Adam\n",
    "\n",
    "from pathlib import Path\n",
    "import LocalLearning_copy as LocalLearning\n",
    "from tqdm.notebook import tqdm\n",
    "import numpy as np\n",
    "from matplotlib import pyplot as plt\n",
    "from sklearn.linear_model import LogisticRegression\n",
    "from scipy.optimize import curve_fit \n",
    "\n",
    "# "
   ]
  },
  {
   "cell_type": "code",
   "execution_count": 2,
   "id": "1711c583",
   "metadata": {},
   "outputs": [],
   "source": [
    "if torch.cuda.is_available():\n",
    "    device = torch.device('cuda')\n",
    "else:\n",
    "    device = torch.device('cpu')"
   ]
  },
  {
   "cell_type": "code",
   "execution_count": 3,
   "id": "8542c9d4",
   "metadata": {},
   "outputs": [],
   "source": [
    "# Hyper parameters:\n",
    "BATCH_SIZE = 1000\n",
    "NUMBER_OF_EPOCHS = 1000\n",
    "LEARNING_RATE = 1e-4\n",
    "\n",
    "# loss function\n",
    "ce_loss = torch.nn.CrossEntropyLoss()"
   ]
  },
  {
   "cell_type": "code",
   "execution_count": 4,
   "id": "9c3290c0",
   "metadata": {},
   "outputs": [
    {
     "name": "stdout",
     "output_type": "stream",
     "text": [
      "Files already downloaded and verified\n",
      "Files already downloaded and verified\n"
     ]
    }
   ],
   "source": [
    "cifar10Train= LocalLearning.LpUnitCIFAR10(\n",
    "            root=\"../data/CIFAR10\",\n",
    "            train=True,\n",
    "            transform=ToTensor(),\n",
    "            p=3.0,\n",
    "        )\n",
    "\n",
    "cifar10Test= LocalLearning.LpUnitCIFAR10(\n",
    "            root=\"../data/CIFAR10\",\n",
    "            train=False,\n",
    "            transform=ToTensor(),\n",
    "            p=3.0,\n",
    "        )\n",
    "\n",
    "TestLoader = LocalLearning.DeviceDataLoader(\n",
    "            cifar10Test,\n",
    "            device=device,\n",
    "            batch_size=BATCH_SIZE,\n",
    "            num_workers=4,\n",
    "            shuffle=True,\n",
    "        )\n",
    "\n",
    "TrainLoader = LocalLearning.DeviceDataLoader(\n",
    "            cifar10Train,\n",
    "            device=device,\n",
    "            batch_size=BATCH_SIZE,\n",
    "            num_workers=4,\n",
    "            shuffle=True,\n",
    "        )"
   ]
  },
  {
   "cell_type": "code",
   "execution_count": 5,
   "id": "61e81926",
   "metadata": {},
   "outputs": [],
   "source": [
    "scales_stringer_spectra = np.array([False, False, False,  True, False, False, False, False, False,\n",
    "       False, False, False, False, False, False,  True, False, False,\n",
    "       False, False,  True, False, False, False, False, False, False,\n",
    "       False, False,  True, False, False, False, False,  True,  True,\n",
    "       False, False, False, False, False, False, False, False, False,\n",
    "       False, False, False, False, False, False, False, False, False,\n",
    "       False, False, False, False, False, False, False, False, False,\n",
    "       False, False, False, False, False, False, False, False, False,\n",
    "       False, False, False, False, False, False,  True, False, False,\n",
    "       False, False, False, False, False, False, False, False, False,\n",
    "       False, False, False, False, False, False, False, False, False,\n",
    "       False])"
   ]
  },
  {
   "cell_type": "code",
   "execution_count": 6,
   "id": "7aa7914d",
   "metadata": {},
   "outputs": [],
   "source": [
    "def load_trained_model_bp(idx):\n",
    "    trained_model_bp_path = Path(\"../data/models/KHModelCIFAR10_ensemble/bp\")\n",
    "    file_names_trained_bp = os.listdir(trained_model_bp_path)\n",
    "    file_names_trained_bp = [fn for fn in file_names_trained_bp if os.path.isfile(trained_model_bp_path / Path(fn))]\n",
    "    \n",
    "    trained_model_bp = Path(file_names_trained_bp[idx])\n",
    "    \n",
    "    with torch.no_grad():\n",
    "        trained_state_bp = torch.load(trained_model_bp_path/trained_model_bp)\n",
    "        model_ps_bp = trained_state_bp[\"fkhl3-state\"]\n",
    "        model_bp = LocalLearning.KHModel_bp(model_ps_bp)\n",
    "        model_bp.eval()\n",
    "        model_bp.load_state_dict(trained_state_bp[\"model_state_dict\"])\n",
    "        model_bp.to(device)\n",
    "        \n",
    "    return model_bp\n",
    "\n",
    "def load_trained_model_ll(idx):\n",
    "        \n",
    "    trained_model_ll_path = Path(\"../data/models/KHModelCIFAR10_ensemble/ll\")\n",
    "    file_names_trained_ll = os.listdir(trained_model_ll_path)\n",
    "    file_names_trained_ll = [fn for fn in file_names_trained_ll if os.path.isfile(trained_model_ll_path / Path(fn))]\n",
    "    \n",
    "    trained_model_ll = Path(file_names_trained_ll[idx])\n",
    "    \n",
    "    with torch.no_grad():\n",
    "        trained_state_ll = torch.load(trained_model_ll_path/trained_model_ll)\n",
    "        model_ps_ll = trained_state_ll[\"fkhl3-state\"]\n",
    "        model_ll = LocalLearning.KHModel(model_ps_ll)\n",
    "        model_ll.eval()\n",
    "        model_ll.load_state_dict(trained_state_ll[\"model_state_dict\"])\n",
    "        model_ll.to(device)\n",
    "        \n",
    "    return model_ll"
   ]
  },
  {
   "cell_type": "code",
   "execution_count": 7,
   "id": "05ac7c87",
   "metadata": {},
   "outputs": [
    {
     "name": "stdout",
     "output_type": "stream",
     "text": [
      "\n"
     ]
    }
   ],
   "source": [
    "\"\"\"\n",
    "fkhl3-path\": str(llmodels_path / model_file),\n",
    "\"fkhl3-state\": ll_trained_state,\n",
    "\"model_state_dict\": khmodel.state_dict(),\n",
    "\"loss_history\": loss_history,\n",
    "\"accuracy_history\": accuracy_history\n",
    "\"\"\" \n",
    "print()"
   ]
  },
  {
   "cell_type": "code",
   "execution_count": 8,
   "id": "25b3777d",
   "metadata": {},
   "outputs": [],
   "source": [
    "def acc_total(\n",
    "    test: DataLoader,\n",
    "    model: LocalLearning.KHModel, \n",
    "    thres,\n",
    "    crit=None\n",
    "    ):\n",
    "    \n",
    "    freq_correct = 0\n",
    "    model.eval()\n",
    "    total = 0\n",
    "    for batch_no, (features, labels) in enumerate(test):\n",
    "        preds = model(features)\n",
    "        pred = torch.argmax(preds, dim=-1)\n",
    "        \n",
    "        if crit == \"correct_thres\":\n",
    "            softmax_correct = (preds[torch.arange(1000),pred])\n",
    "            thres_idx = (softmax_correct >= thres)\n",
    "            correct_idx = (torch.abs(pred - labels) == 0)\n",
    "            filtr_idx = thres_idx & correct_idx \n",
    "            new_preds = pred[filtr_idx]\n",
    "            new_labels = labels[filtr_idx]\n",
    "            total += len(new_labels)\n",
    "            \n",
    "        elif crit == \"thres\":\n",
    "            softmax_correct = (preds[torch.arange(1000),pred])\n",
    "            thres_idx = (softmax_correct >= thres)\n",
    "            new_preds = pred[thres_idx]\n",
    "            new_labels = labels[thres_idx]\n",
    "            total += len(new_labels)\n",
    "            \n",
    "        elif crit == \"correct\": \n",
    "            correct_idx = (torch.abs(pred - labels) == 0)\n",
    "            new_preds = pred[correct_idx]\n",
    "            new_labels = labels[correct_idx]\n",
    "            total += len(new_labels)\n",
    "            \n",
    "        elif crit == None:\n",
    "            new_preds = torch.argmax(preds,axis=1)\n",
    "            new_labels = labels\n",
    "            total += len(new_labels)\n",
    "        \n",
    "        freq_correct += (torch.abs(new_preds - new_labels) == 0).sum()\n",
    "        \n",
    "    correct = (freq_correct / total).item()\n",
    "    \n",
    "    return correct, total"
   ]
  },
  {
   "cell_type": "code",
   "execution_count": 9,
   "id": "fc4570c2",
   "metadata": {},
   "outputs": [],
   "source": [
    "def acc_total_n_models(n,modeltype,dataloader,thres,crit=None):\n",
    "    list_acc = []\n",
    "    list_n = []\n",
    "    \n",
    "    if modeltype == \"bp\": \n",
    "        for i in tqdm(range(n)):\n",
    "            model = load_trained_model_bp(i)\n",
    "            correct, total = acc_total(dataloader, model, thres, crit)\n",
    "            list_acc.append(correct)\n",
    "            list_n.append(total)\n",
    "        \n",
    "    if modeltype == \"ll\": \n",
    "        for i in tqdm(range(n)):\n",
    "            model = load_trained_model_ll(i)\n",
    "            correct, total = acc_total(dataloader, model, thres, crit)\n",
    "            list_acc.append(correct)\n",
    "            list_n.append(total)\n",
    "        \n",
    "    return list_acc, list_n "
   ]
  },
  {
   "cell_type": "code",
   "execution_count": 10,
   "id": "c45fca6b",
   "metadata": {},
   "outputs": [],
   "source": [
    "n = 100\n",
    "dataloader = TestLoader\n",
    "threshold = 0.8"
   ]
  },
  {
   "cell_type": "code",
   "execution_count": 11,
   "id": "61201dc2",
   "metadata": {},
   "outputs": [],
   "source": [
    "#list_acc_normal, list_n_normal = acc_total_n_models(100,\"bp\",dataloader,0)\n",
    "#torch.save(list_acc_normal,\"../data/Mia_data/accuracy_all_bp_models.pt\")"
   ]
  },
  {
   "cell_type": "code",
   "execution_count": 12,
   "id": "390cb1ea",
   "metadata": {},
   "outputs": [],
   "source": [
    "def print_info(n, model, dataloader, threshold, crit):\n",
    "    acc, tot = acc_total(n, model, dataloader, threshold, crit)\n",
    "    if crit == \"correct_thres\":\n",
    "        print(f\"Criterium = Correct and above 0.8\")\n",
    "        \n",
    "    elif crit == \"thres\":\n",
    "        print(f\"Criterium = Above 0.8\")\n",
    "\n",
    "    else: \n",
    "        print(f\"Criterium = Correct\")\n",
    "        \n",
    "    print(f\"Mean correct for {n} {model} models with Softmax >= {threshold} on training data : {np.mean(acc)*100:.2f} %\")\n",
    "    print(f\"Mean number of pictures = {np.mean(tot)}\")"
   ]
  },
  {
   "cell_type": "code",
   "execution_count": 13,
   "id": "1015ae00",
   "metadata": {},
   "outputs": [],
   "source": [
    "for model in [\"bp\", \"ll\"]:\n",
    "    for crit in [\"correct_thres\", \"correct\", \"thres\"]:\n",
    "        pass"
   ]
  },
  {
   "cell_type": "markdown",
   "id": "a5deae15",
   "metadata": {},
   "source": [
    "Choosing correct and over threshold as the critirium and the TestLoader as the data set "
   ]
  },
  {
   "cell_type": "code",
   "execution_count": 14,
   "id": "3eff3971",
   "metadata": {},
   "outputs": [],
   "source": [
    "def data_critirium(\n",
    "    dataloader,\n",
    "    model, \n",
    "    crit,\n",
    "    thres = None\n",
    "    ):\n",
    "    \n",
    "    # Returns the data that meets the critirium given (crit)\n",
    "    \n",
    "    freq_correct = 0\n",
    "    model.eval()\n",
    "    total = 0\n",
    "    \n",
    "    data = torch.zeros((0,32,32,3)).to(device)\n",
    "    lab_data = torch.zeros((0)).to(device)\n",
    "    \n",
    "    for batch_no, (features, labels) in enumerate(dataloader):\n",
    "        preds = model(features)\n",
    "        pred = torch.argmax(preds, dim=-1)\n",
    "        \n",
    "        if crit == \"correct\":\n",
    "            filtr_idx = (torch.abs(pred - labels) == 0)\n",
    "            new_features = features[filtr_idx]\n",
    "            data = torch.cat((data, new_features),dim=0)\n",
    "            new_labels = labels[filtr_idx]\n",
    "            lab_data = torch.cat((lab_data, new_labels),dim=0)\n",
    "        \n",
    "        elif crit == \"correct_thres\":\n",
    "            softmax_correct = (preds[torch.arange(1000),pred])\n",
    "            thres_idx = (softmax_correct >= thres)\n",
    "            correct_idx = (torch.abs(pred - labels) == 0)\n",
    "            filtr_idx = thres_idx & correct_idx \n",
    "            new_features = features[filtr_idx]\n",
    "            data = torch.cat((data, new_features),dim=0)\n",
    "            new_labels = labels[filtr_idx]\n",
    "            lab_data = torch.cat((lab_data, new_labels),dim=0)\n",
    "            \n",
    "        else:\n",
    "            softmax_correct = (preds[torch.arange(1000),pred])\n",
    "            filtr_idx = (softmax_correct >= thres)\n",
    "            new_features = features[filtr_idx]\n",
    "            data = torch.cat((data, new_features),dim=0)\n",
    "            new_labels = labels[filtr_idx]\n",
    "            lab_data = torch.cat((lab_data, new_labels),dim=0)\n",
    "    \n",
    "    return data, lab_data"
   ]
  },
  {
   "cell_type": "code",
   "execution_count": 15,
   "id": "6f4aa3de",
   "metadata": {},
   "outputs": [],
   "source": [
    "def FGSM(model, features, labels, loss_fn, optimizer, epsilon):\n",
    "    \n",
    "    preds = model(features)\n",
    "    loss = loss_fn(preds, labels)\n",
    "    optimizer.zero_grad()\n",
    "    loss.backward()\n",
    "    perturbed_image = features + epsilon*features.grad.data.sign()\n",
    "    perturbed_image = torch.clamp(perturbed_image, 0, 1)\n",
    "    \n",
    "    return perturbed_image\n",
    "\n",
    "# implement PGD"
   ]
  },
  {
   "cell_type": "code",
   "execution_count": 16,
   "id": "a5badf4e",
   "metadata": {},
   "outputs": [],
   "source": [
    "def test_attack(\n",
    "    features,\n",
    "    labels, \n",
    "    model, \n",
    "    attack,\n",
    "    loss_fn, \n",
    "    optimizer, \n",
    "    eps=None,\n",
    "    std=None,\n",
    "    ):\n",
    "    \n",
    "    freq_correct = 0\n",
    "    total = 0 \n",
    "\n",
    "    labels = labels.type(torch.LongTensor).to(device)\n",
    "    features.requires_grad = True\n",
    "    \n",
    "    if attack == \"FGSM\":\n",
    "        perturbed = FGSM(model, features, labels, loss_fn, optimizer, eps)\n",
    "        \n",
    "    elif attack == \"PGD\":\n",
    "        perturbed, epsilon = PGD(model, features, labels, loss_fn, optimizer, num_steps=20, step_size=0.01, b_norm=0.3)\n",
    "        \n",
    "    else: \n",
    "        print(\"Something went wrong\")\n",
    "        \n",
    "    preds_perturbed = torch.argmax(model(perturbed), dim=-1)\n",
    "    alike = (preds_perturbed == labels)\n",
    "    freq_correct += (torch.abs(preds_perturbed - labels) == 0).sum()\n",
    "    total += len(labels)\n",
    "\n",
    "    correct = (freq_correct/total).item()\n",
    "    \n",
    "    return correct, alike, epsilon "
   ]
  },
  {
   "cell_type": "code",
   "execution_count": 17,
   "id": "5bf0ef2a",
   "metadata": {},
   "outputs": [],
   "source": [
    "epslist = [0.0001*i for i in range(1,100)]\n",
    "\n",
    "def logistic(x,a,b,c,d):\n",
    "    return a/(1+np.exp(-c*(x-d)))+b\n",
    "\n",
    "def criteps_FGSM(n,modeltype,attacktype=\"FGSM\",plot=False,crit=None, epslist=epslist):\n",
    "    \n",
    "    if modeltype == \"ll\":\n",
    "    \n",
    "        ll = []\n",
    "        ll_crit_eps = []\n",
    "        ll_eps_half_max = []\n",
    "\n",
    "        for i in tqdm(range(n)):\n",
    "            model_ll = load_trained_model_ll(i)\n",
    "            data_ll, lab_ll = data_critirium(TestLoader, model_ll, \"correct_thres\", thres = 0.8)\n",
    "\n",
    "            AdamOpt_ll = Adam(model_ll.parameters(), lr=LEARNING_RATE)\n",
    "\n",
    "            list_ll = []\n",
    "\n",
    "            for eps in epslist:\n",
    "                correct, a, e = test_attack(data_ll, lab_ll, model_ll, attacktype, ce_loss, AdamOpt_ll, eps)\n",
    "                list_ll.append(float(correct))\n",
    "\n",
    "            ll.append(list_ll)\n",
    "\n",
    "            x = np.array(epslist)\n",
    "            y_ll = np.array(list_ll)\n",
    "\n",
    "            popt, pcov = curve_fit(logistic, x, y_ll)\n",
    "            critical_eps = popt[-1]\n",
    "\n",
    "            ll_crit_eps.append(critical_eps)\n",
    "\n",
    "            x_high_res = np.linspace(x[0],x[-1]+1,10000)\n",
    "            func = logistic(x_high_res,*popt)\n",
    "            half_max_idx = (np.abs(func-0.5)).argmin()\n",
    "            eps_half_max = x_high_res[half_max_idx]\n",
    "\n",
    "            ll_eps_half_max.append(eps_half_max)\n",
    "        \n",
    "        \n",
    "            if plot==True and i == 0:\n",
    "                plt.plot(x,y_ll)\n",
    "                plt.plot(x,logistic(x,*popt))\n",
    "                plt.plot(critical_eps,logistic(critical_eps,*popt),\"ro\",label=\"Inflection point of fitted curve\")\n",
    "                plt.plot(eps_half_max,func[half_max_idx],\"bo\",label=\"Fitted curve = 0.5\")\n",
    "                plt.title(\"FGSM on LL model\")\n",
    "                plt.legend()\n",
    "                plt.show()\n",
    "        \n",
    "                \n",
    "        return ll, ll_crit_eps, ll_eps_half_max\n",
    "    \n",
    "    elif modeltype == \"bp\":\n",
    "    \n",
    "        bp = []\n",
    "        bp_eps_half_max = []\n",
    "\n",
    "        for i in tqdm(range(n)):\n",
    "            model_bp = load_trained_model_bp(i)\n",
    "            data_bp, lab_bp = data_critirium(TestLoader, model_bp, correct_thres, thres = 0.8)\n",
    "\n",
    "            AdamOpt_bp = Adam(model_bp.parameters(), lr=LEARNING_RATE)\n",
    "\n",
    "            list_bp = []\n",
    "\n",
    "            for eps in epslist:\n",
    "                correct, a, e = test_attack(data_bp, lab_bp, model_bp, attacktype, ce_loss, AdamOpt_bp, eps)\n",
    "                list_bp.append(correct)\n",
    "\n",
    "            bp.append(list_bp)\n",
    "\n",
    "            x = np.array(epslist)\n",
    "            y_bp = np.array(list_bp)\n",
    "\n",
    "            popt, pcov = curve_fit(logistic, x, y_bp, p0=(1,0,1,0), maxfev = 10000)\n",
    "           \n",
    "            x_high_res = np.linspace(x[0],x[-1]+1,10000)\n",
    "            func = logistic(x_high_res,*popt)\n",
    "            half_max_idx = (np.abs(func-0.5)).argmin()\n",
    "            eps_half_max = x_high_res[half_max_idx]\n",
    "\n",
    "            bp_eps_half_max.append(eps_half_max)\n",
    "            \n",
    "            if plot==True and i == 0:\n",
    "                plt.plot(x,y_bp)\n",
    "                plt.plot(x,logistic(x,*popt))\n",
    "                #plt.plot(critical_eps,logistic(critical_eps,*popt),\"ro\",label=\"Inflection point of fitted curve\")\n",
    "                plt.plot(eps_half_max,func[half_max_idx],\"bo\",label=\"Fitted curve = 0.5\")\n",
    "                plt.title(\"FGSM on LL model\")\n",
    "                plt.legend()\n",
    "                plt.show()\n",
    "                \n",
    "        return bp, \"Not defined\", bp_eps_half_max"
   ]
  },
  {
   "cell_type": "code",
   "execution_count": 18,
   "id": "ac796689",
   "metadata": {},
   "outputs": [],
   "source": [
    "def criteps_PGD(n,modeltype,attacktype=\"PGD\",plot=False,crit=None, epslist=epslist):\n",
    "    \n",
    "    # This is currently beeing replaced/rewritten further down \n",
    "    \n",
    "    if modeltype == \"ll\":\n",
    "    \n",
    "        ll = [] # number of correct\n",
    "        ll_crit_eps = []\n",
    "        ll_eps_half_max = []\n",
    "\n",
    "        # alle modeller: n = 100\n",
    "        for i in tqdm(range(n)):\n",
    "            model_ll = load_trained_model_ll(i)\n",
    "            data_ll, lab_ll = data_critirium(TestLoader, model_ll, \"correct_thres\", thres = 0.8)\n",
    "\n",
    "            AdamOpt_ll = Adam(model_ll.parameters(), lr=LEARNING_RATE)\n",
    "\n",
    "            eps = 1 # workaround for now, must fix function test_attack to fit PGD\n",
    "            correct, epsilon = test_attack(data_ll, lab_ll, model_ll, attacktype, ce_loss, AdamOpt_ll, eps)\n",
    "            ll.append(float(correct))\n",
    "            ll_crit_eps.append(epsilon)\n",
    "            \n",
    "    \n",
    "        return ll, ll_crit_eps, ll_eps_half_max\n",
    "    \n",
    "    elif modeltype == \"bp\":\n",
    "    \n",
    "        pass "
   ]
  },
  {
   "cell_type": "code",
   "execution_count": 19,
   "id": "16877927",
   "metadata": {},
   "outputs": [
    {
     "data": {
      "application/json": {
       "ascii": false,
       "bar_format": null,
       "colour": null,
       "elapsed": 0.00601649284362793,
       "initial": 0,
       "n": 0,
       "ncols": null,
       "nrows": 55,
       "postfix": null,
       "prefix": "",
       "rate": null,
       "total": 100,
       "unit": "it",
       "unit_divisor": 1000,
       "unit_scale": false
      },
      "application/vnd.jupyter.widget-view+json": {
       "model_id": "26266d7881c54a5fb3f3c6ff5e5a1ecc",
       "version_major": 2,
       "version_minor": 0
      },
      "text/plain": [
       "  0%|          | 0/100 [00:00<?, ?it/s]"
      ]
     },
     "metadata": {},
     "output_type": "display_data"
    },
    {
     "ename": "NameError",
     "evalue": "name 'PGD' is not defined",
     "output_type": "error",
     "traceback": [
      "\u001b[0;31m---------------------------------------------------------------------------\u001b[0m",
      "\u001b[0;31mNameError\u001b[0m                                 Traceback (most recent call last)",
      "Cell \u001b[0;32mIn[19], line 1\u001b[0m\n\u001b[0;32m----> 1\u001b[0m accuracy, critical_eps, eps_half_max \u001b[38;5;241m=\u001b[39m \u001b[43mcriteps_PGD\u001b[49m\u001b[43m(\u001b[49m\u001b[43mn\u001b[49m\u001b[43m \u001b[49m\u001b[38;5;241;43m=\u001b[39;49m\u001b[43m \u001b[49m\u001b[38;5;241;43m100\u001b[39;49m\u001b[43m,\u001b[49m\u001b[43m \u001b[49m\u001b[43mmodeltype\u001b[49m\u001b[43m \u001b[49m\u001b[38;5;241;43m=\u001b[39;49m\u001b[43m \u001b[49m\u001b[38;5;124;43m\"\u001b[39;49m\u001b[38;5;124;43mll\u001b[39;49m\u001b[38;5;124;43m\"\u001b[39;49m\u001b[43m)\u001b[49m\n",
      "Cell \u001b[0;32mIn[18], line 19\u001b[0m, in \u001b[0;36mcriteps_PGD\u001b[0;34m(n, modeltype, attacktype, plot, crit, epslist)\u001b[0m\n\u001b[1;32m     16\u001b[0m AdamOpt_ll \u001b[38;5;241m=\u001b[39m Adam(model_ll\u001b[38;5;241m.\u001b[39mparameters(), lr\u001b[38;5;241m=\u001b[39mLEARNING_RATE)\n\u001b[1;32m     18\u001b[0m eps \u001b[38;5;241m=\u001b[39m \u001b[38;5;241m1\u001b[39m \u001b[38;5;66;03m# workaround for now, must fix function test_attack to fit PGD\u001b[39;00m\n\u001b[0;32m---> 19\u001b[0m correct, epsilon \u001b[38;5;241m=\u001b[39m \u001b[43mtest_attack\u001b[49m\u001b[43m(\u001b[49m\u001b[43mdata_ll\u001b[49m\u001b[43m,\u001b[49m\u001b[43m \u001b[49m\u001b[43mlab_ll\u001b[49m\u001b[43m,\u001b[49m\u001b[43m \u001b[49m\u001b[43mmodel_ll\u001b[49m\u001b[43m,\u001b[49m\u001b[43m \u001b[49m\u001b[43mattacktype\u001b[49m\u001b[43m,\u001b[49m\u001b[43m \u001b[49m\u001b[43mce_loss\u001b[49m\u001b[43m,\u001b[49m\u001b[43m \u001b[49m\u001b[43mAdamOpt_ll\u001b[49m\u001b[43m,\u001b[49m\u001b[43m \u001b[49m\u001b[43meps\u001b[49m\u001b[43m)\u001b[49m\n\u001b[1;32m     20\u001b[0m ll\u001b[38;5;241m.\u001b[39mappend(\u001b[38;5;28mfloat\u001b[39m(correct))\n\u001b[1;32m     21\u001b[0m ll_crit_eps\u001b[38;5;241m.\u001b[39mappend(epsilon)\n",
      "Cell \u001b[0;32mIn[16], line 22\u001b[0m, in \u001b[0;36mtest_attack\u001b[0;34m(features, labels, model, attack, loss_fn, optimizer, eps, std)\u001b[0m\n\u001b[1;32m     19\u001b[0m     perturbed \u001b[38;5;241m=\u001b[39m FGSM(model, features, labels, loss_fn, optimizer, eps)\n\u001b[1;32m     21\u001b[0m \u001b[38;5;28;01melif\u001b[39;00m attack \u001b[38;5;241m==\u001b[39m \u001b[38;5;124m\"\u001b[39m\u001b[38;5;124mPGD\u001b[39m\u001b[38;5;124m\"\u001b[39m:\n\u001b[0;32m---> 22\u001b[0m     perturbed, epsilon \u001b[38;5;241m=\u001b[39m \u001b[43mPGD\u001b[49m(model, features, labels, loss_fn, optimizer, num_steps\u001b[38;5;241m=\u001b[39m\u001b[38;5;241m20\u001b[39m, step_size\u001b[38;5;241m=\u001b[39m\u001b[38;5;241m0.01\u001b[39m, b_norm\u001b[38;5;241m=\u001b[39m\u001b[38;5;241m0.3\u001b[39m)\n\u001b[1;32m     24\u001b[0m \u001b[38;5;28;01melse\u001b[39;00m: \n\u001b[1;32m     25\u001b[0m     \u001b[38;5;28mprint\u001b[39m(\u001b[38;5;124m\"\u001b[39m\u001b[38;5;124mSomething went wrong\u001b[39m\u001b[38;5;124m\"\u001b[39m)\n",
      "\u001b[0;31mNameError\u001b[0m: name 'PGD' is not defined"
     ]
    }
   ],
   "source": [
    "accuracy, critical_eps, eps_half_max = criteps_PGD(n = 100, modeltype = \"ll\")"
   ]
  },
  {
   "cell_type": "code",
   "execution_count": null,
   "id": "3bbfaeae",
   "metadata": {},
   "outputs": [],
   "source": [
    "#torch.save(ll,\"../data/Mia_data/accuracy_through_FGSM_all_ll_models.pt\")"
   ]
  },
  {
   "cell_type": "code",
   "execution_count": null,
   "id": "f36a49af",
   "metadata": {},
   "outputs": [],
   "source": [
    "poptt = [5.61523970e+04,  5.74443460e-04, -9.22749104e+02, -1.18282523e-02]\n",
    "xarray = np.linspace(-5,5,10000)\n",
    "plt.plot(xarray,logistic(xarray,*poptt))\n",
    "critical_eps = -1.18282523e-02\n",
    "plt.plot(critical_eps,logistic(critical_eps,*poptt),\"ro\")\n",
    "plt.xlim(-0.03,0.01)\n",
    "plt.show()\n",
    "\n",
    "# In attempting to define the critical epsilon as the inflection point this happens"
   ]
  },
  {
   "cell_type": "code",
   "execution_count": null,
   "id": "0c31f234",
   "metadata": {},
   "outputs": [],
   "source": [
    "#torch.save(bp,\"../data/Mia_data/accuracy_through_FGSM_all_bp_models.pt\")"
   ]
  },
  {
   "cell_type": "code",
   "execution_count": null,
   "id": "625d176b",
   "metadata": {},
   "outputs": [],
   "source": [
    "plt.plot(bp[0])\n",
    "print(bpeps)"
   ]
  },
  {
   "cell_type": "code",
   "execution_count": null,
   "id": "76eb7621",
   "metadata": {},
   "outputs": [],
   "source": [
    "#torch.save(lleps,\"../data/Mia_data/critical_epsilons_ll_models.pt\")"
   ]
  },
  {
   "cell_type": "code",
   "execution_count": null,
   "id": "1d1e214e",
   "metadata": {},
   "outputs": [],
   "source": [
    "crit_eps_ll = np.array(torch.load(\"../data/Mia_data/critical_epsilons_ll_models.pt\"))\n",
    "acc_ll = np.array(torch.load(\"../data/Mia_data/accuracy_all_ll_models.pt\"))\n",
    "\n",
    "acc_bp = np.array(torch.load(\"../data/Mia_data/accuracy_all_bp_models.pt\"))"
   ]
  },
  {
   "cell_type": "code",
   "execution_count": null,
   "id": "03f5d622",
   "metadata": {},
   "outputs": [],
   "source": [
    "print(crit_eps_ll)"
   ]
  },
  {
   "cell_type": "code",
   "execution_count": null,
   "id": "bcf91811",
   "metadata": {},
   "outputs": [],
   "source": [
    "crit_eps_ll_spectra = crit_eps_ll[scales_stringer_spectra]\n",
    "acc_ll_spectra = acc_ll[scales_stringer_spectra]"
   ]
  },
  {
   "cell_type": "code",
   "execution_count": null,
   "id": "d8cd0ef9",
   "metadata": {},
   "outputs": [],
   "source": [
    "plt.figure(figsize=(10,6))\n",
    "plt.scatter(crit_eps_ll,acc_ll)\n",
    "plt.scatter(crit_eps_ll_spectra,acc_ll_spectra,c=\"red\")\n",
    "plt.xlabel(\"Critical epsilon\")\n",
    "plt.ylabel(\"Accuracy\")\n",
    "plt.show()"
   ]
  },
  {
   "cell_type": "code",
   "execution_count": null,
   "id": "c1c480b1",
   "metadata": {},
   "outputs": [],
   "source": [
    "eps_fit_curve_at_half_ll = torch.load(\"../data/Mia_data/epsilon_fitted_curve_at_05_all_ll_models.pt\")\n",
    "eps_fit_curve_at_half_bp = torch.load(\"../data/Mia_data/epsilon_fitted_curve_at_05_all_bp_models.pt\")"
   ]
  },
  {
   "cell_type": "code",
   "execution_count": null,
   "id": "b93e91d5",
   "metadata": {},
   "outputs": [],
   "source": [
    "print(np.mean(eps_fit_curve_at_half_ll))\n",
    "print(np.mean(eps_fit_curve_at_half_bp))"
   ]
  },
  {
   "cell_type": "code",
   "execution_count": 20,
   "id": "14853101",
   "metadata": {},
   "outputs": [],
   "source": [
    "def crit_eps_one_model(modeltype,n,attack,epslist=epslist):\n",
    "    \n",
    "    #n = modelnumber\n",
    "    \n",
    "    if modeltype == \"ll\":\n",
    "    \n",
    "        ll_crit_eps = []\n",
    "        list_ll_correct_all = []\n",
    "\n",
    "        model_ll = load_trained_model_ll(n)\n",
    "        data_ll, lab_ll = data_critirium(TestLoader, model_ll, \"correct\")#, thres = 0.8)\n",
    "        \n",
    "        siz = len(lab_ll)\n",
    "        \n",
    "        crit_eps_per_image = torch.ones(siz).to(device)\n",
    "        crit_eps_per_image[:] = epslist[-1]\n",
    "        \n",
    "        AdamOpt_ll = Adam(model_ll.parameters(), lr=LEARNING_RATE)\n",
    "\n",
    "        for eps in epslist:\n",
    "            correct, alike = test_attack(data_ll, lab_ll, model_ll, attack, ce_loss, AdamOpt_ll, eps)\n",
    "            mask = (alike == False) & (crit_eps_per_image == epslist[-1])\n",
    "            crit_eps_per_image[mask] = eps\n",
    "            list_ll_correct_all.append(correct)\n",
    "\n",
    "        x = np.array(epslist)\n",
    "        y_ll = np.array(list_ll_correct_all)\n",
    "\n",
    "        popt, pcov = curve_fit(logistic, x, y_ll)\n",
    "        critical_eps = popt[-1]\n",
    "\n",
    "        ll_crit_eps.append(critical_eps)\n",
    "                        \n",
    "        return crit_eps_per_image #, list_ll_correct_all, ll_crit_eps\n",
    "    \n",
    "    if modeltype == \"bp\":\n",
    "    \n",
    "        bp_crit_eps = []\n",
    "        list_bp_correct_all = []\n",
    "\n",
    "        model_bp = load_trained_model_bp(n)\n",
    "        data_bp, lab_bp = data_critirium(TestLoader, model_bp, \"correct\")#, thres = 0.8)\n",
    "        \n",
    "        siz = len(lab_bp)\n",
    "        \n",
    "        crit_eps_per_image = torch.ones(siz).to(device)\n",
    "        crit_eps_per_image[:] = epslist[-1]\n",
    "        \n",
    "        AdamOpt_bp = Adam(model_bp.parameters(), lr=LEARNING_RATE)\n",
    "\n",
    "        for eps in epslist:\n",
    "            correct, alike = test_attack(data_bp, lab_bp, model_bp, attack, ce_loss, AdamOpt_bp, eps)\n",
    "            mask = (alike == False) & (crit_eps_per_image == epslist[-1])\n",
    "            crit_eps_per_image[mask] = eps\n",
    "            list_bp_correct_all.append(correct)\n",
    "\n",
    "        x = np.array(epslist)\n",
    "        y_bp = np.array(list_bp_correct_all)\n",
    "\n",
    "        popt, pcov = curve_fit(logistic, x, y_bp)\n",
    "        critical_eps = popt[-1]\n",
    "\n",
    "        bp_crit_eps.append(critical_eps)\n",
    "        \n",
    "        return crit_eps_per_image #, list_bp_correct_all, bp_crit_eps"
   ]
  },
  {
   "cell_type": "code",
   "execution_count": 21,
   "id": "8e8d1451",
   "metadata": {},
   "outputs": [],
   "source": [
    "def PGD(model, features, labels, loss_fn, optimizer, num_steps=20, step_size=0.01, b_norm=0.3):\n",
    "    \n",
    "    for n in range(num_steps):\n",
    "        preds = model(features)\n",
    "        loss = loss_fn(preds, labels)\n",
    "        optimizer.zero_grad()\n",
    "        loss.backward()\n",
    "        \n",
    "        adv_image = features + step_size*features.grad.data.sign()\n",
    "        clamp = torch.clamp(adv_image - features, min = -b_norm, max = b_norm)\n",
    "        perturbed_image = torch.clamp(features + clamp, min = 0, max = 1)\n",
    "        \n",
    "        preds_perturbed = torch.argmax(model(perturbed_image), dim=-1)\n",
    "        alike = (preds_perturbed == labels)\n",
    "        freq_correct += (torch.abs(preds_perturbed - labels) == 0).sum()\n",
    "        total += len(labels)\n",
    "\n",
    "        correct = (freq_correct/total).item()\n",
    "\n",
    "        mask = (alike == False) & (crit_eps_per_image == epslist[-1])\n",
    "        crit_eps_per_image[mask] = epsilon[mask]\n",
    "        \n",
    "    #x = features.view(features.size(0),-1)\n",
    "    #y = perturbed_image.view(perturbed_image.size(0),-1)\n",
    "    \n",
    "    #eps = torch.abs(torch.mean(x-y,dim=1)).detach()\n",
    "    \n",
    "    return perturbed_image, eps"
   ]
  },
  {
   "cell_type": "code",
   "execution_count": 176,
   "id": "0a36de37",
   "metadata": {},
   "outputs": [],
   "source": [
    "def crit_eps_one_image_pgd(modeltype,n):\n",
    "    \n",
    "    attack = \"PGD\"\n",
    "    \n",
    "    if modeltype == \"ll\":\n",
    "    \n",
    "        ll_crit_eps = []\n",
    "        list_ll_correct_all = []\n",
    "\n",
    "        model = load_trained_model_ll(n)\n",
    "        features, labels = data_critirium(TestLoader, model, \"correct\")\n",
    "        \n",
    "        siz = len(labels)\n",
    "        \n",
    "        crit_eps_per_image = torch.ones(siz).to(device)\n",
    "        crit_eps_per_image[:] = epslist[-1]\n",
    "        \n",
    "        AdamOpt_ll = Adam(model.parameters(), lr=LEARNING_RATE)\n",
    "        \n",
    "        freq_correct = 0\n",
    "        total = 0 \n",
    "\n",
    "        labels = labels.type(torch.LongTensor).to(device)\n",
    "        features.requires_grad = True\n",
    "        \n",
    "        num_steps = 100\n",
    "        loss_fn = ce_loss \n",
    "        optimizer = AdamOpt_ll\n",
    "        step_size = 0.0005\n",
    "        b_norm = 0.05\n",
    "        \n",
    "        correct = []\n",
    "                \n",
    "        perturbed_image = features \n",
    "        \n",
    "        for n in range(num_steps):\n",
    "            preds = model(features)\n",
    "            loss = loss_fn(preds, labels)\n",
    "            optimizer.zero_grad()\n",
    "            loss.backward()\n",
    "\n",
    "            adv_image = perturbed_image + step_size*features.grad.data.sign()\n",
    "            clamp = torch.clamp(adv_image - features, min = -b_norm, max = b_norm)\n",
    "            perturbed_image = torch.clamp(features + clamp, min = 0, max = 1)\n",
    "\n",
    "            preds_perturbed = torch.argmax(model(perturbed_image), dim=-1)\n",
    "            alike = (preds_perturbed == labels)\n",
    "            freq_correct += (torch.abs(preds_perturbed - labels) == 0).sum()\n",
    "            total += len(labels)\n",
    "\n",
    "            correct.append((freq_correct/total).item())\n",
    "\n",
    "            mask = (alike == False) & (crit_eps_per_image == epslist[-1])\n",
    "            \n",
    "            x = features.view(features.size(0),-1)\n",
    "            y = perturbed_image.view(perturbed_image.size(0),-1)\n",
    "    \n",
    "            eps = torch.abs(torch.mean(x-y,dim=1)).detach()\n",
    "            crit_eps_per_image[mask] = eps[mask]\n",
    "\n",
    "        #perturbed, epsilon = PGD(model, features, labels, ce_loss, AdamOpt_ll, num_steps=20, step_size=0.01, b_norm=0.3)\n",
    "                        \n",
    "        return crit_eps_per_image, correct\n",
    "    \n",
    "    elif modeltype == \"bp\":\n",
    "    \n",
    "        pass "
   ]
  },
  {
   "cell_type": "code",
   "execution_count": 177,
   "id": "e1f7194e",
   "metadata": {},
   "outputs": [
    {
     "ename": "RuntimeError",
     "evalue": "CUDA out of memory. Tried to allocate 24.00 MiB (GPU 0; 23.70 GiB total capacity; 20.29 GiB already allocated; 13.81 MiB free; 20.33 GiB reserved in total by PyTorch) If reserved memory is >> allocated memory try setting max_split_size_mb to avoid fragmentation.  See documentation for Memory Management and PYTORCH_CUDA_ALLOC_CONF",
     "output_type": "error",
     "traceback": [
      "\u001b[0;31m---------------------------------------------------------------------------\u001b[0m",
      "\u001b[0;31mRuntimeError\u001b[0m                              Traceback (most recent call last)",
      "Cell \u001b[0;32mIn[177], line 1\u001b[0m\n\u001b[0;32m----> 1\u001b[0m crit_eps_per_image, correct \u001b[38;5;241m=\u001b[39m \u001b[43mcrit_eps_one_image_pgd\u001b[49m\u001b[43m(\u001b[49m\u001b[43mmodeltype\u001b[49m\u001b[43m \u001b[49m\u001b[38;5;241;43m=\u001b[39;49m\u001b[43m \u001b[49m\u001b[38;5;124;43m\"\u001b[39;49m\u001b[38;5;124;43mll\u001b[39;49m\u001b[38;5;124;43m\"\u001b[39;49m\u001b[43m,\u001b[49m\u001b[43m \u001b[49m\u001b[43mn\u001b[49m\u001b[43m \u001b[49m\u001b[38;5;241;43m=\u001b[39;49m\u001b[43m \u001b[49m\u001b[38;5;241;43m1\u001b[39;49m\u001b[43m)\u001b[49m\n",
      "Cell \u001b[0;32mIn[176], line 10\u001b[0m, in \u001b[0;36mcrit_eps_one_image_pgd\u001b[0;34m(modeltype, n)\u001b[0m\n\u001b[1;32m      7\u001b[0m ll_crit_eps \u001b[38;5;241m=\u001b[39m []\n\u001b[1;32m      8\u001b[0m list_ll_correct_all \u001b[38;5;241m=\u001b[39m []\n\u001b[0;32m---> 10\u001b[0m model \u001b[38;5;241m=\u001b[39m \u001b[43mload_trained_model_ll\u001b[49m\u001b[43m(\u001b[49m\u001b[43mn\u001b[49m\u001b[43m)\u001b[49m\n\u001b[1;32m     11\u001b[0m features, labels \u001b[38;5;241m=\u001b[39m data_critirium(TestLoader, model, \u001b[38;5;124m\"\u001b[39m\u001b[38;5;124mcorrect\u001b[39m\u001b[38;5;124m\"\u001b[39m)\n\u001b[1;32m     13\u001b[0m siz \u001b[38;5;241m=\u001b[39m \u001b[38;5;28mlen\u001b[39m(labels)\n",
      "Cell \u001b[0;32mIn[6], line 27\u001b[0m, in \u001b[0;36mload_trained_model_ll\u001b[0;34m(idx)\u001b[0m\n\u001b[1;32m     24\u001b[0m trained_model_ll \u001b[38;5;241m=\u001b[39m Path(file_names_trained_ll[idx])\n\u001b[1;32m     26\u001b[0m \u001b[38;5;28;01mwith\u001b[39;00m torch\u001b[38;5;241m.\u001b[39mno_grad():\n\u001b[0;32m---> 27\u001b[0m     trained_state_ll \u001b[38;5;241m=\u001b[39m \u001b[43mtorch\u001b[49m\u001b[38;5;241;43m.\u001b[39;49m\u001b[43mload\u001b[49m\u001b[43m(\u001b[49m\u001b[43mtrained_model_ll_path\u001b[49m\u001b[38;5;241;43m/\u001b[39;49m\u001b[43mtrained_model_ll\u001b[49m\u001b[43m)\u001b[49m\n\u001b[1;32m     28\u001b[0m     model_ps_ll \u001b[38;5;241m=\u001b[39m trained_state_ll[\u001b[38;5;124m\"\u001b[39m\u001b[38;5;124mfkhl3-state\u001b[39m\u001b[38;5;124m\"\u001b[39m]\n\u001b[1;32m     29\u001b[0m     model_ll \u001b[38;5;241m=\u001b[39m LocalLearning\u001b[38;5;241m.\u001b[39mKHModel(model_ps_ll)\n",
      "File \u001b[0;32m~/anaconda3/envs/pytorch/lib/python3.9/site-packages/torch/serialization.py:712\u001b[0m, in \u001b[0;36mload\u001b[0;34m(f, map_location, pickle_module, **pickle_load_args)\u001b[0m\n\u001b[1;32m    710\u001b[0m             opened_file\u001b[38;5;241m.\u001b[39mseek(orig_position)\n\u001b[1;32m    711\u001b[0m             \u001b[38;5;28;01mreturn\u001b[39;00m torch\u001b[38;5;241m.\u001b[39mjit\u001b[38;5;241m.\u001b[39mload(opened_file)\n\u001b[0;32m--> 712\u001b[0m         \u001b[38;5;28;01mreturn\u001b[39;00m \u001b[43m_load\u001b[49m\u001b[43m(\u001b[49m\u001b[43mopened_zipfile\u001b[49m\u001b[43m,\u001b[49m\u001b[43m \u001b[49m\u001b[43mmap_location\u001b[49m\u001b[43m,\u001b[49m\u001b[43m \u001b[49m\u001b[43mpickle_module\u001b[49m\u001b[43m,\u001b[49m\u001b[43m \u001b[49m\u001b[38;5;241;43m*\u001b[39;49m\u001b[38;5;241;43m*\u001b[39;49m\u001b[43mpickle_load_args\u001b[49m\u001b[43m)\u001b[49m\n\u001b[1;32m    713\u001b[0m \u001b[38;5;28;01mreturn\u001b[39;00m _legacy_load(opened_file, map_location, pickle_module, \u001b[38;5;241m*\u001b[39m\u001b[38;5;241m*\u001b[39mpickle_load_args)\n",
      "File \u001b[0;32m~/anaconda3/envs/pytorch/lib/python3.9/site-packages/torch/serialization.py:1049\u001b[0m, in \u001b[0;36m_load\u001b[0;34m(zip_file, map_location, pickle_module, pickle_file, **pickle_load_args)\u001b[0m\n\u001b[1;32m   1047\u001b[0m unpickler \u001b[38;5;241m=\u001b[39m UnpicklerWrapper(data_file, \u001b[38;5;241m*\u001b[39m\u001b[38;5;241m*\u001b[39mpickle_load_args)\n\u001b[1;32m   1048\u001b[0m unpickler\u001b[38;5;241m.\u001b[39mpersistent_load \u001b[38;5;241m=\u001b[39m persistent_load\n\u001b[0;32m-> 1049\u001b[0m result \u001b[38;5;241m=\u001b[39m \u001b[43munpickler\u001b[49m\u001b[38;5;241;43m.\u001b[39;49m\u001b[43mload\u001b[49m\u001b[43m(\u001b[49m\u001b[43m)\u001b[49m\n\u001b[1;32m   1051\u001b[0m torch\u001b[38;5;241m.\u001b[39m_utils\u001b[38;5;241m.\u001b[39m_validate_loaded_sparse_tensors()\n\u001b[1;32m   1053\u001b[0m \u001b[38;5;28;01mreturn\u001b[39;00m result\n",
      "File \u001b[0;32m~/anaconda3/envs/pytorch/lib/python3.9/site-packages/torch/serialization.py:1019\u001b[0m, in \u001b[0;36m_load.<locals>.persistent_load\u001b[0;34m(saved_id)\u001b[0m\n\u001b[1;32m   1017\u001b[0m \u001b[38;5;28;01mif\u001b[39;00m key \u001b[38;5;129;01mnot\u001b[39;00m \u001b[38;5;129;01min\u001b[39;00m loaded_storages:\n\u001b[1;32m   1018\u001b[0m     nbytes \u001b[38;5;241m=\u001b[39m numel \u001b[38;5;241m*\u001b[39m torch\u001b[38;5;241m.\u001b[39m_utils\u001b[38;5;241m.\u001b[39m_element_size(dtype)\n\u001b[0;32m-> 1019\u001b[0m     \u001b[43mload_tensor\u001b[49m\u001b[43m(\u001b[49m\u001b[43mdtype\u001b[49m\u001b[43m,\u001b[49m\u001b[43m \u001b[49m\u001b[43mnbytes\u001b[49m\u001b[43m,\u001b[49m\u001b[43m \u001b[49m\u001b[43mkey\u001b[49m\u001b[43m,\u001b[49m\u001b[43m \u001b[49m\u001b[43m_maybe_decode_ascii\u001b[49m\u001b[43m(\u001b[49m\u001b[43mlocation\u001b[49m\u001b[43m)\u001b[49m\u001b[43m)\u001b[49m\n\u001b[1;32m   1021\u001b[0m \u001b[38;5;28;01mreturn\u001b[39;00m loaded_storages[key]\n",
      "File \u001b[0;32m~/anaconda3/envs/pytorch/lib/python3.9/site-packages/torch/serialization.py:1001\u001b[0m, in \u001b[0;36m_load.<locals>.load_tensor\u001b[0;34m(dtype, numel, key, location)\u001b[0m\n\u001b[1;32m    997\u001b[0m storage \u001b[38;5;241m=\u001b[39m zip_file\u001b[38;5;241m.\u001b[39mget_storage_from_record(name, numel, torch\u001b[38;5;241m.\u001b[39m_UntypedStorage)\u001b[38;5;241m.\u001b[39mstorage()\u001b[38;5;241m.\u001b[39m_untyped()\n\u001b[1;32m    998\u001b[0m \u001b[38;5;66;03m# TODO: Once we decide to break serialization FC, we can\u001b[39;00m\n\u001b[1;32m    999\u001b[0m \u001b[38;5;66;03m# stop wrapping with _TypedStorage\u001b[39;00m\n\u001b[1;32m   1000\u001b[0m loaded_storages[key] \u001b[38;5;241m=\u001b[39m torch\u001b[38;5;241m.\u001b[39mstorage\u001b[38;5;241m.\u001b[39m_TypedStorage(\n\u001b[0;32m-> 1001\u001b[0m     wrap_storage\u001b[38;5;241m=\u001b[39m\u001b[43mrestore_location\u001b[49m\u001b[43m(\u001b[49m\u001b[43mstorage\u001b[49m\u001b[43m,\u001b[49m\u001b[43m \u001b[49m\u001b[43mlocation\u001b[49m\u001b[43m)\u001b[49m,\n\u001b[1;32m   1002\u001b[0m     dtype\u001b[38;5;241m=\u001b[39mdtype)\n",
      "File \u001b[0;32m~/anaconda3/envs/pytorch/lib/python3.9/site-packages/torch/serialization.py:175\u001b[0m, in \u001b[0;36mdefault_restore_location\u001b[0;34m(storage, location)\u001b[0m\n\u001b[1;32m    173\u001b[0m \u001b[38;5;28;01mdef\u001b[39;00m \u001b[38;5;21mdefault_restore_location\u001b[39m(storage, location):\n\u001b[1;32m    174\u001b[0m     \u001b[38;5;28;01mfor\u001b[39;00m _, _, fn \u001b[38;5;129;01min\u001b[39;00m _package_registry:\n\u001b[0;32m--> 175\u001b[0m         result \u001b[38;5;241m=\u001b[39m \u001b[43mfn\u001b[49m\u001b[43m(\u001b[49m\u001b[43mstorage\u001b[49m\u001b[43m,\u001b[49m\u001b[43m \u001b[49m\u001b[43mlocation\u001b[49m\u001b[43m)\u001b[49m\n\u001b[1;32m    176\u001b[0m         \u001b[38;5;28;01mif\u001b[39;00m result \u001b[38;5;129;01mis\u001b[39;00m \u001b[38;5;129;01mnot\u001b[39;00m \u001b[38;5;28;01mNone\u001b[39;00m:\n\u001b[1;32m    177\u001b[0m             \u001b[38;5;28;01mreturn\u001b[39;00m result\n",
      "File \u001b[0;32m~/anaconda3/envs/pytorch/lib/python3.9/site-packages/torch/serialization.py:157\u001b[0m, in \u001b[0;36m_cuda_deserialize\u001b[0;34m(obj, location)\u001b[0m\n\u001b[1;32m    155\u001b[0m         \u001b[38;5;28;01mreturn\u001b[39;00m torch\u001b[38;5;241m.\u001b[39m_UntypedStorage(obj\u001b[38;5;241m.\u001b[39mnbytes(), device\u001b[38;5;241m=\u001b[39mtorch\u001b[38;5;241m.\u001b[39mdevice(location))\n\u001b[1;32m    156\u001b[0m \u001b[38;5;28;01melse\u001b[39;00m:\n\u001b[0;32m--> 157\u001b[0m     \u001b[38;5;28;01mreturn\u001b[39;00m \u001b[43mobj\u001b[49m\u001b[38;5;241;43m.\u001b[39;49m\u001b[43mcuda\u001b[49m\u001b[43m(\u001b[49m\u001b[43mdevice\u001b[49m\u001b[43m)\u001b[49m\n",
      "File \u001b[0;32m~/anaconda3/envs/pytorch/lib/python3.9/site-packages/torch/_utils.py:78\u001b[0m, in \u001b[0;36m_cuda\u001b[0;34m(self, device, non_blocking, **kwargs)\u001b[0m\n\u001b[1;32m     76\u001b[0m     \u001b[38;5;28;01mreturn\u001b[39;00m new_type(indices, values, \u001b[38;5;28mself\u001b[39m\u001b[38;5;241m.\u001b[39msize())\n\u001b[1;32m     77\u001b[0m \u001b[38;5;28;01melse\u001b[39;00m:\n\u001b[0;32m---> 78\u001b[0m     \u001b[38;5;28;01mreturn\u001b[39;00m \u001b[43mtorch\u001b[49m\u001b[38;5;241;43m.\u001b[39;49m\u001b[43m_UntypedStorage\u001b[49m\u001b[43m(\u001b[49m\u001b[38;5;28;43mself\u001b[39;49m\u001b[38;5;241;43m.\u001b[39;49m\u001b[43msize\u001b[49m\u001b[43m(\u001b[49m\u001b[43m)\u001b[49m\u001b[43m,\u001b[49m\u001b[43m \u001b[49m\u001b[43mdevice\u001b[49m\u001b[38;5;241;43m=\u001b[39;49m\u001b[43mtorch\u001b[49m\u001b[38;5;241;43m.\u001b[39;49m\u001b[43mdevice\u001b[49m\u001b[43m(\u001b[49m\u001b[38;5;124;43m'\u001b[39;49m\u001b[38;5;124;43mcuda\u001b[39;49m\u001b[38;5;124;43m'\u001b[39;49m\u001b[43m)\u001b[49m\u001b[43m)\u001b[49m\u001b[38;5;241m.\u001b[39mcopy_(\u001b[38;5;28mself\u001b[39m, non_blocking)\n",
      "\u001b[0;31mRuntimeError\u001b[0m: CUDA out of memory. Tried to allocate 24.00 MiB (GPU 0; 23.70 GiB total capacity; 20.29 GiB already allocated; 13.81 MiB free; 20.33 GiB reserved in total by PyTorch) If reserved memory is >> allocated memory try setting max_split_size_mb to avoid fragmentation.  See documentation for Memory Management and PYTORCH_CUDA_ALLOC_CONF"
     ]
    }
   ],
   "source": [
    "crit_eps_per_image, correct = crit_eps_one_image_pgd(modeltype = \"ll\", n = 1)"
   ]
  },
  {
   "cell_type": "code",
   "execution_count": 178,
   "id": "555bcebb",
   "metadata": {},
   "outputs": [
    {
     "name": "stdout",
     "output_type": "stream",
     "text": [
      "tensor(1, device='cuda:0')\n",
      "tensor(3889, device='cuda:0')\n"
     ]
    }
   ],
   "source": [
    "print((crit_eps_per_image==0.0099).sum())\n",
    "print((crit_eps_per_image!=0.0099).sum())"
   ]
  },
  {
   "cell_type": "code",
   "execution_count": 190,
   "id": "ea7e246d",
   "metadata": {},
   "outputs": [
    {
     "data": {
      "image/png": "[encoded data removed]",
      "text/plain": [
       "<Figure size 640x480 with 1 Axes>"
      ]
     },
     "metadata": {},
     "output_type": "display_data"
    }
   ],
   "source": [
    "plt.plot(correct)\n",
    "plt.title(\"Percentage of correctly classified images for one model\")\n",
    "plt.xlabel(\"Iterations\")\n",
    "plt.show()\n",
    "# all are classified corretly from start\n",
    "# once it is misclassified, it remains so "
   ]
  },
  {
   "cell_type": "code",
   "execution_count": null,
   "id": "43f49e08",
   "metadata": {},
   "outputs": [],
   "source": []
  },
  {
   "cell_type": "code",
   "execution_count": 185,
   "id": "0ffc5ad9",
   "metadata": {},
   "outputs": [
    {
     "data": {
      "application/json": {
       "ascii": false,
       "bar_format": null,
       "colour": null,
       "elapsed": 0.00570225715637207,
       "initial": 0,
       "n": 0,
       "ncols": null,
       "nrows": 55,
       "postfix": null,
       "prefix": "",
       "rate": null,
       "total": 100,
       "unit": "it",
       "unit_divisor": 1000,
       "unit_scale": false
      },
      "application/vnd.jupyter.widget-view+json": {
       "model_id": "edc24853b9164ae4a8de9138e8a9a2f8",
       "version_major": 2,
       "version_minor": 0
      },
      "text/plain": [
       "  0%|          | 0/100 [00:00<?, ?it/s]"
      ]
     },
     "metadata": {},
     "output_type": "display_data"
    }
   ],
   "source": [
    "all_models_per_image_ll = []\n",
    "for n in tqdm(range(100)):\n",
    "    crit_eps_per, correct = crit_eps_one_image_pgd(modeltype = \"ll\", n = 1)\n",
    "    all_models_per_image_ll.append(np.array(crit_eps_per.cpu()))"
   ]
  },
  {
   "cell_type": "code",
   "execution_count": 192,
   "id": "e31ce49d",
   "metadata": {},
   "outputs": [
    {
     "data": {
      "image/png": "[encoded data removed]",
      "text/plain": [
       "<Figure size 640x480 with 1 Axes>"
      ]
     },
     "metadata": {},
     "output_type": "display_data"
    }
   ],
   "source": [
    "plt.boxplot([all_models_per_image_ll[1]], showfliers=False)\n",
    "#plt.xticks([1,2],[\"BP\",\"LL\"])\n",
    "plt.ylabel(\"Critical epsilon\")\n",
    "plt.title(f\"Model number {1}\")\n",
    "plt.show()"
   ]
  },
  {
   "cell_type": "code",
   "execution_count": null,
   "id": "2aae0464",
   "metadata": {},
   "outputs": [],
   "source": [
    "all_models_per_image_bp = []\n",
    "for n in tqdm(range(100)):\n",
    "    crit_eps_per = crit_eps_one_model(\"bp\",n,FGSM)\n",
    "    all_models_per_image_bp.append(np.array(crit_eps_per.cpu()))"
   ]
  },
  {
   "cell_type": "code",
   "execution_count": null,
   "id": "476056c0",
   "metadata": {},
   "outputs": [],
   "source": [
    "all_models_per_image_ll_pgd = []\n",
    "for n in tqdm(range(100)):\n",
    "    crit_eps_per = crit_eps_one_model(\"ll\",n,PGD)\n",
    "    all_models_per_image_ll_pgd.append(np.array(crit_eps_per.cpu()))"
   ]
  },
  {
   "cell_type": "code",
   "execution_count": null,
   "id": "6e494127",
   "metadata": {},
   "outputs": [],
   "source": [
    "all_models_per_image_bp_pgd = []\n",
    "for n in tqdm(range(100)):\n",
    "    crit_eps_per = crit_eps_one_model(\"bp\",n,PGD)\n",
    "    all_models_per_image_bp_pgd.append(np.array(crit_eps_per.cpu()))"
   ]
  },
  {
   "cell_type": "code",
   "execution_count": null,
   "id": "e068d0ce",
   "metadata": {},
   "outputs": [],
   "source": [
    "long_epslist = [0.0001*i for i in range(1,100)]\n",
    "crit_eps_bp = crit_eps_one_model(\"bp\",n,FGSM,long_epslist)\n",
    "crit_eps_ll = crit_eps_one_model(\"ll\",n,FGSM,long_epslist)"
   ]
  },
  {
   "cell_type": "code",
   "execution_count": null,
   "id": "cc05cc16",
   "metadata": {},
   "outputs": [],
   "source": [
    "last_eps = long_epslist[-1]\n",
    "corr = (howlong_ll==last_eps)\n",
    "print(torch.sum(corr))"
   ]
  },
  {
   "cell_type": "code",
   "execution_count": null,
   "id": "f9d77913",
   "metadata": {},
   "outputs": [],
   "source": [
    "n = 1\n",
    "plt.boxplot([all_models_per_image_bp[n],all_models_per_image_ll[n]])\n",
    "plt.xticks([1,2],[\"BP\",\"LL\"])\n",
    "plt.ylabel(\"Critical epsilon\")\n",
    "plt.title(f\"Model number {n}\")\n",
    "plt.show()"
   ]
  },
  {
   "cell_type": "code",
   "execution_count": 187,
   "id": "fe59a87c",
   "metadata": {},
   "outputs": [
    {
     "ename": "NameError",
     "evalue": "name 'all_models_per_image_bp' is not defined",
     "output_type": "error",
     "traceback": [
      "\u001b[0;31m---------------------------------------------------------------------------\u001b[0m",
      "\u001b[0;31mNameError\u001b[0m                                 Traceback (most recent call last)",
      "Cell \u001b[0;32mIn[187], line 2\u001b[0m\n\u001b[1;32m      1\u001b[0m flat_ll \u001b[38;5;241m=\u001b[39m [item \u001b[38;5;28;01mfor\u001b[39;00m sublist \u001b[38;5;129;01min\u001b[39;00m all_models_per_image_ll \u001b[38;5;28;01mfor\u001b[39;00m item \u001b[38;5;129;01min\u001b[39;00m sublist]\n\u001b[0;32m----> 2\u001b[0m flat_bp \u001b[38;5;241m=\u001b[39m [item \u001b[38;5;28;01mfor\u001b[39;00m sublist \u001b[38;5;129;01min\u001b[39;00m \u001b[43mall_models_per_image_bp\u001b[49m \u001b[38;5;28;01mfor\u001b[39;00m item \u001b[38;5;129;01min\u001b[39;00m sublist]\n\u001b[1;32m      4\u001b[0m boxplotfgsm \u001b[38;5;241m=\u001b[39m plt\u001b[38;5;241m.\u001b[39mboxplot([flat_bp,flat_ll])\u001b[38;5;66;03m#,showfliers=False)\u001b[39;00m\n\u001b[1;32m      5\u001b[0m plt\u001b[38;5;241m.\u001b[39mxticks([\u001b[38;5;241m1\u001b[39m,\u001b[38;5;241m2\u001b[39m],[\u001b[38;5;124m\"\u001b[39m\u001b[38;5;124mAll bp models\u001b[39m\u001b[38;5;124m\"\u001b[39m,\u001b[38;5;124m\"\u001b[39m\u001b[38;5;124mAll ll models\u001b[39m\u001b[38;5;124m\"\u001b[39m])\n",
      "\u001b[0;31mNameError\u001b[0m: name 'all_models_per_image_bp' is not defined"
     ]
    }
   ],
   "source": [
    "flat_ll = [item for sublist in all_models_per_image_ll for item in sublist]\n",
    "flat_bp = [item for sublist in all_models_per_image_bp for item in sublist]\n",
    "\n",
    "boxplotfgsm = plt.boxplot([flat_bp,flat_ll])#,showfliers=False)\n",
    "plt.xticks([1,2],[\"All bp models\",\"All ll models\"])\n",
    "plt.ylabel(\"Critical epsilon\")\n",
    "plt.title(\"Epsilons for misclassification for FGSM\")\n",
    "plt.show()\n",
    "\n",
    "meds = [item.get_ydata() for item in boxplotfgsm[\"medians\"]]\n",
    "print(meds)"
   ]
  },
  {
   "cell_type": "code",
   "execution_count": null,
   "id": "2301952b",
   "metadata": {},
   "outputs": [],
   "source": [
    "#bp_spectra = all_models_per_image_bp[scales_stringer_spectra]\n",
    "\n",
    "x = scales_stringer_spectra\n",
    "y = all_models_per_image_bp\n",
    "stringer_bp = [b for a, b in zip(x, y) if a]\n",
    "not_stringer_bp = [b for a, b in zip(x, y) if not a]\n",
    "y = all_models_per_image_ll\n",
    "stringer_ll = [b for a, b in zip(x, y) if a]\n",
    "not_stringer_ll = [b for a, b in zip(x, y) if not a]"
   ]
  },
  {
   "cell_type": "code",
   "execution_count": null,
   "id": "facb86fb",
   "metadata": {},
   "outputs": [],
   "source": [
    "flat_ll_stringer = [item for sublist in stringer_ll for item in sublist]\n",
    "flat_ll_not_stringer = [item for sublist in not_stringer_ll for item in sublist]\n",
    "\n",
    "boxplot = plt.boxplot([flat_ll_stringer,flat_ll_not_stringer],showfliers=False)\n",
    "plt.xticks([1,2],[\"Spectrum = TRUE\",\"Spectrum = FALSE\"])\n",
    "plt.ylabel(\"Critical epsilon\")\n",
    "plt.title(\"Epsilons for misclassification for FGSM on ll models\")\n",
    "plt.show()\n",
    "\n",
    "meds = [item.get_ydata() for item in boxplot[\"medians\"]]\n",
    "print(meds)\n",
    "print((meds[0]==meds[1]).all())"
   ]
  },
  {
   "cell_type": "code",
   "execution_count": 186,
   "id": "7b2e9011",
   "metadata": {},
   "outputs": [
    {
     "ename": "NameError",
     "evalue": "name 'stringer_bp' is not defined",
     "output_type": "error",
     "traceback": [
      "\u001b[0;31m---------------------------------------------------------------------------\u001b[0m",
      "\u001b[0;31mNameError\u001b[0m                                 Traceback (most recent call last)",
      "Cell \u001b[0;32mIn[186], line 1\u001b[0m\n\u001b[0;32m----> 1\u001b[0m flat_bp_stringer \u001b[38;5;241m=\u001b[39m [item \u001b[38;5;28;01mfor\u001b[39;00m sublist \u001b[38;5;129;01min\u001b[39;00m \u001b[43mstringer_bp\u001b[49m \u001b[38;5;28;01mfor\u001b[39;00m item \u001b[38;5;129;01min\u001b[39;00m sublist]\n\u001b[1;32m      2\u001b[0m flat_bp_not_stringer \u001b[38;5;241m=\u001b[39m [item \u001b[38;5;28;01mfor\u001b[39;00m sublist \u001b[38;5;129;01min\u001b[39;00m not_stringer_bp \u001b[38;5;28;01mfor\u001b[39;00m item \u001b[38;5;129;01min\u001b[39;00m sublist]\n\u001b[1;32m      4\u001b[0m plt\u001b[38;5;241m.\u001b[39mboxplot([flat_bp_stringer,flat_bp_not_stringer],showfliers\u001b[38;5;241m=\u001b[39m\u001b[38;5;28;01mFalse\u001b[39;00m)\n",
      "\u001b[0;31mNameError\u001b[0m: name 'stringer_bp' is not defined"
     ]
    }
   ],
   "source": [
    "flat_bp_stringer = [item for sublist in stringer_bp for item in sublist]\n",
    "flat_bp_not_stringer = [item for sublist in not_stringer_bp for item in sublist]\n",
    "\n",
    "plt.boxplot([flat_bp_stringer,flat_bp_not_stringer],showfliers=False)\n",
    "plt.xticks([1,2],[\"Spectrum = TRUE\",\"Spectrum = FALSE\"])\n",
    "plt.ylabel(\"Critical epsilon\")\n",
    "plt.title(\"Epsilons for misclassification for FGSM on bp models\")\n",
    "plt.show()\n",
    "\n",
    "meds = [item.get_ydata() for item in boxplot[\"medians\"]]\n",
    "print((meds[0]==meds[1]).all())"
   ]
  },
  {
   "cell_type": "code",
   "execution_count": null,
   "id": "6074e019",
   "metadata": {},
   "outputs": [],
   "source": [
    "flat_ll_pgd = [item for sublist in all_models_per_image_ll_pgd for item in sublist]\n",
    "flat_bp_pgd = [item for sublist in all_models_per_image_bp_pgd for item in sublist]\n",
    "boxp = plt.boxplot([flat_bp_pgd,flat_ll_pgd])#,showfliers=False)\n",
    "plt.xticks([1,2],[\"All bp models\",\"All ll models\"])\n",
    "plt.ylabel(\"Critical epsilon\")\n",
    "plt.title(\"Epsilons for misclassification for PGD\")\n",
    "plt.show()\n",
    "\n",
    "meds = [item.get_ydata() for item in boxp[\"medians\"]]\n",
    "print(meds)"
   ]
  }
 ],
 "metadata": {
  "kernelspec": {
   "display_name": "Python 3 (ipykernel)",
   "language": "python",
   "name": "python3"
  },
  "language_info": {
   "codemirror_mode": {
    "name": "ipython",
    "version": 3
   },
   "file_extension": ".py",
   "mimetype": "text/x-python",
   "name": "python",
   "nbconvert_exporter": "python",
   "pygments_lexer": "ipython3",
   "version": "3.9.1"
  }
 },
 "nbformat": 4,
 "nbformat_minor": 5
}
