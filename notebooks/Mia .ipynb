{
 "cells": [
  {
   "cell_type": "code",
   "execution_count": 1,
   "id": "f311fbd4",
   "metadata": {},
   "outputs": [],
   "source": [
    "import os\n",
    "\n",
    "import torch\n",
    "from torch import Tensor\n",
    "from torch.utils.data import DataLoader\n",
    "from torchvision.transforms import ToTensor\n",
    "from torch import nn\n",
    "from torch.optim import Adam\n",
    "\n",
    "from pathlib import Path\n",
    "import LocalLearning_copy as LocalLearning\n",
    "from tqdm.notebook import tqdm\n",
    "import numpy as np\n",
    "from matplotlib import pyplot as plt\n",
    "from sklearn.linear_model import LogisticRegression\n",
    "from scipy.optimize import curve_fit "
   ]
  },
  {
   "cell_type": "code",
   "execution_count": 2,
   "id": "1711c583",
   "metadata": {},
   "outputs": [],
   "source": [
    "if torch.cuda.is_available():\n",
    "    device = torch.device('cuda')\n",
    "else:\n",
    "    device = torch.device('cpu')"
   ]
  },
  {
   "cell_type": "code",
   "execution_count": 3,
   "id": "8542c9d4",
   "metadata": {},
   "outputs": [],
   "source": [
    "# Hyper parameters:\n",
    "BATCH_SIZE = 1000\n",
    "NUMBER_OF_EPOCHS = 1000\n",
    "LEARNING_RATE = 1e-4\n",
    "\n",
    "# loss function\n",
    "ce_loss = torch.nn.CrossEntropyLoss()"
   ]
  },
  {
   "cell_type": "code",
   "execution_count": 4,
   "id": "9c3290c0",
   "metadata": {},
   "outputs": [
    {
     "name": "stdout",
     "output_type": "stream",
     "text": [
      "Files already downloaded and verified\n",
      "Files already downloaded and verified\n"
     ]
    }
   ],
   "source": [
    "cifar10Train= LocalLearning.LpUnitCIFAR10(\n",
    "            root=\"../data/CIFAR10\",\n",
    "            train=True,\n",
    "            transform=ToTensor(),\n",
    "            p=3.0,\n",
    "        )\n",
    "\n",
    "cifar10Test= LocalLearning.LpUnitCIFAR10(\n",
    "            root=\"../data/CIFAR10\",\n",
    "            train=False,\n",
    "            transform=ToTensor(),\n",
    "            p=3.0,\n",
    "        )\n",
    "\n",
    "TestLoader = LocalLearning.DeviceDataLoader(\n",
    "            cifar10Test,\n",
    "            device=device,\n",
    "            batch_size=BATCH_SIZE,\n",
    "            num_workers=4,\n",
    "            shuffle=True,\n",
    "        )\n",
    "\n",
    "TrainLoader = LocalLearning.DeviceDataLoader(\n",
    "            cifar10Train,\n",
    "            device=device,\n",
    "            batch_size=BATCH_SIZE,\n",
    "            num_workers=4,\n",
    "            shuffle=True,\n",
    "        )"
   ]
  },
  {
   "cell_type": "code",
   "execution_count": 5,
   "id": "61e81926",
   "metadata": {},
   "outputs": [],
   "source": [
    "scales_stringer_spectra = np.array([False, False, False,  True, False, False, False, False, False,\n",
    "       False, False, False, False, False, False,  True, False, False,\n",
    "       False, False,  True, False, False, False, False, False, False,\n",
    "       False, False,  True, False, False, False, False,  True,  True,\n",
    "       False, False, False, False, False, False, False, False, False,\n",
    "       False, False, False, False, False, False, False, False, False,\n",
    "       False, False, False, False, False, False, False, False, False,\n",
    "       False, False, False, False, False, False, False, False, False,\n",
    "       False, False, False, False, False, False,  True, False, False,\n",
    "       False, False, False, False, False, False, False, False, False,\n",
    "       False, False, False, False, False, False, False, False, False,\n",
    "       False])"
   ]
  },
  {
   "cell_type": "code",
   "execution_count": 6,
   "id": "7aa7914d",
   "metadata": {},
   "outputs": [],
   "source": [
    "def load_trained_model_bp(idx):\n",
    "    trained_model_bp_path = Path(\"../data/models/KHModelCIFAR10_ensemble/bp\")\n",
    "    file_names_trained_bp = os.listdir(trained_model_bp_path)\n",
    "    file_names_trained_bp = [fn for fn in file_names_trained_bp if os.path.isfile(trained_model_bp_path / Path(fn))]\n",
    "    \n",
    "    trained_model_bp = Path(file_names_trained_bp[idx])\n",
    "    \n",
    "    with torch.no_grad():\n",
    "        trained_state_bp = torch.load(trained_model_bp_path/trained_model_bp)\n",
    "        model_ps_bp = trained_state_bp[\"fkhl3-state\"]\n",
    "        model_bp = LocalLearning.KHModel_bp(model_ps_bp)\n",
    "        model_bp.eval()\n",
    "        model_bp.load_state_dict(trained_state_bp[\"model_state_dict\"])\n",
    "        model_bp.to(device)\n",
    "        \n",
    "    return model_bp\n",
    "\n",
    "def load_trained_model_ll(idx):\n",
    "        \n",
    "    trained_model_ll_path = Path(\"../data/models/KHModelCIFAR10_ensemble/ll\")\n",
    "    file_names_trained_ll = os.listdir(trained_model_ll_path)\n",
    "    file_names_trained_ll = [fn for fn in file_names_trained_ll if os.path.isfile(trained_model_ll_path / Path(fn))]\n",
    "    \n",
    "    trained_model_ll = Path(file_names_trained_ll[idx])\n",
    "    \n",
    "    with torch.no_grad():\n",
    "        trained_state_ll = torch.load(trained_model_ll_path/trained_model_ll)\n",
    "        model_ps_ll = trained_state_ll[\"fkhl3-state\"]\n",
    "        model_ll = LocalLearning.KHModel(model_ps_ll)\n",
    "        model_ll.eval()\n",
    "        model_ll.load_state_dict(trained_state_ll[\"model_state_dict\"])\n",
    "        model_ll.to(device)\n",
    "        \n",
    "    return model_ll"
   ]
  },
  {
   "cell_type": "code",
   "execution_count": 7,
   "id": "05ac7c87",
   "metadata": {},
   "outputs": [
    {
     "name": "stdout",
     "output_type": "stream",
     "text": [
      "\n"
     ]
    }
   ],
   "source": [
    "\"\"\"\n",
    "fkhl3-path\": str(llmodels_path / model_file),\n",
    "\"fkhl3-state\": ll_trained_state,\n",
    "\"model_state_dict\": khmodel.state_dict(),\n",
    "\"loss_history\": loss_history,\n",
    "\"accuracy_history\": accuracy_history\n",
    "\"\"\" \n",
    "print()"
   ]
  },
  {
   "cell_type": "code",
   "execution_count": 8,
   "id": "25b3777d",
   "metadata": {},
   "outputs": [],
   "source": [
    "def acc_total(\n",
    "    test: DataLoader,\n",
    "    model: LocalLearning.KHModel, \n",
    "    thres,\n",
    "    crit=None\n",
    "    ):\n",
    "    \n",
    "    freq_correct = 0\n",
    "    model.eval()\n",
    "    total = 0\n",
    "    for batch_no, (features, labels) in enumerate(test):\n",
    "        preds = model(features)\n",
    "        pred = torch.argmax(preds, dim=-1)\n",
    "        \n",
    "        if crit == \"correct_thres\":\n",
    "            softmax_correct = (preds[torch.arange(1000),pred])\n",
    "            thres_idx = (softmax_correct >= thres)\n",
    "            correct_idx = (torch.abs(pred - labels) == 0)\n",
    "            filtr_idx = thres_idx & correct_idx \n",
    "            new_preds = pred[filtr_idx]\n",
    "            new_labels = labels[filtr_idx]\n",
    "            total += len(new_labels)\n",
    "            \n",
    "        elif crit == \"thres\":\n",
    "            softmax_correct = (preds[torch.arange(1000),pred])\n",
    "            thres_idx = (softmax_correct >= thres)\n",
    "            new_preds = pred[thres_idx]\n",
    "            new_labels = labels[thres_idx]\n",
    "            total += len(new_labels)\n",
    "            \n",
    "        elif crit == \"correct\": \n",
    "            correct_idx = (torch.abs(pred - labels) == 0)\n",
    "            new_preds = pred[correct_idx]\n",
    "            new_labels = labels[correct_idx]\n",
    "            total += len(new_labels)\n",
    "            \n",
    "        elif crit == None:\n",
    "            new_preds = torch.argmax(preds,axis=1)\n",
    "            new_labels = labels\n",
    "            total += len(new_labels)\n",
    "        \n",
    "        freq_correct += (torch.abs(new_preds - new_labels) == 0).sum()\n",
    "        \n",
    "    correct = (freq_correct / total).item()\n",
    "    \n",
    "    return correct, total"
   ]
  },
  {
   "cell_type": "code",
   "execution_count": 9,
   "id": "fc4570c2",
   "metadata": {},
   "outputs": [],
   "source": [
    "def acc_total_n_models(n,modeltype,dataloader,thres,crit=None):\n",
    "    list_acc = []\n",
    "    list_n = []\n",
    "    \n",
    "    if modeltype == \"bp\": \n",
    "        for i in tqdm(range(n)):\n",
    "            model = load_trained_model_bp(i)\n",
    "            correct, total = acc_total(dataloader, model, thres, crit)\n",
    "            list_acc.append(correct)\n",
    "            list_n.append(total)\n",
    "        \n",
    "    if modeltype == \"ll\": \n",
    "        for i in tqdm(range(n)):\n",
    "            model = load_trained_model_ll(i)\n",
    "            correct, total = acc_total(dataloader, model, thres, crit)\n",
    "            list_acc.append(correct)\n",
    "            list_n.append(total)\n",
    "        \n",
    "    return list_acc, list_n "
   ]
  },
  {
   "cell_type": "code",
   "execution_count": 10,
   "id": "c45fca6b",
   "metadata": {},
   "outputs": [],
   "source": [
    "n = 100\n",
    "dataloader = TestLoader\n",
    "threshold = 0.8"
   ]
  },
  {
   "cell_type": "code",
   "execution_count": 11,
   "id": "61201dc2",
   "metadata": {},
   "outputs": [],
   "source": [
    "#list_acc_normal, list_n_normal = acc_total_n_models(100,\"bp\",dataloader,0)\n",
    "#torch.save(list_acc_normal,\"../data/Mia_data/accuracy_all_bp_models.pt\")"
   ]
  },
  {
   "cell_type": "code",
   "execution_count": 12,
   "id": "390cb1ea",
   "metadata": {},
   "outputs": [],
   "source": [
    "def print_info(n, model, dataloader, threshold, crit):\n",
    "    acc, tot = acc_total(n, model, dataloader, threshold, crit)\n",
    "    if crit == \"correct_thres\":\n",
    "        print(f\"Criterium = Correct and above 0.8\")\n",
    "        \n",
    "    elif crit == \"thres\":\n",
    "        print(f\"Criterium = Above 0.8\")\n",
    "\n",
    "    else: \n",
    "        print(f\"Criterium = Correct\")\n",
    "        \n",
    "    print(f\"Mean correct for {n} {model} models with Softmax >= {threshold} on training data : {np.mean(acc)*100:.2f} %\")\n",
    "    print(f\"Mean number of pictures = {np.mean(tot)}\")"
   ]
  },
  {
   "cell_type": "code",
   "execution_count": 13,
   "id": "1015ae00",
   "metadata": {},
   "outputs": [],
   "source": [
    "for model in [\"bp\", \"ll\"]:\n",
    "    for crit in [\"correct_thres\", \"correct\", \"thres\"]:\n",
    "        pass"
   ]
  },
  {
   "cell_type": "markdown",
   "id": "a5deae15",
   "metadata": {},
   "source": [
    "Choosing correct and over threshold as the critirium and the TestLoader as the data set "
   ]
  },
  {
   "cell_type": "code",
   "execution_count": 14,
   "id": "3eff3971",
   "metadata": {},
   "outputs": [],
   "source": [
    "def data_critirium(\n",
    "    dataloader,\n",
    "    model, \n",
    "    crit,\n",
    "    thres = None\n",
    "    ):\n",
    "    \n",
    "    # Returns the data that meets the critirium given (crit)\n",
    "    \n",
    "    freq_correct = 0\n",
    "    model.eval()\n",
    "    total = 0\n",
    "    \n",
    "    data = torch.zeros((0,32,32,3)).to(device)\n",
    "    lab_data = torch.zeros((0)).to(device)\n",
    "    \n",
    "    for batch_no, (features, labels) in enumerate(dataloader):\n",
    "        preds = model(features)\n",
    "        pred = torch.argmax(preds, dim=-1)\n",
    "        \n",
    "        if crit == \"correct\":\n",
    "            filtr_idx = (torch.abs(pred - labels) == 0)\n",
    "            new_features = features[filtr_idx]\n",
    "            data = torch.cat((data, new_features),dim=0)\n",
    "            new_labels = labels[filtr_idx]\n",
    "            lab_data = torch.cat((lab_data, new_labels),dim=0)\n",
    "        \n",
    "        elif crit == \"correct_thres\":\n",
    "            softmax_correct = (preds[torch.arange(1000),pred])\n",
    "            thres_idx = (softmax_correct >= thres)\n",
    "            correct_idx = (torch.abs(pred - labels) == 0)\n",
    "            filtr_idx = thres_idx & correct_idx \n",
    "            new_features = features[filtr_idx]\n",
    "            data = torch.cat((data, new_features),dim=0)\n",
    "            new_labels = labels[filtr_idx]\n",
    "            lab_data = torch.cat((lab_data, new_labels),dim=0)\n",
    "            \n",
    "        else:\n",
    "            softmax_correct = (preds[torch.arange(1000),pred])\n",
    "            filtr_idx = (softmax_correct >= thres)\n",
    "            new_features = features[filtr_idx]\n",
    "            data = torch.cat((data, new_features),dim=0)\n",
    "            new_labels = labels[filtr_idx]\n",
    "            lab_data = torch.cat((lab_data, new_labels),dim=0)\n",
    "    \n",
    "    return data, lab_data"
   ]
  },
  {
   "cell_type": "code",
   "execution_count": 268,
   "id": "a5badf4e",
   "metadata": {},
   "outputs": [],
   "source": [
    "def test_attack(\n",
    "    features,\n",
    "    labels, \n",
    "    model, \n",
    "    attack,\n",
    "    loss_fn, \n",
    "    optimizer, \n",
    "    eps,\n",
    "    std=None,\n",
    "    ):\n",
    "    \n",
    "    freq_correct = 0\n",
    "    total = 0 \n",
    "\n",
    "    labels = labels.type(torch.LongTensor).to(device)\n",
    "    features.requires_grad = True\n",
    "    preds = model(features)\n",
    "    loss = loss_fn(preds, labels)\n",
    "    optimizer.zero_grad()\n",
    "    loss.backward()\n",
    "    \n",
    "    if attack == FGSM:\n",
    "        perturbed = attack(features,eps)\n",
    "        \n",
    "    elif attack == PGD:\n",
    "        perturbed = PGD(model, features, labels, loss_fn, num_steps=10, step_size=0.01,\n",
    "                                           eps=eps, eps_norm='inf', step_norm='inf')\n",
    "        \n",
    "    preds_perturbed = torch.argmax(model(perturbed), dim=-1)\n",
    "    alike = (preds_perturbed == labels)\n",
    "    freq_correct += (torch.abs(preds_perturbed - labels) == 0).sum()\n",
    "    total += len(preds)\n",
    "\n",
    "    correct = (freq_correct/total).item()\n",
    "    \n",
    "    return correct, alike \n",
    "\n",
    "\n",
    "def FGSM(features, epsilon):\n",
    "    perturbed_image = features + epsilon*features.grad.data.sign()\n",
    "    perturbed_image = torch.clamp(perturbed_image, 0, 1)\n",
    "    return perturbed_image\n",
    "\n",
    "# implement PGD\n",
    "\n",
    "def PGD(model, x, y, loss_fn, num_steps, step_size, step_norm, eps, eps_norm,\n",
    "                               clamp=(0,1), y_target=None):\n",
    "    \"\"\"Performs the projected gradient descent attack on a batch of images.\"\"\"\n",
    "    x_adv = x.clone().detach().requires_grad_(True).to(x.device)\n",
    "    targeted = y_target is not None\n",
    "    num_channels = x.shape[1]\n",
    "\n",
    "    for i in range(num_steps):\n",
    "        _x_adv = x_adv.clone().detach().requires_grad_(True)\n",
    "\n",
    "        prediction = model(_x_adv)\n",
    "        loss = loss_fn(prediction, y_target if targeted else y)\n",
    "        loss.backward()\n",
    "\n",
    "        with torch.no_grad():\n",
    "            # Force the gradient step to be a fixed size in a certain norm\n",
    "            if step_norm == 'inf':\n",
    "                gradients = _x_adv.grad.sign() * step_size\n",
    "            else:\n",
    "                # Note .view() assumes batched image data as 4D tensor\n",
    "                gradients = _x_adv.grad * step_size / _x_adv.grad.view(_x_adv.shape[0], -1)\\\n",
    "                    .norm(step_norm, dim=-1)\\\n",
    "                    .view(-1, num_channels, 1, 1)\n",
    "\n",
    "            if targeted:\n",
    "                # Targeted: Gradient descent with on the loss of the (incorrect) target label\n",
    "                # w.r.t. the image data\n",
    "                x_adv -= gradients\n",
    "            else:\n",
    "                # Untargeted: Gradient ascent on the loss of the correct label w.r.t.\n",
    "                # the model parameters\n",
    "                x_adv += gradients\n",
    "\n",
    "        # Project back into l_norm ball and correct range\n",
    "        if eps_norm == 'inf':\n",
    "            # Workaround as PyTorch doesn't have elementwise clip\n",
    "            x_adv = torch.max(torch.min(x_adv, x + eps), x - eps)\n",
    "        else:\n",
    "            delta = x_adv - x\n",
    "\n",
    "            # Assume x and x_adv are batched tensors where the first dimension is\n",
    "            # a batch dimension\n",
    "            mask = delta.view(delta.shape[0], -1).norm(norm, dim=1) <= eps\n",
    "\n",
    "            scaling_factor = delta.view(delta.shape[0], -1).norm(norm, dim=1)\n",
    "            scaling_factor[mask] = eps\n",
    "\n",
    "            # .view() assumes batched images as a 4D Tensor\n",
    "            delta *= eps / scaling_factor.view(-1, 1, 1, 1)\n",
    "\n",
    "            x_adv = x + delta\n",
    "            \n",
    "        x_adv = x_adv.clamp(*clamp)\n",
    "\n",
    "    return x_adv.detach()"
   ]
  },
  {
   "cell_type": "code",
   "execution_count": 302,
   "id": "5bf0ef2a",
   "metadata": {},
   "outputs": [],
   "source": [
    "epslist = [0.0001*i for i in range(1,100)]\n",
    "\n",
    "def logistic(x,a,b,c,d):\n",
    "    return a/(1+np.exp(-c*(x-d)))+b\n",
    "\n",
    "def criteps(n,modeltype,plot=False,crit=None, epslist=epslist):\n",
    "    \n",
    "    if modeltype == \"ll\":\n",
    "    \n",
    "        ll = []\n",
    "        ll_crit_eps = []\n",
    "        ll_eps_half_max = []\n",
    "\n",
    "        for i in tqdm(range(n)):\n",
    "            model_ll = load_trained_model_ll(i)\n",
    "            data_ll, lab_ll = data_critirium(TestLoader, model_ll, \"correct_thres\", thres = 0.8)\n",
    "\n",
    "            AdamOpt_ll = Adam(model_ll.parameters(), lr=LEARNING_RATE)\n",
    "\n",
    "            list_ll = []\n",
    "\n",
    "            for eps in epslist:\n",
    "                correct, alike = test_attack(data_ll, lab_ll, model_ll, FGSM, ce_loss, AdamOpt_ll, eps)\n",
    "                list_ll.append(float(correct))\n",
    "\n",
    "            ll.append(list_ll)\n",
    "\n",
    "            x = np.array(epslist)\n",
    "            y_ll = np.array(list_ll)\n",
    "\n",
    "            popt, pcov = curve_fit(logistic, x, y_ll)\n",
    "            critical_eps = popt[-1]\n",
    "\n",
    "            ll_crit_eps.append(critical_eps)\n",
    "\n",
    "            x_high_res = np.linspace(x[0],x[-1]+1,10000)\n",
    "            func = logistic(x_high_res,*popt)\n",
    "            half_max_idx = (np.abs(func-0.5)).argmin()\n",
    "            eps_half_max = x_high_res[half_max_idx]\n",
    "\n",
    "            ll_eps_half_max.append(eps_half_max)\n",
    "        \n",
    "        \n",
    "            if plot==True and i == 0:\n",
    "                plt.plot(x,y_ll)\n",
    "                plt.plot(x,logistic(x,*popt))\n",
    "                plt.plot(critical_eps,logistic(critical_eps,*popt),\"ro\",label=\"Inflection point of fitted curve\")\n",
    "                plt.plot(eps_half_max,func[half_max_idx],\"bo\",label=\"Fitted curve = 0.5\")\n",
    "                plt.title(\"FGSM on LL model\")\n",
    "                plt.legend()\n",
    "                plt.show()\n",
    "        \n",
    "                \n",
    "        return ll, ll_crit_eps, ll_eps_half_max\n",
    "    \n",
    "    elif modeltype == \"bp\":\n",
    "    \n",
    "        bp = []\n",
    "        bp_eps_half_max = []\n",
    "\n",
    "        for i in tqdm(range(n)):\n",
    "            model_bp = load_trained_model_bp(i)\n",
    "            data_bp, lab_bp = data_critirium(TestLoader, model_bp, \"correct_thres\", thres = 0.8)\n",
    "\n",
    "            AdamOpt_bp = Adam(model_bp.parameters(), lr=LEARNING_RATE)\n",
    "\n",
    "            list_bp = []\n",
    "\n",
    "            for eps in epslist:\n",
    "                correct = test_attack(data_bp, lab_bp, model_bp, FGSM, ce_loss, AdamOpt_bp, eps)\n",
    "                list_bp.append(correct)\n",
    "\n",
    "            bp.append(list_bp)\n",
    "\n",
    "            x = np.array(epslist)\n",
    "            y_bp = np.array(list_bp)\n",
    "\n",
    "            popt, pcov = curve_fit(logistic, x, y_bp, p0=(1,0,1,0), maxfev = 10000)\n",
    "           \n",
    "            x_high_res = np.linspace(x[0],x[-1]+1,10000)\n",
    "            func = logistic(x_high_res,*popt)\n",
    "            half_max_idx = (np.abs(func-0.5)).argmin()\n",
    "            eps_half_max = x_high_res[half_max_idx]\n",
    "\n",
    "            bp_eps_half_max.append(eps_half_max)\n",
    "            \n",
    "            if plot==True and i == 0:\n",
    "                plt.plot(x,y_bp)\n",
    "                plt.plot(x,logistic(x,*popt))\n",
    "                #plt.plot(critical_eps,logistic(critical_eps,*popt),\"ro\",label=\"Inflection point of fitted curve\")\n",
    "                plt.plot(eps_half_max,func[half_max_idx],\"bo\",label=\"Fitted curve = 0.5\")\n",
    "                plt.title(\"FGSM on LL model\")\n",
    "                plt.legend()\n",
    "                plt.show()\n",
    "                \n",
    "        return bp, \"Not defined\", bp_eps_half_max"
   ]
  },
  {
   "cell_type": "code",
   "execution_count": 133,
   "id": "16877927",
   "metadata": {},
   "outputs": [
    {
     "data": {
      "application/vnd.jupyter.widget-view+json": {
       "model_id": "e0c9b2127b6347f09ba9be6991f68d94",
       "version_major": 2,
       "version_minor": 0
      },
      "text/plain": [
       "  0%|          | 0/100 [00:00<?, ?it/s]"
      ]
     },
     "metadata": {},
     "output_type": "display_data"
    },
    {
     "data": {
      "image/png": "[encoded data removed]",
      "text/plain": [
       "<Figure size 640x480 with 1 Axes>"
      ]
     },
     "metadata": {},
     "output_type": "display_data"
    },
    {
     "ename": "KeyboardInterrupt",
     "evalue": "",
     "output_type": "error",
     "traceback": [
      "\u001b[0;31m---------------------------------------------------------------------------\u001b[0m",
      "\u001b[0;31mKeyboardInterrupt\u001b[0m                         Traceback (most recent call last)",
      "\u001b[0;32m/tmp/ipykernel_5508/901705265.py\u001b[0m in \u001b[0;36m<module>\u001b[0;34m\u001b[0m\n\u001b[0;32m----> 1\u001b[0;31m \u001b[0maccuracy\u001b[0m\u001b[0;34m,\u001b[0m \u001b[0mcritical_eps\u001b[0m\u001b[0;34m,\u001b[0m \u001b[0meps_half_max\u001b[0m \u001b[0;34m=\u001b[0m \u001b[0mcriteps\u001b[0m\u001b[0;34m(\u001b[0m\u001b[0mn\u001b[0m \u001b[0;34m=\u001b[0m \u001b[0;36m100\u001b[0m\u001b[0;34m,\u001b[0m \u001b[0mmodeltype\u001b[0m \u001b[0;34m=\u001b[0m \u001b[0;34m\"ll\"\u001b[0m\u001b[0;34m,\u001b[0m \u001b[0mplot\u001b[0m \u001b[0;34m=\u001b[0m \u001b[0;32mTrue\u001b[0m\u001b[0;34m)\u001b[0m\u001b[0;34m\u001b[0m\u001b[0;34m\u001b[0m\u001b[0m\n\u001b[0m",
      "\u001b[0;32m/tmp/ipykernel_5508/1222167961.py\u001b[0m in \u001b[0;36mcriteps\u001b[0;34m(n, modeltype, plot, crit)\u001b[0m\n\u001b[1;32m     21\u001b[0m \u001b[0;34m\u001b[0m\u001b[0m\n\u001b[1;32m     22\u001b[0m             \u001b[0;32mfor\u001b[0m \u001b[0meps\u001b[0m \u001b[0;32min\u001b[0m \u001b[0mepslist\u001b[0m\u001b[0;34m:\u001b[0m\u001b[0;34m\u001b[0m\u001b[0;34m\u001b[0m\u001b[0m\n\u001b[0;32m---> 23\u001b[0;31m                 \u001b[0mcorrect\u001b[0m\u001b[0;34m,\u001b[0m \u001b[0malike\u001b[0m \u001b[0;34m=\u001b[0m \u001b[0mtest_attack\u001b[0m\u001b[0;34m(\u001b[0m\u001b[0mdata_ll\u001b[0m\u001b[0;34m,\u001b[0m \u001b[0mlab_ll\u001b[0m\u001b[0;34m,\u001b[0m \u001b[0mmodel_ll\u001b[0m\u001b[0;34m,\u001b[0m \u001b[0mFGSM\u001b[0m\u001b[0;34m,\u001b[0m \u001b[0mce_loss\u001b[0m\u001b[0;34m,\u001b[0m \u001b[0mAdamOpt_ll\u001b[0m\u001b[0;34m,\u001b[0m \u001b[0meps\u001b[0m\u001b[0;34m)\u001b[0m\u001b[0;34m\u001b[0m\u001b[0;34m\u001b[0m\u001b[0m\n\u001b[0m\u001b[1;32m     24\u001b[0m                 \u001b[0mlist_ll\u001b[0m\u001b[0;34m.\u001b[0m\u001b[0mappend\u001b[0m\u001b[0;34m(\u001b[0m\u001b[0mfloat\u001b[0m\u001b[0;34m(\u001b[0m\u001b[0mcorrect\u001b[0m\u001b[0;34m)\u001b[0m\u001b[0;34m)\u001b[0m\u001b[0;34m\u001b[0m\u001b[0;34m\u001b[0m\u001b[0m\n\u001b[1;32m     25\u001b[0m \u001b[0;34m\u001b[0m\u001b[0m\n",
      "\u001b[0;32m/tmp/ipykernel_5508/1569186199.py\u001b[0m in \u001b[0;36mtest_attack\u001b[0;34m(features, labels, model, attack, loss_fn, optimizer, eps, std)\u001b[0m\n\u001b[1;32m     26\u001b[0m     \u001b[0mtotal\u001b[0m \u001b[0;34m+=\u001b[0m \u001b[0mlen\u001b[0m\u001b[0;34m(\u001b[0m\u001b[0mpreds\u001b[0m\u001b[0;34m)\u001b[0m\u001b[0;34m\u001b[0m\u001b[0;34m\u001b[0m\u001b[0m\n\u001b[1;32m     27\u001b[0m \u001b[0;34m\u001b[0m\u001b[0m\n\u001b[0;32m---> 28\u001b[0;31m     \u001b[0mcorrect\u001b[0m \u001b[0;34m=\u001b[0m \u001b[0;34m(\u001b[0m\u001b[0mfreq_correct\u001b[0m\u001b[0;34m/\u001b[0m\u001b[0mtotal\u001b[0m\u001b[0;34m)\u001b[0m\u001b[0;34m.\u001b[0m\u001b[0mitem\u001b[0m\u001b[0;34m(\u001b[0m\u001b[0;34m)\u001b[0m\u001b[0;34m\u001b[0m\u001b[0;34m\u001b[0m\u001b[0m\n\u001b[0m\u001b[1;32m     29\u001b[0m \u001b[0;34m\u001b[0m\u001b[0m\n\u001b[1;32m     30\u001b[0m     \u001b[0;32mreturn\u001b[0m \u001b[0mcorrect\u001b[0m\u001b[0;34m,\u001b[0m \u001b[0malike\u001b[0m\u001b[0;34m\u001b[0m\u001b[0;34m\u001b[0m\u001b[0m\n",
      "\u001b[0;31mKeyboardInterrupt\u001b[0m: "
     ]
    }
   ],
   "source": [
    "accuracy, critical_eps, eps_half_max = criteps(n = 100, modeltype = \"ll\", plot = True)"
   ]
  },
  {
   "cell_type": "code",
   "execution_count": null,
   "id": "3bbfaeae",
   "metadata": {},
   "outputs": [],
   "source": [
    "#torch.save(ll,\"../data/Mia_data/accuracy_through_FGSM_all_ll_models.pt\")"
   ]
  },
  {
   "cell_type": "code",
   "execution_count": 255,
   "id": "f36a49af",
   "metadata": {},
   "outputs": [
    {
     "name": "stderr",
     "output_type": "stream",
     "text": [
      "/tmp/ipykernel_5508/1222167961.py:4: RuntimeWarning: overflow encountered in exp\n",
      "  return a/(1+np.exp(-c*(x-d)))+b\n"
     ]
    },
    {
     "data": {
      "image/png": "[encoded data removed]",
      "text/plain": [
       "<Figure size 640x480 with 1 Axes>"
      ]
     },
     "metadata": {},
     "output_type": "display_data"
    }
   ],
   "source": [
    "poptt = [5.61523970e+04,  5.74443460e-04, -9.22749104e+02, -1.18282523e-02]\n",
    "xarray = np.linspace(-5,5,10000)\n",
    "plt.plot(xarray,logistic(xarray,*poptt))\n",
    "critical_eps = -1.18282523e-02\n",
    "plt.plot(critical_eps,logistic(critical_eps,*poptt),\"ro\")\n",
    "plt.xlim(-0.03,0.01)\n",
    "plt.show()\n",
    "\n",
    "# In attempting to define the critical epsilon as the inflection point this happens"
   ]
  },
  {
   "cell_type": "code",
   "execution_count": null,
   "id": "0c31f234",
   "metadata": {},
   "outputs": [],
   "source": [
    "#torch.save(bp,\"../data/Mia_data/accuracy_through_FGSM_all_bp_models.pt\")"
   ]
  },
  {
   "cell_type": "code",
   "execution_count": null,
   "id": "625d176b",
   "metadata": {},
   "outputs": [],
   "source": [
    "plt.plot(bp[0])\n",
    "print(bpeps)"
   ]
  },
  {
   "cell_type": "code",
   "execution_count": null,
   "id": "76eb7621",
   "metadata": {},
   "outputs": [],
   "source": [
    "#torch.save(lleps,\"../data/Mia_data/critical_epsilons_ll_models.pt\")"
   ]
  },
  {
   "cell_type": "code",
   "execution_count": null,
   "id": "1d1e214e",
   "metadata": {},
   "outputs": [],
   "source": [
    "crit_eps_ll = np.array(torch.load(\"../data/Mia_data/critical_epsilons_ll_models.pt\"))\n",
    "acc_ll = np.array(torch.load(\"../data/Mia_data/accuracy_all_ll_models.pt\"))\n",
    "\n",
    "acc_bp = np.array(torch.load(\"../data/Mia_data/accuracy_all_bp_models.pt\"))"
   ]
  },
  {
   "cell_type": "code",
   "execution_count": null,
   "id": "bcf91811",
   "metadata": {},
   "outputs": [],
   "source": [
    "crit_eps_ll_spectra = crit_eps_ll[scales_stringer_spectra]\n",
    "acc_ll_spectra = acc_ll[scales_stringer_spectra]"
   ]
  },
  {
   "cell_type": "code",
   "execution_count": null,
   "id": "d8cd0ef9",
   "metadata": {},
   "outputs": [],
   "source": [
    "plt.figure(figsize=(10,6))\n",
    "plt.scatter(crit_eps_ll,acc_ll)\n",
    "plt.scatter(crit_eps_ll_spectra,acc_ll_spectra,c=\"red\")\n",
    "plt.xlabel(\"Critical epsilon\")\n",
    "plt.ylabel(\"Accuracy\")\n",
    "plt.show()"
   ]
  },
  {
   "cell_type": "code",
   "execution_count": null,
   "id": "c1c480b1",
   "metadata": {},
   "outputs": [],
   "source": [
    "eps_fit_curve_at_half_ll = torch.load(\"../data/Mia_data/epsilon_fitted_curve_at_05_all_ll_models.pt\")\n",
    "eps_fit_curve_at_half_bp = torch.load(\"../data/Mia_data/epsilon_fitted_curve_at_05_all_bp_models.pt\")"
   ]
  },
  {
   "cell_type": "code",
   "execution_count": null,
   "id": "b93e91d5",
   "metadata": {},
   "outputs": [],
   "source": [
    "print(np.mean(eps_fit_curve_at_half_ll))\n",
    "print(np.mean(eps_fit_curve_at_half_bp))"
   ]
  },
  {
   "cell_type": "code",
   "execution_count": 303,
   "id": "11e8fb92",
   "metadata": {},
   "outputs": [],
   "source": [
    "def crit_eps_one_model(modeltype,n,attack,epslist=epslist):\n",
    "    \n",
    "    #n = modelnumber\n",
    "    \n",
    "    if modeltype == \"ll\":\n",
    "    \n",
    "        ll_crit_eps = []\n",
    "        list_ll_correct_all = []\n",
    "\n",
    "        model_ll = load_trained_model_ll(n)\n",
    "        data_ll, lab_ll = data_critirium(TestLoader, model_ll, \"correct\")#, thres = 0.8)\n",
    "        \n",
    "        siz = len(lab_ll)\n",
    "        \n",
    "        crit_eps_per_image = torch.ones(siz).to(device)\n",
    "        crit_eps_per_image[:] = epslist[-1]\n",
    "        \n",
    "        AdamOpt_ll = Adam(model_ll.parameters(), lr=LEARNING_RATE)\n",
    "\n",
    "        for eps in epslist:\n",
    "            correct, alike = test_attack(data_ll, lab_ll, model_ll, attack, ce_loss, AdamOpt_ll, eps)\n",
    "            mask = (alike == False) & (crit_eps_per_image == epslist[-1])\n",
    "            crit_eps_per_image[mask] = eps\n",
    "            list_ll_correct_all.append(correct)\n",
    "\n",
    "        x = np.array(epslist)\n",
    "        y_ll = np.array(list_ll_correct_all)\n",
    "\n",
    "        popt, pcov = curve_fit(logistic, x, y_ll)\n",
    "        critical_eps = popt[-1]\n",
    "\n",
    "        ll_crit_eps.append(critical_eps)\n",
    "                        \n",
    "        return crit_eps_per_image #, list_ll_correct_all, ll_crit_eps\n",
    "    \n",
    "    if modeltype == \"bp\":\n",
    "    \n",
    "        bp_crit_eps = []\n",
    "        list_bp_correct_all = []\n",
    "\n",
    "        model_bp = load_trained_model_bp(n)\n",
    "        data_bp, lab_bp = data_critirium(TestLoader, model_bp, \"correct\")#, thres = 0.8)\n",
    "        \n",
    "        siz = len(lab_bp)\n",
    "        \n",
    "        crit_eps_per_image = torch.ones(siz).to(device)\n",
    "        crit_eps_per_image[:] = epslist[-1]\n",
    "        \n",
    "        AdamOpt_bp = Adam(model_bp.parameters(), lr=LEARNING_RATE)\n",
    "\n",
    "        for eps in epslist:\n",
    "            correct, alike = test_attack(data_bp, lab_bp, model_bp, attack, ce_loss, AdamOpt_bp, eps)\n",
    "            mask = (alike == False) & (crit_eps_per_image == epslist[-1])\n",
    "            crit_eps_per_image[mask] = eps\n",
    "            list_bp_correct_all.append(correct)\n",
    "\n",
    "        x = np.array(epslist)\n",
    "        y_bp = np.array(list_bp_correct_all)\n",
    "\n",
    "        popt, pcov = curve_fit(logistic, x, y_bp)\n",
    "        critical_eps = popt[-1]\n",
    "\n",
    "        bp_crit_eps.append(critical_eps)\n",
    "        \n",
    "        return crit_eps_per_image #, list_bp_correct_all, bp_crit_eps"
   ]
  },
  {
   "cell_type": "code",
   "execution_count": 180,
   "id": "a36f0756",
   "metadata": {},
   "outputs": [
    {
     "data": {
      "application/vnd.jupyter.widget-view+json": {
       "model_id": "b0f8180d2f994fb2afe074e230097856",
       "version_major": 2,
       "version_minor": 0
      },
      "text/plain": [
       "  0%|          | 0/100 [00:00<?, ?it/s]"
      ]
     },
     "metadata": {},
     "output_type": "display_data"
    }
   ],
   "source": [
    "all_models_per_image_ll = []\n",
    "for n in tqdm(range(100)):\n",
    "    crit_eps_per = crit_eps_one_model(\"ll\",n,FGSM)\n",
    "    all_models_per_image_ll.append(np.array(crit_eps_per.cpu()))"
   ]
  },
  {
   "cell_type": "code",
   "execution_count": 181,
   "id": "8b8a51ca",
   "metadata": {},
   "outputs": [
    {
     "data": {
      "application/vnd.jupyter.widget-view+json": {
       "model_id": "e451d2613c434adfa4aa1326bbf66296",
       "version_major": 2,
       "version_minor": 0
      },
      "text/plain": [
       "  0%|          | 0/100 [00:00<?, ?it/s]"
      ]
     },
     "metadata": {},
     "output_type": "display_data"
    },
    {
     "name": "stderr",
     "output_type": "stream",
     "text": [
      "/tmp/ipykernel_5508/1222167961.py:4: RuntimeWarning: overflow encountered in exp\n",
      "  return a/(1+np.exp(-c*(x-d)))+b\n"
     ]
    }
   ],
   "source": [
    "all_models_per_image_bp = []\n",
    "for n in tqdm(range(100)):\n",
    "    crit_eps_per = crit_eps_one_model(\"bp\",n,FGSM)\n",
    "    all_models_per_image_bp.append(np.array(crit_eps_per.cpu()))"
   ]
  },
  {
   "cell_type": "code",
   "execution_count": 283,
   "id": "23a573d4",
   "metadata": {},
   "outputs": [
    {
     "data": {
      "application/vnd.jupyter.widget-view+json": {
       "model_id": "b0012686c6d245f49b42b4befc98a372",
       "version_major": 2,
       "version_minor": 0
      },
      "text/plain": [
       "  0%|          | 0/100 [00:00<?, ?it/s]"
      ]
     },
     "metadata": {},
     "output_type": "display_data"
    }
   ],
   "source": [
    "all_models_per_image_ll_pgd = []\n",
    "for n in tqdm(range(100)):\n",
    "    crit_eps_per = crit_eps_one_model(\"ll\",n,PGD)\n",
    "    all_models_per_image_ll_pgd.append(np.array(crit_eps_per.cpu()))"
   ]
  },
  {
   "cell_type": "code",
   "execution_count": 291,
   "id": "8fd0ff56",
   "metadata": {},
   "outputs": [
    {
     "data": {
      "application/vnd.jupyter.widget-view+json": {
       "model_id": "9d70349eaa1d4a51b94d470cabfe4ec0",
       "version_major": 2,
       "version_minor": 0
      },
      "text/plain": [
       "  0%|          | 0/100 [00:00<?, ?it/s]"
      ]
     },
     "metadata": {},
     "output_type": "display_data"
    }
   ],
   "source": [
    "all_models_per_image_bp_pgd = []\n",
    "for n in tqdm(range(100)):\n",
    "    crit_eps_per = crit_eps_one_model(\"bp\",n,PGD)\n",
    "    all_models_per_image_bp_pgd.append(np.array(crit_eps_per.cpu()))"
   ]
  },
  {
   "cell_type": "code",
   "execution_count": 358,
   "id": "1d6bc470",
   "metadata": {},
   "outputs": [],
   "source": [
    "long_epslist = [0.0001*i for i in range(1,100)]\n",
    "crit_eps_bp = crit_eps_one_model(\"bp\",n,FGSM,long_epslist)\n",
    "crit_eps_ll = crit_eps_one_model(\"ll\",n,FGSM,long_epslist)"
   ]
  },
  {
   "cell_type": "code",
   "execution_count": 360,
   "id": "6ae44a1b",
   "metadata": {},
   "outputs": [
    {
     "name": "stdout",
     "output_type": "stream",
     "text": [
      "tensor(151, device='cuda:0')\n"
     ]
    }
   ],
   "source": [
    "last_eps = long_epslist[-1]\n",
    "corr = (howlong_ll==last_eps)\n",
    "print(torch.sum(corr))"
   ]
  },
  {
   "cell_type": "code",
   "execution_count": 350,
   "id": "b6a9513a",
   "metadata": {},
   "outputs": [
    {
     "data": {
      "image/png": "[encoded data removed]",
      "text/plain": [
       "<Figure size 640x480 with 1 Axes>"
      ]
     },
     "metadata": {},
     "output_type": "display_data"
    }
   ],
   "source": [
    "n = 1\n",
    "plt.boxplot([all_models_per_image_bp[n],all_models_per_image_ll[n]])\n",
    "plt.xticks([1,2],[\"BP\",\"LL\"])\n",
    "plt.ylabel(\"Critical epsilon\")\n",
    "plt.title(f\"Model number {n}\")\n",
    "plt.show()"
   ]
  },
  {
   "cell_type": "code",
   "execution_count": 299,
   "id": "346122fa",
   "metadata": {},
   "outputs": [
    {
     "data": {
      "image/png": "[encoded data removed]",
      "text/plain": [
       "<Figure size 640x480 with 1 Axes>"
      ]
     },
     "metadata": {},
     "output_type": "display_data"
    },
    {
     "name": "stdout",
     "output_type": "stream",
     "text": [
      "[array([0.0007, 0.0007]), array([0.0032, 0.0032])]\n"
     ]
    }
   ],
   "source": [
    "flat_ll = [item for sublist in all_models_per_image_ll for item in sublist]\n",
    "flat_bp = [item for sublist in all_models_per_image_bp for item in sublist]\n",
    "\n",
    "boxplotfgsm = plt.boxplot([flat_bp,flat_ll])#,showfliers=False)\n",
    "plt.xticks([1,2],[\"All bp models\",\"All ll models\"])\n",
    "plt.ylabel(\"Critical epsilon\")\n",
    "plt.title(\"Epsilons for misclassification for FGSM\")\n",
    "plt.show()\n",
    "\n",
    "meds = [item.get_ydata() for item in boxplotfgsm[\"medians\"]]\n",
    "print(meds)"
   ]
  },
  {
   "cell_type": "code",
   "execution_count": 228,
   "id": "a76bbf7a",
   "metadata": {},
   "outputs": [],
   "source": [
    "#bp_spectra = all_models_per_image_bp[scales_stringer_spectra]\n",
    "\n",
    "x = scales_stringer_spectra\n",
    "y = all_models_per_image_bp\n",
    "stringer_bp = [b for a, b in zip(x, y) if a]\n",
    "not_stringer_bp = [b for a, b in zip(x, y) if not a]\n",
    "y = all_models_per_image_ll\n",
    "stringer_ll = [b for a, b in zip(x, y) if a]\n",
    "not_stringer_ll = [b for a, b in zip(x, y) if not a]"
   ]
  },
  {
   "cell_type": "code",
   "execution_count": 284,
   "id": "a21776e3",
   "metadata": {},
   "outputs": [
    {
     "data": {
      "image/png": "[encoded data removed]",
      "text/plain": [
       "<Figure size 640x480 with 1 Axes>"
      ]
     },
     "metadata": {},
     "output_type": "display_data"
    },
    {
     "name": "stdout",
     "output_type": "stream",
     "text": [
      "[array([0.0032, 0.0032]), array([0.0032, 0.0032])]\n",
      "True\n"
     ]
    }
   ],
   "source": [
    "flat_ll_stringer = [item for sublist in stringer_ll for item in sublist]\n",
    "flat_ll_not_stringer = [item for sublist in not_stringer_ll for item in sublist]\n",
    "\n",
    "boxplot = plt.boxplot([flat_ll_stringer,flat_ll_not_stringer],showfliers=False)\n",
    "plt.xticks([1,2],[\"Spectrum = TRUE\",\"Spectrum = FALSE\"])\n",
    "plt.ylabel(\"Critical epsilon\")\n",
    "plt.title(\"Epsilons for misclassification for FGSM on ll models\")\n",
    "plt.show()\n",
    "\n",
    "meds = [item.get_ydata() for item in boxplot[\"medians\"]]\n",
    "print(meds)\n",
    "print((meds[0]==meds[1]).all())"
   ]
  },
  {
   "cell_type": "code",
   "execution_count": 250,
   "id": "9fc8c13d",
   "metadata": {},
   "outputs": [
    {
     "data": {
      "image/png": "[encoded data removed]",
      "text/plain": [
       "<Figure size 640x480 with 1 Axes>"
      ]
     },
     "metadata": {},
     "output_type": "display_data"
    },
    {
     "name": "stdout",
     "output_type": "stream",
     "text": [
      "True\n"
     ]
    }
   ],
   "source": [
    "flat_bp_stringer = [item for sublist in stringer_bp for item in sublist]\n",
    "flat_bp_not_stringer = [item for sublist in not_stringer_bp for item in sublist]\n",
    "\n",
    "plt.boxplot([flat_bp_stringer,flat_bp_not_stringer],showfliers=False)\n",
    "plt.xticks([1,2],[\"Spectrum = TRUE\",\"Spectrum = FALSE\"])\n",
    "plt.ylabel(\"Critical epsilon\")\n",
    "plt.title(\"Epsilons for misclassification for FGSM on bp models\")\n",
    "plt.show()\n",
    "\n",
    "meds = [item.get_ydata() for item in boxplot[\"medians\"]]\n",
    "print((meds[0]==meds[1]).all())"
   ]
  },
  {
   "cell_type": "code",
   "execution_count": 301,
   "id": "4de86fad",
   "metadata": {},
   "outputs": [
    {
     "data": {
      "image/png": "[encoded data removed]",
      "text/plain": [
       "<Figure size 640x480 with 1 Axes>"
      ]
     },
     "metadata": {},
     "output_type": "display_data"
    },
    {
     "name": "stdout",
     "output_type": "stream",
     "text": [
      "[array([0.0007, 0.0007]), array([0.003, 0.003])]\n"
     ]
    }
   ],
   "source": [
    "flat_ll_pgd = [item for sublist in all_models_per_image_ll_pgd for item in sublist]\n",
    "flat_bp_pgd = [item for sublist in all_models_per_image_bp_pgd for item in sublist]\n",
    "boxp = plt.boxplot([flat_bp_pgd,flat_ll_pgd])#,showfliers=False)\n",
    "plt.xticks([1,2],[\"All bp models\",\"All ll models\"])\n",
    "plt.ylabel(\"Critical epsilon\")\n",
    "plt.title(\"Epsilons for misclassification for PGD\")\n",
    "plt.show()\n",
    "\n",
    "meds = [item.get_ydata() for item in boxp[\"medians\"]]\n",
    "print(meds)"
   ]
  }
 ],
 "metadata": {
  "kernelspec": {
   "display_name": "Python 3 (ipykernel)",
   "language": "python",
   "name": "python3"
  },
  "language_info": {
   "codemirror_mode": {
    "name": "ipython",
    "version": 3
   },
   "file_extension": ".py",
   "mimetype": "text/x-python",
   "name": "python",
   "nbconvert_exporter": "python",
   "pygments_lexer": "ipython3",
   "version": "3.9.13"
  }
 },
 "nbformat": 4,
 "nbformat_minor": 5
}
