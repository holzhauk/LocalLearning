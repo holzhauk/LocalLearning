{
 "cells": [
  {
   "cell_type": "code",
   "execution_count": 1,
   "id": "f311fbd4",
   "metadata": {},
   "outputs": [],
   "source": [
    "import os\n",
    "\n",
    "import torch\n",
    "from torch import Tensor\n",
    "from torch.utils.data import DataLoader\n",
    "from torchvision.transforms import ToTensor\n",
    "from torch import nn\n",
    "from torch.optim import Adam\n",
    "\n",
    "from pathlib import Path\n",
    "import LocalLearning_copy as LocalLearning\n",
    "from tqdm.notebook import tqdm\n",
    "import numpy as np\n",
    "from matplotlib import pyplot as plt\n",
    "from sklearn.linear_model import LogisticRegression\n",
    "from scipy.optimize import curve_fit "
   ]
  },
  {
   "cell_type": "code",
   "execution_count": 2,
   "id": "1711c583",
   "metadata": {},
   "outputs": [],
   "source": [
    "if torch.cuda.is_available():\n",
    "    device = torch.device('cuda')\n",
    "else:\n",
    "    device = torch.device('cpu')"
   ]
  },
  {
   "cell_type": "code",
   "execution_count": 3,
   "id": "8542c9d4",
   "metadata": {},
   "outputs": [],
   "source": [
    "# Hyper parameters:\n",
    "BATCH_SIZE = 1000\n",
    "NUMBER_OF_EPOCHS = 1000\n",
    "LEARNING_RATE = 1e-4\n",
    "\n",
    "# loss function\n",
    "ce_loss = torch.nn.CrossEntropyLoss()"
   ]
  },
  {
   "cell_type": "code",
   "execution_count": 4,
   "id": "9c3290c0",
   "metadata": {},
   "outputs": [
    {
     "name": "stdout",
     "output_type": "stream",
     "text": [
      "Files already downloaded and verified\n",
      "Files already downloaded and verified\n"
     ]
    }
   ],
   "source": [
    "cifar10Train= LocalLearning.LpUnitCIFAR10(\n",
    "            root=\"../data/CIFAR10\",\n",
    "            train=True,\n",
    "            transform=ToTensor(),\n",
    "            p=3.0,\n",
    "        )\n",
    "\n",
    "cifar10Test= LocalLearning.LpUnitCIFAR10(\n",
    "            root=\"../data/CIFAR10\",\n",
    "            train=False,\n",
    "            transform=ToTensor(),\n",
    "            p=3.0,\n",
    "        )\n",
    "\n",
    "TestLoader = LocalLearning.DeviceDataLoader(\n",
    "            cifar10Test,\n",
    "            device=device,\n",
    "            batch_size=BATCH_SIZE,\n",
    "            num_workers=4,\n",
    "            shuffle=True,\n",
    "        )\n",
    "\n",
    "TrainLoader = LocalLearning.DeviceDataLoader(\n",
    "            cifar10Train,\n",
    "            device=device,\n",
    "            batch_size=BATCH_SIZE,\n",
    "            num_workers=4,\n",
    "            shuffle=True,\n",
    "        )"
   ]
  },
  {
   "cell_type": "code",
   "execution_count": 14,
   "id": "7aa7914d",
   "metadata": {},
   "outputs": [],
   "source": [
    "def load_trained_model_bp(idx):\n",
    "    trained_model_bp_path = Path(\"../data/models/KHModelCIFAR10_ensemble/bp\")\n",
    "    file_names_trained_bp = os.listdir(trained_model_bp_path)\n",
    "    file_names_trained_bp = [fn for fn in file_names_trained_bp if os.path.isfile(trained_model_bp_path / Path(fn))]\n",
    "    \n",
    "    trained_model_bp = Path(file_names_trained_bp[idx])\n",
    "    \n",
    "    with torch.no_grad():\n",
    "        trained_state_bp = torch.load(trained_model_bp_path/trained_model_bp)\n",
    "        model_ps_bp = trained_state_bp[\"fkhl3-state\"]\n",
    "        model_bp = LocalLearning.KHModel_bp(model_ps_bp)\n",
    "        model_bp.eval()\n",
    "        model_bp.load_state_dict(trained_state_bp[\"model_state_dict\"])\n",
    "        model_bp.to(device)\n",
    "        \n",
    "    return model_bp\n",
    "\n",
    "def load_trained_model_ll(idx):\n",
    "        \n",
    "    trained_model_ll_path = Path(\"../data/models/KHModelCIFAR10_ensemble/ll\")\n",
    "    file_names_trained_ll = os.listdir(trained_model_ll_path)\n",
    "    file_names_trained_ll = [fn for fn in file_names_trained_ll if os.path.isfile(trained_model_ll_path / Path(fn))]\n",
    "    \n",
    "    trained_model_ll = Path(file_names_trained_ll[idx])\n",
    "    \n",
    "    with torch.no_grad():\n",
    "        trained_state_ll = torch.load(trained_model_ll_path/trained_model_ll)\n",
    "        model_ps_ll = trained_state_ll[\"fkhl3-state\"]\n",
    "        model_ll = LocalLearning.KHModel(model_ps_ll)\n",
    "        model_ll.eval()\n",
    "        model_ll.load_state_dict(trained_state_ll[\"model_state_dict\"])\n",
    "        model_ll.to(device)\n",
    "        \n",
    "    return model_ll\n",
    "\n",
    "def load_Konstantin_model(file_name, model_type):\n",
    "    trained_model_path = Path(\"../data/models/KHModelCIFAR10_ensemble\")\n",
    "    \n",
    "    if model_type == \"bp\": \n",
    "        modeltype = LocalLearning.KHModel_bp\n",
    "    \n",
    "    elif model_type == \"ll\":\n",
    "        modeltype = LocalLearning.KHModel\n",
    "\n",
    "    with torch.no_grad():\n",
    "        trained_state = torch.load(trained_model_path/file_name)\n",
    "        model_ps = trained_state[\"fkhl3-state\"]\n",
    "        model = modeltype(model_ps)\n",
    "        model.eval()\n",
    "        model.load_state_dict(trained_state[\"model_state_dict\"])\n",
    "        model.to(device)\n",
    "        \n",
    "    return model"
   ]
  },
  {
   "cell_type": "code",
   "execution_count": 17,
   "id": "ce5aeeec",
   "metadata": {},
   "outputs": [],
   "source": [
    "bp_modelK = load_Konstantin_model(\"bp_KHModel_kh_layer_cifar10.pty\",\"bp\")\n",
    "ll_modelK = load_Konstantin_model(\"ll_KHModel_kh_layer_cifar10.pty\",\"ll\")"
   ]
  },
  {
   "cell_type": "code",
   "execution_count": 18,
   "id": "25b3777d",
   "metadata": {},
   "outputs": [],
   "source": [
    "def acc_total(\n",
    "    test: DataLoader,\n",
    "    model: LocalLearning.KHModel, \n",
    "    thres,\n",
    "    crit=None\n",
    "    ):\n",
    "    \n",
    "    freq_correct = 0\n",
    "    model.eval()\n",
    "    total = 0\n",
    "    for batch_no, (features, labels) in enumerate(test):\n",
    "        preds = model(features)\n",
    "        pred = torch.argmax(preds, dim=-1)\n",
    "        \n",
    "        if crit == \"correct_thres\":\n",
    "            softmax_correct = (preds[torch.arange(1000),pred])\n",
    "            thres_idx = (softmax_correct >= thres)\n",
    "            correct_idx = (torch.abs(pred - labels) == 0)\n",
    "            filtr_idx = thres_idx & correct_idx \n",
    "            new_preds = pred[filtr_idx]\n",
    "            new_labels = labels[filtr_idx]\n",
    "            total += len(new_labels)\n",
    "            \n",
    "        elif crit == \"thres\": # Håkon Olav uses 0.8 as threshold\n",
    "            softmax_correct = (preds[torch.arange(1000),pred])\n",
    "            thres_idx = (softmax_correct >= thres)\n",
    "            new_preds = pred[thres_idx]\n",
    "            new_labels = labels[thres_idx]\n",
    "            total += len(new_labels)\n",
    "            \n",
    "        elif crit == \"correct\": \n",
    "            correct_idx = (torch.abs(pred - labels) == 0)\n",
    "            new_preds = pred[correct_idx]\n",
    "            new_labels = labels[correct_idx]\n",
    "            total += len(new_labels)\n",
    "            \n",
    "        elif crit == None:\n",
    "            new_preds = torch.argmax(preds,axis=1)\n",
    "            new_labels = labels\n",
    "            total += len(new_labels)\n",
    "        \n",
    "        freq_correct += (torch.abs(new_preds - new_labels) == 0).sum()\n",
    "        \n",
    "    correct = (freq_correct / total).item()\n",
    "    \n",
    "    return correct, total"
   ]
  },
  {
   "cell_type": "code",
   "execution_count": 19,
   "id": "fc4570c2",
   "metadata": {},
   "outputs": [],
   "source": [
    "def acc_total_n_models(n,modeltype,dataloader,thres,crit=None):\n",
    "    list_acc = []\n",
    "    list_n = []\n",
    "    \n",
    "    if modeltype == \"bp\": \n",
    "        for i in tqdm(range(n)):\n",
    "            model = load_trained_model_bp(i)\n",
    "            correct, total = acc_total(dataloader, model, thres, crit)\n",
    "            list_acc.append(correct)\n",
    "            list_n.append(total)\n",
    "        \n",
    "    if modeltype == \"ll\": \n",
    "        for i in tqdm(range(n)):\n",
    "            model = load_trained_model_ll(i)\n",
    "            correct, total = acc_total(dataloader, model, thres, crit)\n",
    "            list_acc.append(correct)\n",
    "            list_n.append(total)\n",
    "        \n",
    "    return list_acc, list_n "
   ]
  },
  {
   "cell_type": "code",
   "execution_count": 9,
   "id": "c45fca6b",
   "metadata": {},
   "outputs": [],
   "source": [
    "n = 100\n",
    "dataloader = TestLoader\n",
    "threshold = 0.8"
   ]
  },
  {
   "cell_type": "code",
   "execution_count": 10,
   "id": "61201dc2",
   "metadata": {},
   "outputs": [],
   "source": [
    "#list_acc_normal, list_n_normal = acc_total_n_models(100,\"bp\",dataloader,0)\n",
    "#torch.save(list_acc_normal,\"../data/Mia_data/accuracy_all_bp_models.pt\")"
   ]
  },
  {
   "cell_type": "code",
   "execution_count": 11,
   "id": "390cb1ea",
   "metadata": {},
   "outputs": [],
   "source": [
    "def print_info(n, model, dataloader, threshold, crit):\n",
    "    acc, tot = acc_total(n, model, dataloader, threshold, crit)\n",
    "    if crit == \"correct_thres\":\n",
    "        print(f\"Criterium = Correct and above 0.8\")\n",
    "        \n",
    "    elif crit == \"thres\":\n",
    "        print(f\"Criterium = Above 0.8\")\n",
    "\n",
    "    else: \n",
    "        print(f\"Criterium = Correct\")\n",
    "        \n",
    "    print(f\"Mean correct for {n} {model} models with Softmax >= {threshold} on training data : {np.mean(acc)*100:.2f} %\")\n",
    "    print(f\"Mean number of pictures = {np.mean(tot)}\")"
   ]
  },
  {
   "cell_type": "code",
   "execution_count": 21,
   "id": "3eff3971",
   "metadata": {},
   "outputs": [],
   "source": [
    "def data_critirium(\n",
    "    dataloader,\n",
    "    model, \n",
    "    crit,\n",
    "    thres = None\n",
    "    ):\n",
    "    \n",
    "    # Returns the data and the corresponding labels that meets the critirium given (crit)\n",
    "    \n",
    "    freq_correct = 0\n",
    "    model.eval()\n",
    "    total = 0\n",
    "    \n",
    "    data = torch.zeros((0,32,32,3)).to(device)\n",
    "    lab_data = torch.zeros((0)).to(device)\n",
    "    \n",
    "    for batch_no, (features, labels) in enumerate(dataloader):\n",
    "        preds = model(features)\n",
    "        pred = torch.argmax(preds, dim=-1)\n",
    "        \n",
    "        if crit == \"correct\":\n",
    "            filtr_idx = (torch.abs(pred - labels) == 0)\n",
    "            new_features = features[filtr_idx]\n",
    "            data = torch.cat((data, new_features),dim=0)\n",
    "            new_labels = labels[filtr_idx]\n",
    "            lab_data = torch.cat((lab_data, new_labels),dim=0)\n",
    "        \n",
    "        elif crit == \"correct_thres\":\n",
    "            softmax_correct = (preds[torch.arange(1000),pred])\n",
    "            thres_idx = (softmax_correct >= thres)\n",
    "            correct_idx = (torch.abs(pred - labels) == 0)\n",
    "            filtr_idx = thres_idx & correct_idx \n",
    "            new_features = features[filtr_idx]\n",
    "            data = torch.cat((data, new_features),dim=0)\n",
    "            new_labels = labels[filtr_idx]\n",
    "            lab_data = torch.cat((lab_data, new_labels),dim=0)\n",
    "            \n",
    "        else:\n",
    "            softmax_correct = (preds[torch.arange(1000),pred])\n",
    "            filtr_idx = (softmax_correct >= thres)\n",
    "            new_features = features[filtr_idx]\n",
    "            data = torch.cat((data, new_features),dim=0)\n",
    "            new_labels = labels[filtr_idx]\n",
    "            lab_data = torch.cat((lab_data, new_labels),dim=0)\n",
    "    \n",
    "    return data, lab_data"
   ]
  },
  {
   "cell_type": "code",
   "execution_count": 22,
   "id": "6f4aa3de",
   "metadata": {},
   "outputs": [],
   "source": [
    "def FGSM(model, features, labels, loss_fn, optimizer, epsilon):\n",
    "    \n",
    "    preds = model(features)\n",
    "    loss = loss_fn(preds, labels)\n",
    "    optimizer.zero_grad()\n",
    "    loss.backward()\n",
    "    perturbed_image = features + epsilon*features.grad.data.sign()\n",
    "    perturbed_image = torch.clamp(perturbed_image, 0, 1)\n",
    "    \n",
    "    return perturbed_image"
   ]
  },
  {
   "cell_type": "code",
   "execution_count": 64,
   "id": "a5badf4e",
   "metadata": {},
   "outputs": [],
   "source": [
    "def test_attack(\n",
    "    features,\n",
    "    labels, \n",
    "    model, \n",
    "    attack,\n",
    "    loss_fn, \n",
    "    optimizer, \n",
    "    eps=None,\n",
    "    std=None,\n",
    "    ):\n",
    "    \n",
    "    freq_correct = 0\n",
    "    total = 0 \n",
    "\n",
    "    labels = labels.type(torch.LongTensor).to(device)\n",
    "    features.requires_grad = True\n",
    "    \n",
    "    if attack == \"FGSM\":\n",
    "        perturbed = FGSM(model, features, labels, loss_fn, optimizer, eps)\n",
    "        \n",
    "    elif attack == \"PGD\":\n",
    "        perturbed, epsilon = PGD(model, features, labels, loss_fn, optimizer, \n",
    "                                 num_steps=20, step_size=0.01, b_norm=0.3)\n",
    "        \n",
    "    else: \n",
    "        print(\"Something went wrong\")\n",
    "        \n",
    "    preds_perturbed = torch.argmax(model(perturbed), dim=-1)\n",
    "    alike = (preds_perturbed == labels)\n",
    "    freq_correct += (torch.abs(preds_perturbed - labels) == 0).sum()\n",
    "    total += len(labels)\n",
    "\n",
    "    correct = (freq_correct/total).item()\n",
    "    \n",
    "    return correct, alike#, epsilon "
   ]
  },
  {
   "cell_type": "code",
   "execution_count": 55,
   "id": "5bf0ef2a",
   "metadata": {},
   "outputs": [],
   "source": [
    "epslist = [0.0001*i for i in range(1,100)]\n",
    "\n",
    "def logistic(x,a,b,c,d):\n",
    "    return a/(1+np.exp(-c*(x-d)))+b\n",
    "\n",
    "def criteps_FGSM(n,modeltype,attacktype=\"FGSM\",plot=False,crit=None, epslist=epslist):\n",
    "    \n",
    "    if modeltype == \"ll\":\n",
    "    \n",
    "        ll = []\n",
    "        ll_crit_eps = []\n",
    "        ll_eps_half_max = []\n",
    "\n",
    "        for i in tqdm(range(n)):\n",
    "            model_ll = load_trained_model_ll(i)\n",
    "            data_ll, lab_ll = data_critirium(TestLoader, model_ll, \"correct_thres\", thres = 0.8)\n",
    "\n",
    "            AdamOpt_ll = Adam(model_ll.parameters(), lr=LEARNING_RATE)\n",
    "\n",
    "            list_ll = []\n",
    "\n",
    "            for eps in epslist:\n",
    "                correct, a, e = test_attack(data_ll, lab_ll, model_ll, attacktype, ce_loss, AdamOpt_ll, eps)\n",
    "                list_ll.append(float(correct))\n",
    "\n",
    "            ll.append(list_ll)\n",
    "\n",
    "            x = np.array(epslist)\n",
    "            y_ll = np.array(list_ll)\n",
    "\n",
    "            popt, pcov = curve_fit(logistic, x, y_ll)\n",
    "            critical_eps = popt[-1]\n",
    "\n",
    "            ll_crit_eps.append(critical_eps)\n",
    "\n",
    "            x_high_res = np.linspace(x[0],x[-1]+1,10000)\n",
    "            func = logistic(x_high_res,*popt)\n",
    "            half_max_idx = (np.abs(func-0.5)).argmin()\n",
    "            eps_half_max = x_high_res[half_max_idx]\n",
    "\n",
    "            ll_eps_half_max.append(eps_half_max)\n",
    "        \n",
    "        \n",
    "            if plot==True and i == 0:\n",
    "                plt.plot(x,y_ll)\n",
    "                plt.plot(x,logistic(x,*popt))\n",
    "                plt.plot(critical_eps,logistic(critical_eps,*popt),\"ro\",label=\"Inflection point of fitted curve\")\n",
    "                plt.plot(eps_half_max,func[half_max_idx],\"bo\",label=\"Fitted curve = 0.5\")\n",
    "                plt.title(\"FGSM on LL model\")\n",
    "                plt.legend()\n",
    "                plt.show()\n",
    "        \n",
    "                \n",
    "        return ll, ll_crit_eps, ll_eps_half_max\n",
    "    \n",
    "    elif modeltype == \"bp\":\n",
    "    \n",
    "        bp = []\n",
    "        bp_eps_half_max = []\n",
    "\n",
    "        for i in tqdm(range(n)):\n",
    "            model_bp = load_trained_model_bp(i)\n",
    "            data_bp, lab_bp = data_critirium(TestLoader, model_bp, correct_thres, thres = 0.8)\n",
    "\n",
    "            AdamOpt_bp = Adam(model_bp.parameters(), lr=LEARNING_RATE)\n",
    "\n",
    "            list_bp = []\n",
    "\n",
    "            for eps in epslist:\n",
    "                correct, a, e = test_attack(data_bp, lab_bp, model_bp, attacktype, ce_loss, AdamOpt_bp, eps)\n",
    "                list_bp.append(correct)\n",
    "\n",
    "            bp.append(list_bp)\n",
    "\n",
    "            x = np.array(epslist)\n",
    "            y_bp = np.array(list_bp)\n",
    "\n",
    "            popt, pcov = curve_fit(logistic, x, y_bp, p0=(1,0,1,0), maxfev = 10000)\n",
    "           \n",
    "            x_high_res = np.linspace(x[0],x[-1]+1,10000)\n",
    "            func = logistic(x_high_res,*popt)\n",
    "            half_max_idx = (np.abs(func-0.5)).argmin()\n",
    "            eps_half_max = x_high_res[half_max_idx]\n",
    "\n",
    "            bp_eps_half_max.append(eps_half_max)\n",
    "            \n",
    "            if plot==True and i == 0:\n",
    "                plt.plot(x,y_bp)\n",
    "                plt.plot(x,logistic(x,*popt))\n",
    "                #plt.plot(critical_eps,logistic(critical_eps,*popt),\"ro\",label=\"Inflection point of fitted curve\")\n",
    "                plt.plot(eps_half_max,func[half_max_idx],\"bo\",label=\"Fitted curve = 0.5\")\n",
    "                plt.title(\"FGSM on LL model\")\n",
    "                plt.legend()\n",
    "                plt.show()\n",
    "                \n",
    "        return bp, \"Not defined\", bp_eps_half_max"
   ]
  },
  {
   "cell_type": "code",
   "execution_count": 56,
   "id": "3bbfaeae",
   "metadata": {},
   "outputs": [],
   "source": [
    "#torch.save(ll,\"../data/Mia_data/accuracy_through_FGSM_all_ll_models.pt\")"
   ]
  },
  {
   "cell_type": "code",
   "execution_count": 57,
   "id": "f36a49af",
   "metadata": {},
   "outputs": [
    {
     "name": "stderr",
     "output_type": "stream",
     "text": [
      "/tmp/ipykernel_336892/2370754762.py:4: RuntimeWarning: overflow encountered in exp\n",
      "  return a/(1+np.exp(-c*(x-d)))+b\n"
     ]
    },
    {
     "data": {
      "image/png": "[encoded data removed]",
      "text/plain": [
       "<Figure size 640x480 with 1 Axes>"
      ]
     },
     "metadata": {},
     "output_type": "display_data"
    }
   ],
   "source": [
    "poptt = [5.61523970e+04,  5.74443460e-04, -9.22749104e+02, -1.18282523e-02]\n",
    "xarray = np.linspace(-5,5,10000)\n",
    "plt.plot(xarray,logistic(xarray,*poptt))\n",
    "critical_eps = -1.18282523e-02\n",
    "plt.plot(critical_eps,logistic(critical_eps,*poptt),\"ro\")\n",
    "plt.xlim(-0.03,0.01)\n",
    "plt.show()\n",
    "\n",
    "# In attempting to define the critical epsilon as the inflection point this happens"
   ]
  },
  {
   "cell_type": "code",
   "execution_count": null,
   "id": "0c31f234",
   "metadata": {},
   "outputs": [],
   "source": [
    "#torch.save(bp,\"../data/Mia_data/accuracy_through_FGSM_all_bp_models.pt\")"
   ]
  },
  {
   "cell_type": "code",
   "execution_count": null,
   "id": "625d176b",
   "metadata": {},
   "outputs": [],
   "source": [
    "plt.plot(bp[0])\n",
    "print(bpeps)"
   ]
  },
  {
   "cell_type": "code",
   "execution_count": null,
   "id": "76eb7621",
   "metadata": {},
   "outputs": [],
   "source": [
    "#torch.save(lleps,\"../data/Mia_data/critical_epsilons_ll_models.pt\")"
   ]
  },
  {
   "cell_type": "code",
   "execution_count": null,
   "id": "1d1e214e",
   "metadata": {},
   "outputs": [],
   "source": [
    "crit_eps_ll = np.array(torch.load(\"../data/Mia_data/critical_epsilons_ll_models.pt\"))\n",
    "acc_ll = np.array(torch.load(\"../data/Mia_data/accuracy_all_ll_models.pt\"))\n",
    "\n",
    "acc_bp = np.array(torch.load(\"../data/Mia_data/accuracy_all_bp_models.pt\"))"
   ]
  },
  {
   "cell_type": "code",
   "execution_count": null,
   "id": "03f5d622",
   "metadata": {},
   "outputs": [],
   "source": [
    "print(crit_eps_ll)"
   ]
  },
  {
   "cell_type": "code",
   "execution_count": null,
   "id": "bcf91811",
   "metadata": {},
   "outputs": [],
   "source": [
    "crit_eps_ll_spectra = crit_eps_ll[scales_stringer_spectra]\n",
    "acc_ll_spectra = acc_ll[scales_stringer_spectra]"
   ]
  },
  {
   "cell_type": "code",
   "execution_count": null,
   "id": "d8cd0ef9",
   "metadata": {},
   "outputs": [],
   "source": [
    "plt.figure(figsize=(10,6))\n",
    "plt.scatter(crit_eps_ll,acc_ll)\n",
    "plt.scatter(crit_eps_ll_spectra,acc_ll_spectra,c=\"red\")\n",
    "plt.xlabel(\"Critical epsilon\")\n",
    "plt.ylabel(\"Accuracy\")\n",
    "plt.show()"
   ]
  },
  {
   "cell_type": "code",
   "execution_count": null,
   "id": "c1c480b1",
   "metadata": {},
   "outputs": [],
   "source": [
    "eps_fit_curve_at_half_ll = torch.load(\"../data/Mia_data/epsilon_fitted_curve_at_05_all_ll_models.pt\")\n",
    "eps_fit_curve_at_half_bp = torch.load(\"../data/Mia_data/epsilon_fitted_curve_at_05_all_bp_models.pt\")"
   ]
  },
  {
   "cell_type": "code",
   "execution_count": null,
   "id": "b93e91d5",
   "metadata": {},
   "outputs": [],
   "source": [
    "print(np.mean(eps_fit_curve_at_half_ll))\n",
    "print(np.mean(eps_fit_curve_at_half_bp))"
   ]
  },
  {
   "cell_type": "code",
   "execution_count": 70,
   "id": "14853101",
   "metadata": {},
   "outputs": [],
   "source": [
    "def crit_eps_one_model_fgsm(modeltype,n=None,attack=\"FGSM\",epslist=epslist):\n",
    "    \n",
    "    #n = modelnumber\n",
    "    \n",
    "    if modeltype == \"ll\":\n",
    "    \n",
    "        ll_crit_eps = []\n",
    "        list_ll_correct_all = []\n",
    "\n",
    "        #model_ll = load_trained_model_ll(n)\n",
    "        model_ll = ll_modelK\n",
    "        data_ll, lab_ll = data_critirium(TestLoader, model_ll, \"correct\")#, thres = 0.8)\n",
    "        \n",
    "        siz = len(lab_ll)\n",
    "        \n",
    "        crit_eps_per_image = torch.ones(siz).to(device)\n",
    "        crit_eps_per_image[:] = epslist[-1]\n",
    "        \n",
    "        AdamOpt_ll = Adam(model_ll.parameters(), lr=LEARNING_RATE)\n",
    "\n",
    "        for eps in epslist:\n",
    "            correct, alike = test_attack(data_ll, lab_ll, model_ll, attack, ce_loss, AdamOpt_ll, eps)\n",
    "            mask = (alike == False) & (crit_eps_per_image == epslist[-1])\n",
    "            crit_eps_per_image[mask] = eps\n",
    "            list_ll_correct_all.append(correct)\n",
    "\n",
    "        x = np.array(epslist)\n",
    "        y_ll = np.array(list_ll_correct_all)\n",
    "\n",
    "        popt, pcov = curve_fit(logistic, x, y_ll)\n",
    "        critical_eps = popt[-1]\n",
    "\n",
    "        ll_crit_eps.append(critical_eps)\n",
    "        \n",
    "        crit_eps_per_image = np.array(crit_eps_per_image.cpu())\n",
    "                        \n",
    "        return crit_eps_per_image #, list_ll_correct_all, ll_crit_eps\n",
    "    \n",
    "    if modeltype == \"bp\":\n",
    "    \n",
    "        bp_crit_eps = []\n",
    "        list_bp_correct_all = []\n",
    "\n",
    "        #model_bp = load_trained_model_bp(n)\n",
    "        model_bp = bp_modelK\n",
    "        data_bp, lab_bp = data_critirium(TestLoader, model_bp, \"correct\")#, thres = 0.8)\n",
    "        \n",
    "        siz = len(lab_bp)\n",
    "        \n",
    "        crit_eps_per_image = torch.ones(siz).to(device)\n",
    "        crit_eps_per_image[:] = epslist[-1]\n",
    "        \n",
    "        AdamOpt_bp = Adam(model_bp.parameters(), lr=LEARNING_RATE)\n",
    "\n",
    "        for eps in epslist:\n",
    "            correct, alike = test_attack(data_bp, lab_bp, model_bp, attack, ce_loss, AdamOpt_bp, eps)\n",
    "            mask = (alike == False) & (crit_eps_per_image == epslist[-1])\n",
    "            crit_eps_per_image[mask] = eps\n",
    "            list_bp_correct_all.append(correct)\n",
    "\n",
    "        x = np.array(epslist)\n",
    "        y_bp = np.array(list_bp_correct_all)\n",
    "\n",
    "        popt, pcov = curve_fit(logistic, x, y_bp)\n",
    "        critical_eps = popt[-1]\n",
    "\n",
    "        bp_crit_eps.append(critical_eps)\n",
    "        \n",
    "        crit_eps_per_image = np.array(crit_eps_per_image.cpu())\n",
    "        \n",
    "        return crit_eps_per_image #, list_bp_correct_all, bp_crit_eps"
   ]
  },
  {
   "cell_type": "code",
   "execution_count": 21,
   "id": "8e8d1451",
   "metadata": {},
   "outputs": [],
   "source": [
    "def PGD(model, features, labels, loss_fn, optimizer, num_steps=20, step_size=0.01, b_norm=0.3):\n",
    "    \n",
    "    for n in range(num_steps):\n",
    "        preds = model(features)\n",
    "        loss = loss_fn(preds, labels)\n",
    "        optimizer.zero_grad()\n",
    "        loss.backward()\n",
    "        \n",
    "        adv_image = features + step_size*features.grad.data.sign()\n",
    "        clamp = torch.clamp(adv_image - features, min = -b_norm, max = b_norm)\n",
    "        perturbed_image = torch.clamp(features + clamp, min = 0, max = 1)\n",
    "        \n",
    "        preds_perturbed = torch.argmax(model(perturbed_image), dim=-1)\n",
    "        alike = (preds_perturbed == labels)\n",
    "        freq_correct += (torch.abs(preds_perturbed - labels) == 0).sum()\n",
    "        total += len(labels)\n",
    "\n",
    "        correct = (freq_correct/total).item()\n",
    "\n",
    "        mask = (alike == False) & (crit_eps_per_image == epslist[-1])\n",
    "        crit_eps_per_image[mask] = epsilon[mask]\n",
    "        \n",
    "    #x = features.view(features.size(0),-1)\n",
    "    #y = perturbed_image.view(perturbed_image.size(0),-1)\n",
    "    \n",
    "    #eps = torch.abs(torch.mean(x-y,dim=1)).detach()\n",
    "    \n",
    "    return perturbed_image, eps"
   ]
  },
  {
   "cell_type": "code",
   "execution_count": 49,
   "id": "0a36de37",
   "metadata": {},
   "outputs": [],
   "source": [
    "def crit_eps_one_image_pgd(modeltype,n=None):\n",
    "    \n",
    "    attack = \"PGD\"\n",
    "    \n",
    "    if modeltype == \"ll\":\n",
    "        \n",
    "        model = ll_modelK\n",
    "        \n",
    "    elif modeltype == \"bp\":\n",
    "        \n",
    "        model = bp_modelK\n",
    "    \n",
    "    ll_crit_eps = []\n",
    "    list_ll_correct_all = []\n",
    "\n",
    "    #model = load_trained_model_ll(n)\n",
    "    features, labels = data_critirium(TestLoader, model, \"correct\")\n",
    "\n",
    "    siz = len(labels)\n",
    "\n",
    "    crit_eps_per_image = torch.ones(siz).to(device)\n",
    "    crit_eps_per_image[:] = 0.0099 #epslist[-1]\n",
    "\n",
    "    freq_correct = 0\n",
    "    total = 0 \n",
    "\n",
    "    labels = labels.type(torch.LongTensor).to(device)\n",
    "    features.requires_grad = True\n",
    "\n",
    "    num_steps = 100\n",
    "    loss_fn = ce_loss \n",
    "    step_size = 0.0005\n",
    "    b_norm = 0.05\n",
    "    optimizer = Adam(model.parameters(), lr=LEARNING_RATE)\n",
    "\n",
    "    correct = []\n",
    "\n",
    "    perturbed_image = features \n",
    "\n",
    "    for n in range(num_steps):\n",
    "        preds = model(features)\n",
    "        loss = loss_fn(preds, labels)\n",
    "        optimizer.zero_grad()\n",
    "        loss.backward()\n",
    "\n",
    "        adv_image = perturbed_image + step_size*features.grad.data.sign()\n",
    "        clamp = torch.clamp(adv_image - features, min = -b_norm, max = b_norm)\n",
    "        perturbed_image = torch.clamp(features + clamp, min = 0, max = 1)\n",
    "\n",
    "        preds_perturbed = torch.argmax(model(perturbed_image), dim=-1)\n",
    "        alike = (preds_perturbed == labels)\n",
    "        freq_correct += (torch.abs(preds_perturbed - labels) == 0).sum()\n",
    "        total += len(labels)\n",
    "\n",
    "        correct.append((freq_correct/total).item())\n",
    "\n",
    "        mask = (alike == False) & (crit_eps_per_image == 0.0099) #epslist[-1])\n",
    "\n",
    "        x = features.view(features.size(0),-1)\n",
    "        y = perturbed_image.view(perturbed_image.size(0),-1)\n",
    "\n",
    "        eps = torch.abs(torch.mean(x-y,dim=1)).detach()\n",
    "        crit_eps_per_image[mask] = eps[mask]\n",
    "        \n",
    "    crit_eps_per_image = np.array(crit_eps_per_image.cpu())\n",
    "\n",
    "    #perturbed, epsilon = PGD(model, features, labels, ce_loss, AdamOpt_ll, num_steps=20, step_size=0.01, b_norm=0.3)\n",
    "\n",
    "    return crit_eps_per_image, correct"
   ]
  },
  {
   "cell_type": "code",
   "execution_count": 97,
   "id": "25959a01",
   "metadata": {},
   "outputs": [],
   "source": [
    "def crit_eps_one_image_noise(modeltype,n=None):\n",
    "    \n",
    "    attack = \"WN\" # WN = White noise\n",
    "    \n",
    "    if modeltype == \"ll\":\n",
    "        \n",
    "        model = ll_modelK\n",
    "        \n",
    "    elif modeltype == \"bp\":\n",
    "        \n",
    "        model = bp_modelK\n",
    "    \n",
    "    ll_crit_eps = []\n",
    "\n",
    "    #model = load_trained_model_ll(n)\n",
    "    features, labels = data_critirium(TestLoader, model, \"correct\")\n",
    "\n",
    "    siz = len(labels)\n",
    "    \n",
    "    epslistwn = [0.01*i for i in range(1,100)]\n",
    "\n",
    "    crit_eps_per_image = torch.ones(siz).to(device)\n",
    "    crit_eps_per_image[:] = epslistwn[-1]\n",
    "\n",
    "    freq_correct = 0\n",
    "    total = 0 \n",
    "\n",
    "    labels = labels.type(torch.LongTensor).to(device)\n",
    "    features.requires_grad = True\n",
    "\n",
    "    loss_fn = ce_loss \n",
    "    optimizer = Adam(model.parameters(), lr=LEARNING_RATE)\n",
    "\n",
    "    correct = []\n",
    "    noise = torch.randn(features.shape).to(device)\n",
    "\n",
    "    for eps in epslistwn:\n",
    "        \n",
    "        adv_image = features + eps*noise\n",
    "        perturbed_image = torch.clamp(adv_image, min = 0, max = 1)\n",
    "\n",
    "        preds_perturbed = torch.argmax(model(perturbed_image), dim=-1)\n",
    "        alike = (preds_perturbed == labels)\n",
    "        freq_correct += (torch.abs(preds_perturbed - labels) == 0).sum()\n",
    "        total += len(labels)\n",
    "\n",
    "        correct.append((freq_correct/total).item())\n",
    "\n",
    "        mask = (alike == False) & (crit_eps_per_image == epslistwn[-1])\n",
    "\n",
    "        x = features.view(features.size(0),-1)\n",
    "        y = perturbed_image.view(perturbed_image.size(0),-1)\n",
    "\n",
    "        eps = torch.abs(torch.mean(x-y,dim=1)).detach()\n",
    "        \n",
    "        crit_eps_per_image[mask] = eps[mask]\n",
    "        \n",
    "    crit_eps_per_image = np.array(crit_eps_per_image.cpu())\n",
    "\n",
    "    #perturbed, epsilon = PGD(model, features, labels, ce_loss, AdamOpt_ll, num_steps=20, step_size=0.01, b_norm=0.3)\n",
    "\n",
    "    return crit_eps_per_image"
   ]
  },
  {
   "cell_type": "code",
   "execution_count": 80,
   "id": "6c6c3f13",
   "metadata": {},
   "outputs": [
    {
     "data": {
      "image/png": "[encoded data removed]",
      "text/plain": [
       "<Figure size 640x480 with 1 Axes>"
      ]
     },
     "metadata": {},
     "output_type": "display_data"
    }
   ],
   "source": [
    "ll_crit_eps_pgd, correct = crit_eps_one_image_pgd(modeltype = \"ll\")\n",
    "bp_crit_eps_pgd, correct = crit_eps_one_image_pgd(modeltype = \"bp\")\n",
    "\n",
    "plt.boxplot((ll_crit_eps_pgd, bp_crit_eps_pgd), showfliers=False)\n",
    "plt.xticks([1,2],[\"LL\",\"BP\"])\n",
    "plt.ylabel(\"Critical epsilon\")\n",
    "plt.title(f\"Konstantin model PGD\")\n",
    "plt.show()"
   ]
  },
  {
   "cell_type": "code",
   "execution_count": 81,
   "id": "23de7b2d",
   "metadata": {},
   "outputs": [
    {
     "name": "stderr",
     "output_type": "stream",
     "text": [
      "/home/mia/anaconda3/envs/pytorch/lib/python3.9/site-packages/scipy/optimize/minpack.py:833: OptimizeWarning: Covariance of the parameters could not be estimated\n",
      "  warnings.warn('Covariance of the parameters could not be estimated',\n"
     ]
    },
    {
     "data": {
      "image/png": "[encoded data removed]",
      "text/plain": [
       "<Figure size 640x480 with 1 Axes>"
      ]
     },
     "metadata": {},
     "output_type": "display_data"
    }
   ],
   "source": [
    "ll_crit_eps_fgsm = crit_eps_one_model_fgsm(modeltype = \"ll\")\n",
    "bp_crit_eps_fgsm = crit_eps_one_model_fgsm(modeltype = \"bp\")\n",
    "\n",
    "plt.boxplot((ll_crit_eps_fgsm, bp_crit_eps_fgsm), showfliers=False)\n",
    "plt.xticks([1,2],[\"LL\",\"BP\"])\n",
    "plt.ylabel(\"Critical epsilon\")\n",
    "plt.title(f\"Konstantin model FGSM\")\n",
    "plt.show()"
   ]
  },
  {
   "cell_type": "code",
   "execution_count": 98,
   "id": "099a9584",
   "metadata": {},
   "outputs": [
    {
     "data": {
      "image/png": "[encoded data removed]",
      "text/plain": [
       "<Figure size 640x480 with 1 Axes>"
      ]
     },
     "metadata": {},
     "output_type": "display_data"
    }
   ],
   "source": [
    "ll_crit_eps_wn = crit_eps_one_image_noise(modeltype = \"ll\")\n",
    "bp_crit_eps_wn = crit_eps_one_image_noise(modeltype = \"bp\")\n",
    "\n",
    "plt.boxplot((ll_crit_eps_wn, bp_crit_eps_wn), showfliers=False)\n",
    "plt.xticks([1,2],[\"LL\",\"BP\"])\n",
    "plt.ylabel(\"Critical epsilon\")\n",
    "plt.title(f\"Konstantin model white noise\")\n",
    "plt.show()"
   ]
  },
  {
   "cell_type": "code",
   "execution_count": 30,
   "id": "a345e1ba",
   "metadata": {},
   "outputs": [
    {
     "name": "stdout",
     "output_type": "stream",
     "text": [
      "tensor(1, device='cuda:0')\n",
      "tensor(3915, device='cuda:0')\n"
     ]
    }
   ],
   "source": [
    "print((crit_eps_per_image==0.0099).sum())\n",
    "print((crit_eps_per_image!=0.0099).sum())"
   ]
  },
  {
   "cell_type": "code",
   "execution_count": 31,
   "id": "840e90cb",
   "metadata": {},
   "outputs": [
    {
     "data": {
      "image/png": "[encoded data removed]",
      "text/plain": [
       "<Figure size 640x480 with 1 Axes>"
      ]
     },
     "metadata": {},
     "output_type": "display_data"
    }
   ],
   "source": [
    "plt.plot(correct)\n",
    "plt.title(\"Percentage of correctly classified images for one model\")\n",
    "plt.xlabel(\"Iterations\")\n",
    "plt.show()\n",
    "# all are classified corretly from start\n",
    "# once it is misclassified, it remains so "
   ]
  },
  {
   "cell_type": "code",
   "execution_count": null,
   "id": "97c4c3d5",
   "metadata": {},
   "outputs": [],
   "source": []
  },
  {
   "cell_type": "code",
   "execution_count": 32,
   "id": "0ffc5ad9",
   "metadata": {},
   "outputs": [
    {
     "data": {
      "application/json": {
       "ascii": false,
       "bar_format": null,
       "colour": null,
       "elapsed": 0.010939598083496094,
       "initial": 0,
       "n": 0,
       "ncols": null,
       "nrows": 55,
       "postfix": null,
       "prefix": "",
       "rate": null,
       "total": 100,
       "unit": "it",
       "unit_divisor": 1000,
       "unit_scale": false
      },
      "application/vnd.jupyter.widget-view+json": {
       "model_id": "6a45544ea38449938219cf6f8100c518",
       "version_major": 2,
       "version_minor": 0
      },
      "text/plain": [
       "  0%|          | 0/100 [00:00<?, ?it/s]"
      ]
     },
     "metadata": {},
     "output_type": "display_data"
    },
    {
     "ename": "KeyboardInterrupt",
     "evalue": "",
     "output_type": "error",
     "traceback": [
      "\u001b[0;31m---------------------------------------------------------------------------\u001b[0m",
      "\u001b[0;31mKeyboardInterrupt\u001b[0m                         Traceback (most recent call last)",
      "Cell \u001b[0;32mIn[32], line 3\u001b[0m\n\u001b[1;32m      1\u001b[0m all_models_per_image_ll \u001b[38;5;241m=\u001b[39m []\n\u001b[1;32m      2\u001b[0m \u001b[38;5;28;01mfor\u001b[39;00m n \u001b[38;5;129;01min\u001b[39;00m tqdm(\u001b[38;5;28mrange\u001b[39m(\u001b[38;5;241m100\u001b[39m)):\n\u001b[0;32m----> 3\u001b[0m     crit_eps_per, correct \u001b[38;5;241m=\u001b[39m \u001b[43mcrit_eps_one_image_pgd\u001b[49m\u001b[43m(\u001b[49m\u001b[43mmodeltype\u001b[49m\u001b[43m \u001b[49m\u001b[38;5;241;43m=\u001b[39;49m\u001b[43m \u001b[49m\u001b[38;5;124;43m\"\u001b[39;49m\u001b[38;5;124;43mll\u001b[39;49m\u001b[38;5;124;43m\"\u001b[39;49m\u001b[43m,\u001b[49m\u001b[43m \u001b[49m\u001b[43mn\u001b[49m\u001b[43m \u001b[49m\u001b[38;5;241;43m=\u001b[39;49m\u001b[43m \u001b[49m\u001b[38;5;241;43m1\u001b[39;49m\u001b[43m)\u001b[49m\n\u001b[1;32m      4\u001b[0m     all_models_per_image_ll\u001b[38;5;241m.\u001b[39mappend(np\u001b[38;5;241m.\u001b[39marray(crit_eps_per\u001b[38;5;241m.\u001b[39mcpu()))\n",
      "Cell \u001b[0;32mIn[28], line 52\u001b[0m, in \u001b[0;36mcrit_eps_one_image_pgd\u001b[0;34m(modeltype, n)\u001b[0m\n\u001b[1;32m     49\u001b[0m freq_correct \u001b[38;5;241m+\u001b[39m\u001b[38;5;241m=\u001b[39m (torch\u001b[38;5;241m.\u001b[39mabs(preds_perturbed \u001b[38;5;241m-\u001b[39m labels) \u001b[38;5;241m==\u001b[39m \u001b[38;5;241m0\u001b[39m)\u001b[38;5;241m.\u001b[39msum()\n\u001b[1;32m     50\u001b[0m total \u001b[38;5;241m+\u001b[39m\u001b[38;5;241m=\u001b[39m \u001b[38;5;28mlen\u001b[39m(labels)\n\u001b[0;32m---> 52\u001b[0m correct\u001b[38;5;241m.\u001b[39mappend(\u001b[43m(\u001b[49m\u001b[43mfreq_correct\u001b[49m\u001b[38;5;241;43m/\u001b[39;49m\u001b[43mtotal\u001b[49m\u001b[43m)\u001b[49m\u001b[38;5;241;43m.\u001b[39;49m\u001b[43mitem\u001b[49m\u001b[43m(\u001b[49m\u001b[43m)\u001b[49m)\n\u001b[1;32m     54\u001b[0m mask \u001b[38;5;241m=\u001b[39m (alike \u001b[38;5;241m==\u001b[39m \u001b[38;5;28;01mFalse\u001b[39;00m) \u001b[38;5;241m&\u001b[39m (crit_eps_per_image \u001b[38;5;241m==\u001b[39m \u001b[38;5;241m0.0099\u001b[39m) \u001b[38;5;66;03m#epslist[-1])\u001b[39;00m\n\u001b[1;32m     56\u001b[0m x \u001b[38;5;241m=\u001b[39m features\u001b[38;5;241m.\u001b[39mview(features\u001b[38;5;241m.\u001b[39msize(\u001b[38;5;241m0\u001b[39m),\u001b[38;5;241m-\u001b[39m\u001b[38;5;241m1\u001b[39m)\n",
      "\u001b[0;31mKeyboardInterrupt\u001b[0m: "
     ]
    }
   ],
   "source": [
    "all_models_per_image_ll = []\n",
    "for n in tqdm(range(100)):\n",
    "    crit_eps_per, correct = crit_eps_one_image_pgd(modeltype = \"ll\", n = 1)\n",
    "    all_models_per_image_ll.append(np.array(crit_eps_per.cpu()))"
   ]
  },
  {
   "cell_type": "code",
   "execution_count": 35,
   "id": "c0eafbcf",
   "metadata": {},
   "outputs": [
    {
     "data": {
      "image/png": "[encoded data removed]",
      "text/plain": [
       "<Figure size 640x480 with 1 Axes>"
      ]
     },
     "metadata": {},
     "output_type": "display_data"
    }
   ],
   "source": [
    "plt.boxplot(np.array(crit_eps_per.cpu()), showfliers=False)\n",
    "#plt.xticks([1,2],[\"BP\",\"LL\"])\n",
    "plt.ylabel(\"Critical epsilon\")\n",
    "plt.title(f\"Model number {1}\")\n",
    "plt.show()"
   ]
  },
  {
   "cell_type": "code",
   "execution_count": null,
   "id": "2aae0464",
   "metadata": {},
   "outputs": [],
   "source": [
    "all_models_per_image_bp = []\n",
    "for n in tqdm(range(100)):\n",
    "    crit_eps_per = crit_eps_one_model(\"bp\",n,FGSM)\n",
    "    all_models_per_image_bp.append(np.array(crit_eps_per.cpu()))"
   ]
  },
  {
   "cell_type": "code",
   "execution_count": null,
   "id": "476056c0",
   "metadata": {},
   "outputs": [],
   "source": [
    "all_models_per_image_ll_pgd = []\n",
    "for n in tqdm(range(100)):\n",
    "    crit_eps_per = crit_eps_one_model(\"ll\",n,PGD)\n",
    "    all_models_per_image_ll_pgd.append(np.array(crit_eps_per.cpu()))"
   ]
  },
  {
   "cell_type": "code",
   "execution_count": null,
   "id": "6e494127",
   "metadata": {},
   "outputs": [],
   "source": [
    "all_models_per_image_bp_pgd = []\n",
    "for n in tqdm(range(100)):\n",
    "    crit_eps_per = crit_eps_one_model(\"bp\",n,PGD)\n",
    "    all_models_per_image_bp_pgd.append(np.array(crit_eps_per.cpu()))"
   ]
  },
  {
   "cell_type": "code",
   "execution_count": null,
   "id": "e068d0ce",
   "metadata": {},
   "outputs": [],
   "source": [
    "long_epslist = [0.0001*i for i in range(1,100)]\n",
    "crit_eps_bp = crit_eps_one_model(\"bp\",n,FGSM,long_epslist)\n",
    "crit_eps_ll = crit_eps_one_model(\"ll\",n,FGSM,long_epslist)"
   ]
  },
  {
   "cell_type": "code",
   "execution_count": null,
   "id": "cc05cc16",
   "metadata": {},
   "outputs": [],
   "source": [
    "last_eps = long_epslist[-1]\n",
    "corr = (howlong_ll==last_eps)\n",
    "print(torch.sum(corr))"
   ]
  },
  {
   "cell_type": "code",
   "execution_count": null,
   "id": "f9d77913",
   "metadata": {},
   "outputs": [],
   "source": [
    "n = 1\n",
    "plt.boxplot([all_models_per_image_bp[n],all_models_per_image_ll[n]])\n",
    "plt.xticks([1,2],[\"BP\",\"LL\"])\n",
    "plt.ylabel(\"Critical epsilon\")\n",
    "plt.title(f\"Model number {n}\")\n",
    "plt.show()"
   ]
  },
  {
   "cell_type": "code",
   "execution_count": 187,
   "id": "fe59a87c",
   "metadata": {},
   "outputs": [
    {
     "ename": "NameError",
     "evalue": "name 'all_models_per_image_bp' is not defined",
     "output_type": "error",
     "traceback": [
      "\u001b[0;31m---------------------------------------------------------------------------\u001b[0m",
      "\u001b[0;31mNameError\u001b[0m                                 Traceback (most recent call last)",
      "Cell \u001b[0;32mIn[187], line 2\u001b[0m\n\u001b[1;32m      1\u001b[0m flat_ll \u001b[38;5;241m=\u001b[39m [item \u001b[38;5;28;01mfor\u001b[39;00m sublist \u001b[38;5;129;01min\u001b[39;00m all_models_per_image_ll \u001b[38;5;28;01mfor\u001b[39;00m item \u001b[38;5;129;01min\u001b[39;00m sublist]\n\u001b[0;32m----> 2\u001b[0m flat_bp \u001b[38;5;241m=\u001b[39m [item \u001b[38;5;28;01mfor\u001b[39;00m sublist \u001b[38;5;129;01min\u001b[39;00m \u001b[43mall_models_per_image_bp\u001b[49m \u001b[38;5;28;01mfor\u001b[39;00m item \u001b[38;5;129;01min\u001b[39;00m sublist]\n\u001b[1;32m      4\u001b[0m boxplotfgsm \u001b[38;5;241m=\u001b[39m plt\u001b[38;5;241m.\u001b[39mboxplot([flat_bp,flat_ll])\u001b[38;5;66;03m#,showfliers=False)\u001b[39;00m\n\u001b[1;32m      5\u001b[0m plt\u001b[38;5;241m.\u001b[39mxticks([\u001b[38;5;241m1\u001b[39m,\u001b[38;5;241m2\u001b[39m],[\u001b[38;5;124m\"\u001b[39m\u001b[38;5;124mAll bp models\u001b[39m\u001b[38;5;124m\"\u001b[39m,\u001b[38;5;124m\"\u001b[39m\u001b[38;5;124mAll ll models\u001b[39m\u001b[38;5;124m\"\u001b[39m])\n",
      "\u001b[0;31mNameError\u001b[0m: name 'all_models_per_image_bp' is not defined"
     ]
    }
   ],
   "source": [
    "flat_ll = [item for sublist in all_models_per_image_ll for item in sublist]\n",
    "flat_bp = [item for sublist in all_models_per_image_bp for item in sublist]\n",
    "\n",
    "boxplotfgsm = plt.boxplot([flat_bp,flat_ll])#,showfliers=False)\n",
    "plt.xticks([1,2],[\"All bp models\",\"All ll models\"])\n",
    "plt.ylabel(\"Critical epsilon\")\n",
    "plt.title(\"Epsilons for misclassification for FGSM\")\n",
    "plt.show()\n",
    "\n",
    "meds = [item.get_ydata() for item in boxplotfgsm[\"medians\"]]\n",
    "print(meds)"
   ]
  },
  {
   "cell_type": "code",
   "execution_count": null,
   "id": "2301952b",
   "metadata": {},
   "outputs": [],
   "source": [
    "#bp_spectra = all_models_per_image_bp[scales_stringer_spectra]\n",
    "\n",
    "x = scales_stringer_spectra\n",
    "y = all_models_per_image_bp\n",
    "stringer_bp = [b for a, b in zip(x, y) if a]\n",
    "not_stringer_bp = [b for a, b in zip(x, y) if not a]\n",
    "y = all_models_per_image_ll\n",
    "stringer_ll = [b for a, b in zip(x, y) if a]\n",
    "not_stringer_ll = [b for a, b in zip(x, y) if not a]"
   ]
  },
  {
   "cell_type": "code",
   "execution_count": null,
   "id": "facb86fb",
   "metadata": {},
   "outputs": [],
   "source": [
    "flat_ll_stringer = [item for sublist in stringer_ll for item in sublist]\n",
    "flat_ll_not_stringer = [item for sublist in not_stringer_ll for item in sublist]\n",
    "\n",
    "boxplot = plt.boxplot([flat_ll_stringer,flat_ll_not_stringer],showfliers=False)\n",
    "plt.xticks([1,2],[\"Spectrum = TRUE\",\"Spectrum = FALSE\"])\n",
    "plt.ylabel(\"Critical epsilon\")\n",
    "plt.title(\"Epsilons for misclassification for FGSM on ll models\")\n",
    "plt.show()\n",
    "\n",
    "meds = [item.get_ydata() for item in boxplot[\"medians\"]]\n",
    "print(meds)\n",
    "print((meds[0]==meds[1]).all())"
   ]
  },
  {
   "cell_type": "code",
   "execution_count": 186,
   "id": "7b2e9011",
   "metadata": {},
   "outputs": [
    {
     "ename": "NameError",
     "evalue": "name 'stringer_bp' is not defined",
     "output_type": "error",
     "traceback": [
      "\u001b[0;31m---------------------------------------------------------------------------\u001b[0m",
      "\u001b[0;31mNameError\u001b[0m                                 Traceback (most recent call last)",
      "Cell \u001b[0;32mIn[186], line 1\u001b[0m\n\u001b[0;32m----> 1\u001b[0m flat_bp_stringer \u001b[38;5;241m=\u001b[39m [item \u001b[38;5;28;01mfor\u001b[39;00m sublist \u001b[38;5;129;01min\u001b[39;00m \u001b[43mstringer_bp\u001b[49m \u001b[38;5;28;01mfor\u001b[39;00m item \u001b[38;5;129;01min\u001b[39;00m sublist]\n\u001b[1;32m      2\u001b[0m flat_bp_not_stringer \u001b[38;5;241m=\u001b[39m [item \u001b[38;5;28;01mfor\u001b[39;00m sublist \u001b[38;5;129;01min\u001b[39;00m not_stringer_bp \u001b[38;5;28;01mfor\u001b[39;00m item \u001b[38;5;129;01min\u001b[39;00m sublist]\n\u001b[1;32m      4\u001b[0m plt\u001b[38;5;241m.\u001b[39mboxplot([flat_bp_stringer,flat_bp_not_stringer],showfliers\u001b[38;5;241m=\u001b[39m\u001b[38;5;28;01mFalse\u001b[39;00m)\n",
      "\u001b[0;31mNameError\u001b[0m: name 'stringer_bp' is not defined"
     ]
    }
   ],
   "source": [
    "flat_bp_stringer = [item for sublist in stringer_bp for item in sublist]\n",
    "flat_bp_not_stringer = [item for sublist in not_stringer_bp for item in sublist]\n",
    "\n",
    "plt.boxplot([flat_bp_stringer,flat_bp_not_stringer],showfliers=False)\n",
    "plt.xticks([1,2],[\"Spectrum = TRUE\",\"Spectrum = FALSE\"])\n",
    "plt.ylabel(\"Critical epsilon\")\n",
    "plt.title(\"Epsilons for misclassification for FGSM on bp models\")\n",
    "plt.show()\n",
    "\n",
    "meds = [item.get_ydata() for item in boxplot[\"medians\"]]\n",
    "print((meds[0]==meds[1]).all())"
   ]
  },
  {
   "cell_type": "code",
   "execution_count": null,
   "id": "6074e019",
   "metadata": {},
   "outputs": [],
   "source": [
    "flat_ll_pgd = [item for sublist in all_models_per_image_ll_pgd for item in sublist]\n",
    "flat_bp_pgd = [item for sublist in all_models_per_image_bp_pgd for item in sublist]\n",
    "boxp = plt.boxplot([flat_bp_pgd,flat_ll_pgd])#,showfliers=False)\n",
    "plt.xticks([1,2],[\"All bp models\",\"All ll models\"])\n",
    "plt.ylabel(\"Critical epsilon\")\n",
    "plt.title(\"Epsilons for misclassification for PGD\")\n",
    "plt.show()\n",
    "\n",
    "meds = [item.get_ydata() for item in boxp[\"medians\"]]\n",
    "print(meds)"
   ]
  }
 ],
 "metadata": {
  "kernelspec": {
   "display_name": "Python 3 (ipykernel)",
   "language": "python",
   "name": "python3"
  },
  "language_info": {
   "codemirror_mode": {
    "name": "ipython",
    "version": 3
   },
   "file_extension": ".py",
   "mimetype": "text/x-python",
   "name": "python",
   "nbconvert_exporter": "python",
   "pygments_lexer": "ipython3",
   "version": "3.9.1"
  }
 },
 "nbformat": 4,
 "nbformat_minor": 5
}
